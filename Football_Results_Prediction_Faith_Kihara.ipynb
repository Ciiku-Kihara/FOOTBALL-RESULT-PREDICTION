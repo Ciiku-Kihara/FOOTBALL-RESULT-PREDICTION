{
  "nbformat": 4,
  "nbformat_minor": 0,
  "metadata": {
    "colab": {
      "name": "Football_Results_Prediction_Faith_Kihara",
      "provenance": [],
      "collapsed_sections": [
        "PuD_C5YaqsF9",
        "I4GnVUOLlkeP"
      ],
      "toc_visible": true,
      "authorship_tag": "ABX9TyMPlzQLOD6L+TWxa0WG37gu",
      "include_colab_link": true
    },
    "kernelspec": {
      "name": "python3",
      "display_name": "Python 3"
    },
    "language_info": {
      "name": "python"
    }
  },
  "cells": [
    {
      "cell_type": "markdown",
      "metadata": {
        "id": "view-in-github",
        "colab_type": "text"
      },
      "source": [
        "<a href=\"https://colab.research.google.com/github/Ciiku-Kihara/FOOTBALL-RESULT-PREDICTION/blob/main/Football_Results_Prediction_Faith_Kihara.ipynb\" target=\"_parent\"><img src=\"https://colab.research.google.com/assets/colab-badge.svg\" alt=\"Open In Colab\"/></a>"
      ]
    },
    {
      "cell_type": "markdown",
      "metadata": {
        "id": "pd5irNS3iaKZ"
      },
      "source": [
        "## 1. Defining the question"
      ]
    },
    {
      "cell_type": "markdown",
      "metadata": {
        "id": "of8TImWOiilF"
      },
      "source": [
        "### a) Defining the question\n",
        "Predict the result of a game between team 1 and team 2, based on who's home and who's away, and on whether or not the game is friendly including the ranks of the respective teams."
      ]
    },
    {
      "cell_type": "markdown",
      "metadata": {
        "id": "u2k216FFiuR0"
      },
      "source": [
        "### b) Defining the metric for success\n",
        "\n",
        "Build successful logistic and polynomial models with maximum possible accuracy and run heteroskedasticity and multicollinearity tests"
      ]
    },
    {
      "cell_type": "markdown",
      "metadata": {
        "id": "R_U8lzSIiyqF"
      },
      "source": [
        "### c) Understanding the context\n",
        "\n",
        "The men's FIFA World Ranking is a ranking system for men's national teams in association football, currently led by Belgium.The teams of the men's member nations of FIFA, football's world governing body, are ranked based on their game results with the most successful teams being ranked highest. The rankings were introduced in December 1992, and eight teams (Argentina, Belgium, Brazil, France, Germany, Italy, the Netherlands and Spain) have held the top position, of which Brazil have spent the longest ranked first."
      ]
    },
    {
      "cell_type": "markdown",
      "metadata": {
        "id": "XaVkBL4fi3zx"
      },
      "source": [
        "### d) Recording the experimental design\n",
        "\n",
        "- Merge datasets\n",
        "- Perform cleaning\n",
        "- Perform Explanatory Data Analysis\n",
        "- Perform any necessary feature engineering\n",
        "- Performing multicollinearity tests\n",
        "- Building logistic and polynomial models\n",
        "    * Approach 1: Polynomial regression model\n",
        "    \n",
        "        * Model 1: Predict how many goals the home team scores\n",
        "        * Model 2: Predict how many goals the away team scores\n",
        "\n",
        "    * Approach 2: Logistic regression model\n",
        "    \n",
        "         * Figure out from the home team’s perspective if the game is a Win, Loss or Draw (W, L, D)\n",
        "   \n",
        "- Cross-validate the model using K fold cross-validation\n",
        "- Compute Root Mean Squared Error\n",
        "- Create residual plots for the models\n",
        "- Assess Heteroscedasticity using Bartlett’s test\n",
        "- Challenge the solution.\n"
      ]
    },
    {
      "cell_type": "markdown",
      "metadata": {
        "id": "kMBWnfU8i-lw"
      },
      "source": [
        "### e) Data Relevance\n",
        "\n",
        "The data is relevant to answer the gived question"
      ]
    },
    {
      "cell_type": "markdown",
      "metadata": {
        "id": "Hzs-empTjGB1"
      },
      "source": [
        "## 2. Importing relevant libraries"
      ]
    },
    {
      "cell_type": "code",
      "metadata": {
        "id": "loG1F0qGjMfY"
      },
      "source": [
        "# Loading necessary libraries\n",
        "\n",
        "import numpy as np\n",
        "import pandas as pd\n",
        "import seaborn as sns\n",
        "import matplotlib.pyplot as plt\n",
        "from sklearn.linear_model import LogisticRegression\n",
        "from sklearn.model_selection import cross_val_score\n",
        "from sklearn.model_selection import RandomizedSearchCV\n",
        "from sklearn.model_selection import train_test_split\n",
        "from sklearn.linear_model import LinearRegression\n",
        "from sklearn.preprocessing import PolynomialFeatures\n",
        "from sklearn.metrics import accuracy_score\n",
        "from sklearn import metrics\n",
        "from sklearn.model_selection import GridSearchCV"
      ],
      "execution_count": null,
      "outputs": []
    },
    {
      "cell_type": "markdown",
      "metadata": {
        "id": "L-5HZo5KjNJr"
      },
      "source": [
        "## 3. Loading and checking the data"
      ]
    },
    {
      "cell_type": "code",
      "metadata": {
        "colab": {
          "base_uri": "https://localhost:8080/",
          "height": 299
        },
        "id": "C-zxDsQxjSUj",
        "outputId": "2b454ca6-c812-4285-fc40-ffbd082be471"
      },
      "source": [
        "# Loading the rank dataset and previewing the first 5 observations\n",
        "\n",
        "rank  = pd.read_csv('fifa_ranking.csv')\n",
        "rank.head()"
      ],
      "execution_count": null,
      "outputs": [
        {
          "output_type": "execute_result",
          "data": {
            "text/html": [
              "<div>\n",
              "<style scoped>\n",
              "    .dataframe tbody tr th:only-of-type {\n",
              "        vertical-align: middle;\n",
              "    }\n",
              "\n",
              "    .dataframe tbody tr th {\n",
              "        vertical-align: top;\n",
              "    }\n",
              "\n",
              "    .dataframe thead th {\n",
              "        text-align: right;\n",
              "    }\n",
              "</style>\n",
              "<table border=\"1\" class=\"dataframe\">\n",
              "  <thead>\n",
              "    <tr style=\"text-align: right;\">\n",
              "      <th></th>\n",
              "      <th>rank</th>\n",
              "      <th>country_full</th>\n",
              "      <th>country_abrv</th>\n",
              "      <th>total_points</th>\n",
              "      <th>previous_points</th>\n",
              "      <th>rank_change</th>\n",
              "      <th>cur_year_avg</th>\n",
              "      <th>cur_year_avg_weighted</th>\n",
              "      <th>last_year_avg</th>\n",
              "      <th>last_year_avg_weighted</th>\n",
              "      <th>two_year_ago_avg</th>\n",
              "      <th>two_year_ago_weighted</th>\n",
              "      <th>three_year_ago_avg</th>\n",
              "      <th>three_year_ago_weighted</th>\n",
              "      <th>confederation</th>\n",
              "      <th>rank_date</th>\n",
              "    </tr>\n",
              "  </thead>\n",
              "  <tbody>\n",
              "    <tr>\n",
              "      <th>0</th>\n",
              "      <td>1</td>\n",
              "      <td>Germany</td>\n",
              "      <td>GER</td>\n",
              "      <td>0.0</td>\n",
              "      <td>57</td>\n",
              "      <td>0</td>\n",
              "      <td>0.0</td>\n",
              "      <td>0.0</td>\n",
              "      <td>0.0</td>\n",
              "      <td>0.0</td>\n",
              "      <td>0.0</td>\n",
              "      <td>0.0</td>\n",
              "      <td>0.0</td>\n",
              "      <td>0.0</td>\n",
              "      <td>UEFA</td>\n",
              "      <td>1993-08-08</td>\n",
              "    </tr>\n",
              "    <tr>\n",
              "      <th>1</th>\n",
              "      <td>2</td>\n",
              "      <td>Italy</td>\n",
              "      <td>ITA</td>\n",
              "      <td>0.0</td>\n",
              "      <td>57</td>\n",
              "      <td>0</td>\n",
              "      <td>0.0</td>\n",
              "      <td>0.0</td>\n",
              "      <td>0.0</td>\n",
              "      <td>0.0</td>\n",
              "      <td>0.0</td>\n",
              "      <td>0.0</td>\n",
              "      <td>0.0</td>\n",
              "      <td>0.0</td>\n",
              "      <td>UEFA</td>\n",
              "      <td>1993-08-08</td>\n",
              "    </tr>\n",
              "    <tr>\n",
              "      <th>2</th>\n",
              "      <td>3</td>\n",
              "      <td>Switzerland</td>\n",
              "      <td>SUI</td>\n",
              "      <td>0.0</td>\n",
              "      <td>50</td>\n",
              "      <td>9</td>\n",
              "      <td>0.0</td>\n",
              "      <td>0.0</td>\n",
              "      <td>0.0</td>\n",
              "      <td>0.0</td>\n",
              "      <td>0.0</td>\n",
              "      <td>0.0</td>\n",
              "      <td>0.0</td>\n",
              "      <td>0.0</td>\n",
              "      <td>UEFA</td>\n",
              "      <td>1993-08-08</td>\n",
              "    </tr>\n",
              "    <tr>\n",
              "      <th>3</th>\n",
              "      <td>4</td>\n",
              "      <td>Sweden</td>\n",
              "      <td>SWE</td>\n",
              "      <td>0.0</td>\n",
              "      <td>55</td>\n",
              "      <td>0</td>\n",
              "      <td>0.0</td>\n",
              "      <td>0.0</td>\n",
              "      <td>0.0</td>\n",
              "      <td>0.0</td>\n",
              "      <td>0.0</td>\n",
              "      <td>0.0</td>\n",
              "      <td>0.0</td>\n",
              "      <td>0.0</td>\n",
              "      <td>UEFA</td>\n",
              "      <td>1993-08-08</td>\n",
              "    </tr>\n",
              "    <tr>\n",
              "      <th>4</th>\n",
              "      <td>5</td>\n",
              "      <td>Argentina</td>\n",
              "      <td>ARG</td>\n",
              "      <td>0.0</td>\n",
              "      <td>51</td>\n",
              "      <td>5</td>\n",
              "      <td>0.0</td>\n",
              "      <td>0.0</td>\n",
              "      <td>0.0</td>\n",
              "      <td>0.0</td>\n",
              "      <td>0.0</td>\n",
              "      <td>0.0</td>\n",
              "      <td>0.0</td>\n",
              "      <td>0.0</td>\n",
              "      <td>CONMEBOL</td>\n",
              "      <td>1993-08-08</td>\n",
              "    </tr>\n",
              "  </tbody>\n",
              "</table>\n",
              "</div>"
            ],
            "text/plain": [
              "   rank country_full  ... confederation   rank_date\n",
              "0     1      Germany  ...          UEFA  1993-08-08\n",
              "1     2        Italy  ...          UEFA  1993-08-08\n",
              "2     3  Switzerland  ...          UEFA  1993-08-08\n",
              "3     4       Sweden  ...          UEFA  1993-08-08\n",
              "4     5    Argentina  ...      CONMEBOL  1993-08-08\n",
              "\n",
              "[5 rows x 16 columns]"
            ]
          },
          "metadata": {
            "tags": []
          },
          "execution_count": 6
        }
      ]
    },
    {
      "cell_type": "code",
      "metadata": {
        "colab": {
          "base_uri": "https://localhost:8080/",
          "height": 195
        },
        "id": "eaZcMDodmj1D",
        "outputId": "0eca669e-dcb1-481d-a598-43ba94fae67b"
      },
      "source": [
        "# Loading the results dataset and previewing the first 5 observations\n",
        "\n",
        "results = pd.read_csv('results.csv')\n",
        "results.head()"
      ],
      "execution_count": null,
      "outputs": [
        {
          "output_type": "execute_result",
          "data": {
            "text/html": [
              "<div>\n",
              "<style scoped>\n",
              "    .dataframe tbody tr th:only-of-type {\n",
              "        vertical-align: middle;\n",
              "    }\n",
              "\n",
              "    .dataframe tbody tr th {\n",
              "        vertical-align: top;\n",
              "    }\n",
              "\n",
              "    .dataframe thead th {\n",
              "        text-align: right;\n",
              "    }\n",
              "</style>\n",
              "<table border=\"1\" class=\"dataframe\">\n",
              "  <thead>\n",
              "    <tr style=\"text-align: right;\">\n",
              "      <th></th>\n",
              "      <th>date</th>\n",
              "      <th>home_team</th>\n",
              "      <th>away_team</th>\n",
              "      <th>home_score</th>\n",
              "      <th>away_score</th>\n",
              "      <th>tournament</th>\n",
              "      <th>city</th>\n",
              "      <th>country</th>\n",
              "      <th>neutral</th>\n",
              "    </tr>\n",
              "  </thead>\n",
              "  <tbody>\n",
              "    <tr>\n",
              "      <th>0</th>\n",
              "      <td>1872-11-30</td>\n",
              "      <td>Scotland</td>\n",
              "      <td>England</td>\n",
              "      <td>0</td>\n",
              "      <td>0</td>\n",
              "      <td>Friendly</td>\n",
              "      <td>Glasgow</td>\n",
              "      <td>Scotland</td>\n",
              "      <td>False</td>\n",
              "    </tr>\n",
              "    <tr>\n",
              "      <th>1</th>\n",
              "      <td>1873-03-08</td>\n",
              "      <td>England</td>\n",
              "      <td>Scotland</td>\n",
              "      <td>4</td>\n",
              "      <td>2</td>\n",
              "      <td>Friendly</td>\n",
              "      <td>London</td>\n",
              "      <td>England</td>\n",
              "      <td>False</td>\n",
              "    </tr>\n",
              "    <tr>\n",
              "      <th>2</th>\n",
              "      <td>1874-03-07</td>\n",
              "      <td>Scotland</td>\n",
              "      <td>England</td>\n",
              "      <td>2</td>\n",
              "      <td>1</td>\n",
              "      <td>Friendly</td>\n",
              "      <td>Glasgow</td>\n",
              "      <td>Scotland</td>\n",
              "      <td>False</td>\n",
              "    </tr>\n",
              "    <tr>\n",
              "      <th>3</th>\n",
              "      <td>1875-03-06</td>\n",
              "      <td>England</td>\n",
              "      <td>Scotland</td>\n",
              "      <td>2</td>\n",
              "      <td>2</td>\n",
              "      <td>Friendly</td>\n",
              "      <td>London</td>\n",
              "      <td>England</td>\n",
              "      <td>False</td>\n",
              "    </tr>\n",
              "    <tr>\n",
              "      <th>4</th>\n",
              "      <td>1876-03-04</td>\n",
              "      <td>Scotland</td>\n",
              "      <td>England</td>\n",
              "      <td>3</td>\n",
              "      <td>0</td>\n",
              "      <td>Friendly</td>\n",
              "      <td>Glasgow</td>\n",
              "      <td>Scotland</td>\n",
              "      <td>False</td>\n",
              "    </tr>\n",
              "  </tbody>\n",
              "</table>\n",
              "</div>"
            ],
            "text/plain": [
              "         date home_team away_team  ...     city   country neutral\n",
              "0  1872-11-30  Scotland   England  ...  Glasgow  Scotland   False\n",
              "1  1873-03-08   England  Scotland  ...   London   England   False\n",
              "2  1874-03-07  Scotland   England  ...  Glasgow  Scotland   False\n",
              "3  1875-03-06   England  Scotland  ...   London   England   False\n",
              "4  1876-03-04  Scotland   England  ...  Glasgow  Scotland   False\n",
              "\n",
              "[5 rows x 9 columns]"
            ]
          },
          "metadata": {
            "tags": []
          },
          "execution_count": 7
        }
      ]
    },
    {
      "cell_type": "code",
      "metadata": {
        "colab": {
          "base_uri": "https://localhost:8080/"
        },
        "id": "hQXC_SSOnjWy",
        "outputId": "f44c35ee-469b-47ac-9fd0-eb256608ac94"
      },
      "source": [
        "# Checking the shape of the two datasets\n",
        "\n",
        "print('Rank dataset:', rank.shape)\n",
        "print(' ')\n",
        "print('Results dataset:', results.shape)\n",
        "\n",
        "# The rank dataset has 57793 observations and 16 columns\n",
        "# The results dataset has 40839 observations and 9 columns"
      ],
      "execution_count": null,
      "outputs": [
        {
          "output_type": "stream",
          "text": [
            "Rank dataset: (57793, 16)\n",
            " \n",
            "Results dataset: (40839, 9)\n"
          ],
          "name": "stdout"
        }
      ]
    },
    {
      "cell_type": "code",
      "metadata": {
        "colab": {
          "base_uri": "https://localhost:8080/"
        },
        "id": "vlfKsojfq71e",
        "outputId": "a45e1f47-2569-4606-fc68-6443fa17ba33"
      },
      "source": [
        "# Looking at the columns we have in each dataset\n",
        "\n",
        "print('Ranking dataset columns:')\n",
        "print(rank.columns)\n",
        "print(' ')\n",
        "print('Results dataset columns:')\n",
        "print(results.columns)"
      ],
      "execution_count": null,
      "outputs": [
        {
          "output_type": "stream",
          "text": [
            "Ranking dataset columns:\n",
            "Index(['rank', 'country_full', 'country_abrv', 'total_points',\n",
            "       'previous_points', 'rank_change', 'cur_year_avg',\n",
            "       'cur_year_avg_weighted', 'last_year_avg', 'last_year_avg_weighted',\n",
            "       'two_year_ago_avg', 'two_year_ago_weighted', 'three_year_ago_avg',\n",
            "       'three_year_ago_weighted', 'confederation', 'rank_date'],\n",
            "      dtype='object')\n",
            " \n",
            "Results dataset columns:\n",
            "Index(['date', 'home_team', 'away_team', 'home_score', 'away_score',\n",
            "       'tournament', 'city', 'country', 'neutral'],\n",
            "      dtype='object')\n"
          ],
          "name": "stdout"
        }
      ]
    },
    {
      "cell_type": "code",
      "metadata": {
        "colab": {
          "base_uri": "https://localhost:8080/"
        },
        "id": "lkL0Ku3BoSRO",
        "outputId": "f8be1d56-aaf6-4681-a5f9-f7495a954568"
      },
      "source": [
        "# Checking if the columns are of the appropriate data types\n",
        "\n",
        "print('Ranking dataset column datatypes:')\n",
        "print(rank.dtypes)\n",
        "print(' ')\n",
        "print('Results dataset column datatypes:')\n",
        "print(results.dtypes)\n",
        "\n",
        "# The date columns in both the datasets are of the wrong datatype.\n",
        "# They should not be strings but datetype objects. I will deal with that under data cleaning"
      ],
      "execution_count": null,
      "outputs": [
        {
          "output_type": "stream",
          "text": [
            "Ranking dataset column datatypes:\n",
            "rank                         int64\n",
            "country_full                object\n",
            "country_abrv                object\n",
            "total_points               float64\n",
            "previous_points              int64\n",
            "rank_change                  int64\n",
            "cur_year_avg               float64\n",
            "cur_year_avg_weighted      float64\n",
            "last_year_avg              float64\n",
            "last_year_avg_weighted     float64\n",
            "two_year_ago_avg           float64\n",
            "two_year_ago_weighted      float64\n",
            "three_year_ago_avg         float64\n",
            "three_year_ago_weighted    float64\n",
            "confederation               object\n",
            "rank_date                   object\n",
            "dtype: object\n",
            " \n",
            "Results dataset column datatypes:\n",
            "date          object\n",
            "home_team     object\n",
            "away_team     object\n",
            "home_score     int64\n",
            "away_score     int64\n",
            "tournament    object\n",
            "city          object\n",
            "country       object\n",
            "neutral         bool\n",
            "dtype: object\n"
          ],
          "name": "stdout"
        }
      ]
    },
    {
      "cell_type": "markdown",
      "metadata": {
        "id": "twSobcj1jZLK"
      },
      "source": [
        "## 4. External data source validation"
      ]
    },
    {
      "cell_type": "markdown",
      "metadata": {
        "id": "OyGl3jSld8EF"
      },
      "source": [
        "The datasets are validated using figures found on the FIFA website.\n",
        "\n",
        "Link: https://www.fifa.com/fifa-world-ranking/"
      ]
    },
    {
      "cell_type": "markdown",
      "metadata": {
        "id": "SJ1vx_oyja4l"
      },
      "source": [
        "## 5. Merging datasets and Data Cleaning"
      ]
    },
    {
      "cell_type": "markdown",
      "metadata": {
        "id": "PuD_C5YaqsF9"
      },
      "source": [
        "###a) Merging the datasets"
      ]
    },
    {
      "cell_type": "markdown",
      "metadata": {
        "id": "B-agiQ9njDeY"
      },
      "source": [
        "**Assumptions made in merging datasets**\n",
        "\n",
        "The ranking of teams was done every month as shown in the FIFA website. Hence merging is done on month and year"
      ]
    },
    {
      "cell_type": "code",
      "metadata": {
        "colab": {
          "base_uri": "https://localhost:8080/",
          "height": 195
        },
        "id": "E9ny9IJAjmQw",
        "outputId": "2a6a7300-0da3-4f84-c5f1-bea9d4b0906d"
      },
      "source": [
        "# I will drop the unnecessary columns in the rank dataset at first glance\n",
        "\n",
        "rank.drop(['cur_year_avg',\n",
        "       'cur_year_avg_weighted', 'last_year_avg', 'last_year_avg_weighted',\n",
        "       'two_year_ago_avg', 'two_year_ago_weighted', 'three_year_ago_avg',\n",
        "       'three_year_ago_weighted'], axis = 1, inplace=True)\n",
        "\n",
        "rank.head()"
      ],
      "execution_count": null,
      "outputs": [
        {
          "output_type": "execute_result",
          "data": {
            "text/html": [
              "<div>\n",
              "<style scoped>\n",
              "    .dataframe tbody tr th:only-of-type {\n",
              "        vertical-align: middle;\n",
              "    }\n",
              "\n",
              "    .dataframe tbody tr th {\n",
              "        vertical-align: top;\n",
              "    }\n",
              "\n",
              "    .dataframe thead th {\n",
              "        text-align: right;\n",
              "    }\n",
              "</style>\n",
              "<table border=\"1\" class=\"dataframe\">\n",
              "  <thead>\n",
              "    <tr style=\"text-align: right;\">\n",
              "      <th></th>\n",
              "      <th>rank</th>\n",
              "      <th>country_full</th>\n",
              "      <th>country_abrv</th>\n",
              "      <th>total_points</th>\n",
              "      <th>previous_points</th>\n",
              "      <th>rank_change</th>\n",
              "      <th>confederation</th>\n",
              "      <th>rank_date</th>\n",
              "    </tr>\n",
              "  </thead>\n",
              "  <tbody>\n",
              "    <tr>\n",
              "      <th>0</th>\n",
              "      <td>1</td>\n",
              "      <td>Germany</td>\n",
              "      <td>GER</td>\n",
              "      <td>0.0</td>\n",
              "      <td>57</td>\n",
              "      <td>0</td>\n",
              "      <td>UEFA</td>\n",
              "      <td>1993-08-08</td>\n",
              "    </tr>\n",
              "    <tr>\n",
              "      <th>1</th>\n",
              "      <td>2</td>\n",
              "      <td>Italy</td>\n",
              "      <td>ITA</td>\n",
              "      <td>0.0</td>\n",
              "      <td>57</td>\n",
              "      <td>0</td>\n",
              "      <td>UEFA</td>\n",
              "      <td>1993-08-08</td>\n",
              "    </tr>\n",
              "    <tr>\n",
              "      <th>2</th>\n",
              "      <td>3</td>\n",
              "      <td>Switzerland</td>\n",
              "      <td>SUI</td>\n",
              "      <td>0.0</td>\n",
              "      <td>50</td>\n",
              "      <td>9</td>\n",
              "      <td>UEFA</td>\n",
              "      <td>1993-08-08</td>\n",
              "    </tr>\n",
              "    <tr>\n",
              "      <th>3</th>\n",
              "      <td>4</td>\n",
              "      <td>Sweden</td>\n",
              "      <td>SWE</td>\n",
              "      <td>0.0</td>\n",
              "      <td>55</td>\n",
              "      <td>0</td>\n",
              "      <td>UEFA</td>\n",
              "      <td>1993-08-08</td>\n",
              "    </tr>\n",
              "    <tr>\n",
              "      <th>4</th>\n",
              "      <td>5</td>\n",
              "      <td>Argentina</td>\n",
              "      <td>ARG</td>\n",
              "      <td>0.0</td>\n",
              "      <td>51</td>\n",
              "      <td>5</td>\n",
              "      <td>CONMEBOL</td>\n",
              "      <td>1993-08-08</td>\n",
              "    </tr>\n",
              "  </tbody>\n",
              "</table>\n",
              "</div>"
            ],
            "text/plain": [
              "   rank country_full country_abrv  ...  rank_change  confederation   rank_date\n",
              "0     1      Germany          GER  ...            0           UEFA  1993-08-08\n",
              "1     2        Italy          ITA  ...            0           UEFA  1993-08-08\n",
              "2     3  Switzerland          SUI  ...            9           UEFA  1993-08-08\n",
              "3     4       Sweden          SWE  ...            0           UEFA  1993-08-08\n",
              "4     5    Argentina          ARG  ...            5       CONMEBOL  1993-08-08\n",
              "\n",
              "[5 rows x 8 columns]"
            ]
          },
          "metadata": {
            "tags": []
          },
          "execution_count": 11
        }
      ]
    },
    {
      "cell_type": "code",
      "metadata": {
        "colab": {
          "base_uri": "https://localhost:8080/",
          "height": 195
        },
        "id": "wox2sJvzrs4n",
        "outputId": "d779cba1-a458-4dec-c61e-f5dfbf7e170b"
      },
      "source": [
        "# Preview of the results dataset\n",
        "\n",
        "results.head()"
      ],
      "execution_count": null,
      "outputs": [
        {
          "output_type": "execute_result",
          "data": {
            "text/html": [
              "<div>\n",
              "<style scoped>\n",
              "    .dataframe tbody tr th:only-of-type {\n",
              "        vertical-align: middle;\n",
              "    }\n",
              "\n",
              "    .dataframe tbody tr th {\n",
              "        vertical-align: top;\n",
              "    }\n",
              "\n",
              "    .dataframe thead th {\n",
              "        text-align: right;\n",
              "    }\n",
              "</style>\n",
              "<table border=\"1\" class=\"dataframe\">\n",
              "  <thead>\n",
              "    <tr style=\"text-align: right;\">\n",
              "      <th></th>\n",
              "      <th>date</th>\n",
              "      <th>home_team</th>\n",
              "      <th>away_team</th>\n",
              "      <th>home_score</th>\n",
              "      <th>away_score</th>\n",
              "      <th>tournament</th>\n",
              "      <th>city</th>\n",
              "      <th>country</th>\n",
              "      <th>neutral</th>\n",
              "    </tr>\n",
              "  </thead>\n",
              "  <tbody>\n",
              "    <tr>\n",
              "      <th>0</th>\n",
              "      <td>1872-11-30</td>\n",
              "      <td>Scotland</td>\n",
              "      <td>England</td>\n",
              "      <td>0</td>\n",
              "      <td>0</td>\n",
              "      <td>Friendly</td>\n",
              "      <td>Glasgow</td>\n",
              "      <td>Scotland</td>\n",
              "      <td>False</td>\n",
              "    </tr>\n",
              "    <tr>\n",
              "      <th>1</th>\n",
              "      <td>1873-03-08</td>\n",
              "      <td>England</td>\n",
              "      <td>Scotland</td>\n",
              "      <td>4</td>\n",
              "      <td>2</td>\n",
              "      <td>Friendly</td>\n",
              "      <td>London</td>\n",
              "      <td>England</td>\n",
              "      <td>False</td>\n",
              "    </tr>\n",
              "    <tr>\n",
              "      <th>2</th>\n",
              "      <td>1874-03-07</td>\n",
              "      <td>Scotland</td>\n",
              "      <td>England</td>\n",
              "      <td>2</td>\n",
              "      <td>1</td>\n",
              "      <td>Friendly</td>\n",
              "      <td>Glasgow</td>\n",
              "      <td>Scotland</td>\n",
              "      <td>False</td>\n",
              "    </tr>\n",
              "    <tr>\n",
              "      <th>3</th>\n",
              "      <td>1875-03-06</td>\n",
              "      <td>England</td>\n",
              "      <td>Scotland</td>\n",
              "      <td>2</td>\n",
              "      <td>2</td>\n",
              "      <td>Friendly</td>\n",
              "      <td>London</td>\n",
              "      <td>England</td>\n",
              "      <td>False</td>\n",
              "    </tr>\n",
              "    <tr>\n",
              "      <th>4</th>\n",
              "      <td>1876-03-04</td>\n",
              "      <td>Scotland</td>\n",
              "      <td>England</td>\n",
              "      <td>3</td>\n",
              "      <td>0</td>\n",
              "      <td>Friendly</td>\n",
              "      <td>Glasgow</td>\n",
              "      <td>Scotland</td>\n",
              "      <td>False</td>\n",
              "    </tr>\n",
              "  </tbody>\n",
              "</table>\n",
              "</div>"
            ],
            "text/plain": [
              "         date home_team away_team  ...     city   country neutral\n",
              "0  1872-11-30  Scotland   England  ...  Glasgow  Scotland   False\n",
              "1  1873-03-08   England  Scotland  ...   London   England   False\n",
              "2  1874-03-07  Scotland   England  ...  Glasgow  Scotland   False\n",
              "3  1875-03-06   England  Scotland  ...   London   England   False\n",
              "4  1876-03-04  Scotland   England  ...  Glasgow  Scotland   False\n",
              "\n",
              "[5 rows x 9 columns]"
            ]
          },
          "metadata": {
            "tags": []
          },
          "execution_count": 12
        }
      ]
    },
    {
      "cell_type": "code",
      "metadata": {
        "colab": {
          "base_uri": "https://localhost:8080/"
        },
        "id": "1LlYdD80sYaW",
        "outputId": "34529220-a892-4d4f-f584-a50aa362b4db"
      },
      "source": [
        "# Changing the date columns to date-time\n",
        "\n",
        "rank['rank_date'] = pd.to_datetime(rank['rank_date'])\n",
        "results['date'] = pd.to_datetime(results['date'])\n",
        "\n",
        "# Checking if the columns are of the appropriate data types after the change\n",
        "\n",
        "print('Ranking dataset column datatypes:')\n",
        "print(rank.dtypes)\n",
        "print(' ')\n",
        "print('Results dataset column datatypes:')\n",
        "print(results.dtypes)"
      ],
      "execution_count": null,
      "outputs": [
        {
          "output_type": "stream",
          "text": [
            "Ranking dataset column datatypes:\n",
            "rank                        int64\n",
            "country_full               object\n",
            "country_abrv               object\n",
            "total_points              float64\n",
            "previous_points             int64\n",
            "rank_change                 int64\n",
            "confederation              object\n",
            "rank_date          datetime64[ns]\n",
            "dtype: object\n",
            " \n",
            "Results dataset column datatypes:\n",
            "date          datetime64[ns]\n",
            "home_team             object\n",
            "away_team             object\n",
            "home_score             int64\n",
            "away_score             int64\n",
            "tournament            object\n",
            "city                  object\n",
            "country               object\n",
            "neutral                 bool\n",
            "dtype: object\n"
          ],
          "name": "stdout"
        }
      ]
    },
    {
      "cell_type": "code",
      "metadata": {
        "colab": {
          "base_uri": "https://localhost:8080/",
          "height": 136
        },
        "id": "ilVot2PutVxH",
        "outputId": "a0a34386-c666-4c15-b80e-1943b60da5a9"
      },
      "source": [
        "# Creating a new column score_diff for the difference between the home team score and away team score\n",
        "\n",
        "results['score_diff'] = results['home_score'] - results['away_score']\n",
        "\n",
        "# Checking if the column has been created\n",
        "\n",
        "results.head(3)"
      ],
      "execution_count": null,
      "outputs": [
        {
          "output_type": "execute_result",
          "data": {
            "text/html": [
              "<div>\n",
              "<style scoped>\n",
              "    .dataframe tbody tr th:only-of-type {\n",
              "        vertical-align: middle;\n",
              "    }\n",
              "\n",
              "    .dataframe tbody tr th {\n",
              "        vertical-align: top;\n",
              "    }\n",
              "\n",
              "    .dataframe thead th {\n",
              "        text-align: right;\n",
              "    }\n",
              "</style>\n",
              "<table border=\"1\" class=\"dataframe\">\n",
              "  <thead>\n",
              "    <tr style=\"text-align: right;\">\n",
              "      <th></th>\n",
              "      <th>date</th>\n",
              "      <th>home_team</th>\n",
              "      <th>away_team</th>\n",
              "      <th>home_score</th>\n",
              "      <th>away_score</th>\n",
              "      <th>tournament</th>\n",
              "      <th>city</th>\n",
              "      <th>country</th>\n",
              "      <th>neutral</th>\n",
              "      <th>score_diff</th>\n",
              "    </tr>\n",
              "  </thead>\n",
              "  <tbody>\n",
              "    <tr>\n",
              "      <th>0</th>\n",
              "      <td>1872-11-30</td>\n",
              "      <td>Scotland</td>\n",
              "      <td>England</td>\n",
              "      <td>0</td>\n",
              "      <td>0</td>\n",
              "      <td>Friendly</td>\n",
              "      <td>Glasgow</td>\n",
              "      <td>Scotland</td>\n",
              "      <td>False</td>\n",
              "      <td>0</td>\n",
              "    </tr>\n",
              "    <tr>\n",
              "      <th>1</th>\n",
              "      <td>1873-03-08</td>\n",
              "      <td>England</td>\n",
              "      <td>Scotland</td>\n",
              "      <td>4</td>\n",
              "      <td>2</td>\n",
              "      <td>Friendly</td>\n",
              "      <td>London</td>\n",
              "      <td>England</td>\n",
              "      <td>False</td>\n",
              "      <td>2</td>\n",
              "    </tr>\n",
              "    <tr>\n",
              "      <th>2</th>\n",
              "      <td>1874-03-07</td>\n",
              "      <td>Scotland</td>\n",
              "      <td>England</td>\n",
              "      <td>2</td>\n",
              "      <td>1</td>\n",
              "      <td>Friendly</td>\n",
              "      <td>Glasgow</td>\n",
              "      <td>Scotland</td>\n",
              "      <td>False</td>\n",
              "      <td>1</td>\n",
              "    </tr>\n",
              "  </tbody>\n",
              "</table>\n",
              "</div>"
            ],
            "text/plain": [
              "        date home_team away_team  ...   country  neutral score_diff\n",
              "0 1872-11-30  Scotland   England  ...  Scotland    False          0\n",
              "1 1873-03-08   England  Scotland  ...   England    False          2\n",
              "2 1874-03-07  Scotland   England  ...  Scotland    False          1\n",
              "\n",
              "[3 rows x 10 columns]"
            ]
          },
          "metadata": {
            "tags": []
          },
          "execution_count": 14
        }
      ]
    },
    {
      "cell_type": "code",
      "metadata": {
        "colab": {
          "base_uri": "https://localhost:8080/",
          "height": 195
        },
        "id": "lzyNZm_buqsM",
        "outputId": "abade28d-ad8e-4258-9f76-813262cfb562"
      },
      "source": [
        "# Creating a column to show if the game was a loss or win from the home team's perspective\n",
        "\n",
        "def home_team(home_goals):\n",
        "    if home_goals > 0:\n",
        "        return 'win'\n",
        "    elif home_goals < 0:\n",
        "        return 'loss'\n",
        "    else:\n",
        "        return 'draw'\n",
        "      \n",
        "results['result'] = results.score_diff.apply(lambda x: home_team(x))\n",
        "\n",
        "# Previewing the dataset\n",
        "\n",
        "results.head()"
      ],
      "execution_count": null,
      "outputs": [
        {
          "output_type": "execute_result",
          "data": {
            "text/html": [
              "<div>\n",
              "<style scoped>\n",
              "    .dataframe tbody tr th:only-of-type {\n",
              "        vertical-align: middle;\n",
              "    }\n",
              "\n",
              "    .dataframe tbody tr th {\n",
              "        vertical-align: top;\n",
              "    }\n",
              "\n",
              "    .dataframe thead th {\n",
              "        text-align: right;\n",
              "    }\n",
              "</style>\n",
              "<table border=\"1\" class=\"dataframe\">\n",
              "  <thead>\n",
              "    <tr style=\"text-align: right;\">\n",
              "      <th></th>\n",
              "      <th>date</th>\n",
              "      <th>home_team</th>\n",
              "      <th>away_team</th>\n",
              "      <th>home_score</th>\n",
              "      <th>away_score</th>\n",
              "      <th>tournament</th>\n",
              "      <th>city</th>\n",
              "      <th>country</th>\n",
              "      <th>neutral</th>\n",
              "      <th>score_diff</th>\n",
              "      <th>result</th>\n",
              "    </tr>\n",
              "  </thead>\n",
              "  <tbody>\n",
              "    <tr>\n",
              "      <th>0</th>\n",
              "      <td>1872-11-30</td>\n",
              "      <td>Scotland</td>\n",
              "      <td>England</td>\n",
              "      <td>0</td>\n",
              "      <td>0</td>\n",
              "      <td>Friendly</td>\n",
              "      <td>Glasgow</td>\n",
              "      <td>Scotland</td>\n",
              "      <td>False</td>\n",
              "      <td>0</td>\n",
              "      <td>draw</td>\n",
              "    </tr>\n",
              "    <tr>\n",
              "      <th>1</th>\n",
              "      <td>1873-03-08</td>\n",
              "      <td>England</td>\n",
              "      <td>Scotland</td>\n",
              "      <td>4</td>\n",
              "      <td>2</td>\n",
              "      <td>Friendly</td>\n",
              "      <td>London</td>\n",
              "      <td>England</td>\n",
              "      <td>False</td>\n",
              "      <td>2</td>\n",
              "      <td>win</td>\n",
              "    </tr>\n",
              "    <tr>\n",
              "      <th>2</th>\n",
              "      <td>1874-03-07</td>\n",
              "      <td>Scotland</td>\n",
              "      <td>England</td>\n",
              "      <td>2</td>\n",
              "      <td>1</td>\n",
              "      <td>Friendly</td>\n",
              "      <td>Glasgow</td>\n",
              "      <td>Scotland</td>\n",
              "      <td>False</td>\n",
              "      <td>1</td>\n",
              "      <td>win</td>\n",
              "    </tr>\n",
              "    <tr>\n",
              "      <th>3</th>\n",
              "      <td>1875-03-06</td>\n",
              "      <td>England</td>\n",
              "      <td>Scotland</td>\n",
              "      <td>2</td>\n",
              "      <td>2</td>\n",
              "      <td>Friendly</td>\n",
              "      <td>London</td>\n",
              "      <td>England</td>\n",
              "      <td>False</td>\n",
              "      <td>0</td>\n",
              "      <td>draw</td>\n",
              "    </tr>\n",
              "    <tr>\n",
              "      <th>4</th>\n",
              "      <td>1876-03-04</td>\n",
              "      <td>Scotland</td>\n",
              "      <td>England</td>\n",
              "      <td>3</td>\n",
              "      <td>0</td>\n",
              "      <td>Friendly</td>\n",
              "      <td>Glasgow</td>\n",
              "      <td>Scotland</td>\n",
              "      <td>False</td>\n",
              "      <td>3</td>\n",
              "      <td>win</td>\n",
              "    </tr>\n",
              "  </tbody>\n",
              "</table>\n",
              "</div>"
            ],
            "text/plain": [
              "        date home_team away_team  ...  neutral  score_diff result\n",
              "0 1872-11-30  Scotland   England  ...    False           0   draw\n",
              "1 1873-03-08   England  Scotland  ...    False           2    win\n",
              "2 1874-03-07  Scotland   England  ...    False           1    win\n",
              "3 1875-03-06   England  Scotland  ...    False           0   draw\n",
              "4 1876-03-04  Scotland   England  ...    False           3    win\n",
              "\n",
              "[5 rows x 11 columns]"
            ]
          },
          "metadata": {
            "tags": []
          },
          "execution_count": 15
        }
      ]
    },
    {
      "cell_type": "code",
      "metadata": {
        "colab": {
          "base_uri": "https://localhost:8080/"
        },
        "id": "vm047dx2znah",
        "outputId": "2ffa395b-38d8-40ee-fdae-a3bcfd04c6dd"
      },
      "source": [
        "# Looking at the unique values in the tournament column of results\n",
        "\n",
        "results['tournament'].unique()"
      ],
      "execution_count": null,
      "outputs": [
        {
          "output_type": "execute_result",
          "data": {
            "text/plain": [
              "array(['Friendly', 'British Championship', 'Copa Lipton', 'Copa Newton',\n",
              "       'Copa Premio Honor Argentino', 'Copa Premio Honor Uruguayo',\n",
              "       'Copa Roca', 'Copa América', 'Copa Chevallier Boutell',\n",
              "       'Nordic Championship', 'International Cup', 'Baltic Cup',\n",
              "       'Balkan Cup', 'FIFA World Cup', 'Copa Rio Branco',\n",
              "       'FIFA World Cup qualification', 'CCCF Championship',\n",
              "       'NAFU Championship', 'Copa Oswaldo Cruz',\n",
              "       'Pan American Championship', 'Copa del Pacífico',\n",
              "       \"Copa Bernardo O'Higgins\", 'AFC Asian Cup qualification',\n",
              "       'Atlantic Cup', 'AFC Asian Cup', 'African Cup of Nations',\n",
              "       'Copa Paz del Chaco', 'Merdeka Tournament',\n",
              "       'UEFA Euro qualification', 'UEFA Euro',\n",
              "       'Windward Islands Tournament',\n",
              "       'African Cup of Nations qualification', 'Vietnam Independence Cup',\n",
              "       'Copa Carlos Dittborn', 'CONCACAF Championship',\n",
              "       'Copa Juan Pinto Durán', 'UAFA Cup', 'South Pacific Games',\n",
              "       'CONCACAF Championship qualification', 'Copa Artigas', 'GaNEFo',\n",
              "       \"King's Cup\", 'Gulf Cup', 'Indonesia Tournament', 'Korea Cup',\n",
              "       'Brazil Independence Cup', 'Copa Ramón Castilla',\n",
              "       'Oceania Nations Cup', 'CECAFA Cup', 'Copa Félix Bogado',\n",
              "       'Kirin Cup', 'CFU Caribbean Cup qualification',\n",
              "       'CFU Caribbean Cup', 'Amílcar Cabral Cup', 'Mundialito',\n",
              "       'West African Cup', 'Nehru Cup', 'Merlion Cup', 'UDEAC Cup',\n",
              "       'Rous Cup', 'Lunar New Year Cup', 'Tournoi de France',\n",
              "       'Malta International Tournament', 'Island Games', 'Dynasty Cup',\n",
              "       'UNCAF Cup', 'Gold Cup', 'USA Cup',\n",
              "       'Jordan International Tournament', 'Confederations Cup',\n",
              "       'United Arab Emirates Friendship Tournament',\n",
              "       'Oceania Nations Cup qualification', 'Simba Tournament',\n",
              "       'SAFF Cup', 'AFF Championship', 'King Hassan II Tournament',\n",
              "       'Cyprus International Tournament', 'Dunhill Cup', 'COSAFA Cup',\n",
              "       'Gold Cup qualification', 'SKN Football Festival', 'UNIFFAC Cup',\n",
              "       'WAFF Championship', 'Millennium Cup', \"Prime Minister's Cup\",\n",
              "       'EAFF Championship', 'AFC Challenge Cup', 'FIFI Wild Cup',\n",
              "       'ELF Cup', 'Viva World Cup', 'UAFA Cup qualification',\n",
              "       'AFC Challenge Cup qualification', 'African Nations Championship',\n",
              "       'VFF Cup', 'Dragon Cup', 'ABCS Tournament',\n",
              "       'Nile Basin Tournament', 'Nations Cup', 'Pacific Games', 'OSN Cup',\n",
              "       'CONIFA World Football Cup', 'CONIFA European Football Cup',\n",
              "       'Copa América qualification', 'World Unity Cup',\n",
              "       'Intercontinental Cup', 'AFF Championship qualification',\n",
              "       'UEFA Nations League', 'Atlantic Heritage Cup',\n",
              "       'Inter Games Football Tournament'], dtype=object)"
            ]
          },
          "metadata": {
            "tags": []
          },
          "execution_count": 16
        }
      ]
    },
    {
      "cell_type": "code",
      "metadata": {
        "colab": {
          "base_uri": "https://localhost:8080/"
        },
        "id": "F2bcBKXX0BfO",
        "outputId": "11feb83e-6ec5-4d5b-ca54-248b182f2544"
      },
      "source": [
        "# Getting unique values for the confederation in rank dataset\n",
        "\n",
        "rank['confederation'].unique()"
      ],
      "execution_count": null,
      "outputs": [
        {
          "output_type": "execute_result",
          "data": {
            "text/plain": [
              "array(['UEFA', 'CONMEBOL', 'CONCACAF', 'CAF', 'AFC', 'OFC'], dtype=object)"
            ]
          },
          "metadata": {
            "tags": []
          },
          "execution_count": 17
        }
      ]
    },
    {
      "cell_type": "code",
      "metadata": {
        "colab": {
          "base_uri": "https://localhost:8080/",
          "height": 195
        },
        "id": "IuPDakJu1LMb",
        "outputId": "5b991827-ad4b-4674-9038-4eb8a1f1d455"
      },
      "source": [
        "# Creating a tournament type column with the categories Friendly, World Cup and Other\n",
        "\n",
        "def tornament(types):\n",
        "    if types == 'Friendly':\n",
        "        return 'Friendly'\n",
        "    elif types == 'FIFA World Cup':\n",
        "        return 'World cup'\n",
        "    else:\n",
        "        return 'Other'\n",
        "      \n",
        "results['tournament_type'] = results.tournament.apply(lambda x: tornament(x))\n",
        "\n",
        "results.head()"
      ],
      "execution_count": null,
      "outputs": [
        {
          "output_type": "execute_result",
          "data": {
            "text/html": [
              "<div>\n",
              "<style scoped>\n",
              "    .dataframe tbody tr th:only-of-type {\n",
              "        vertical-align: middle;\n",
              "    }\n",
              "\n",
              "    .dataframe tbody tr th {\n",
              "        vertical-align: top;\n",
              "    }\n",
              "\n",
              "    .dataframe thead th {\n",
              "        text-align: right;\n",
              "    }\n",
              "</style>\n",
              "<table border=\"1\" class=\"dataframe\">\n",
              "  <thead>\n",
              "    <tr style=\"text-align: right;\">\n",
              "      <th></th>\n",
              "      <th>date</th>\n",
              "      <th>home_team</th>\n",
              "      <th>away_team</th>\n",
              "      <th>home_score</th>\n",
              "      <th>away_score</th>\n",
              "      <th>tournament</th>\n",
              "      <th>city</th>\n",
              "      <th>country</th>\n",
              "      <th>neutral</th>\n",
              "      <th>score_diff</th>\n",
              "      <th>result</th>\n",
              "      <th>tournament_type</th>\n",
              "    </tr>\n",
              "  </thead>\n",
              "  <tbody>\n",
              "    <tr>\n",
              "      <th>0</th>\n",
              "      <td>1872-11-30</td>\n",
              "      <td>Scotland</td>\n",
              "      <td>England</td>\n",
              "      <td>0</td>\n",
              "      <td>0</td>\n",
              "      <td>Friendly</td>\n",
              "      <td>Glasgow</td>\n",
              "      <td>Scotland</td>\n",
              "      <td>False</td>\n",
              "      <td>0</td>\n",
              "      <td>draw</td>\n",
              "      <td>Friendly</td>\n",
              "    </tr>\n",
              "    <tr>\n",
              "      <th>1</th>\n",
              "      <td>1873-03-08</td>\n",
              "      <td>England</td>\n",
              "      <td>Scotland</td>\n",
              "      <td>4</td>\n",
              "      <td>2</td>\n",
              "      <td>Friendly</td>\n",
              "      <td>London</td>\n",
              "      <td>England</td>\n",
              "      <td>False</td>\n",
              "      <td>2</td>\n",
              "      <td>win</td>\n",
              "      <td>Friendly</td>\n",
              "    </tr>\n",
              "    <tr>\n",
              "      <th>2</th>\n",
              "      <td>1874-03-07</td>\n",
              "      <td>Scotland</td>\n",
              "      <td>England</td>\n",
              "      <td>2</td>\n",
              "      <td>1</td>\n",
              "      <td>Friendly</td>\n",
              "      <td>Glasgow</td>\n",
              "      <td>Scotland</td>\n",
              "      <td>False</td>\n",
              "      <td>1</td>\n",
              "      <td>win</td>\n",
              "      <td>Friendly</td>\n",
              "    </tr>\n",
              "    <tr>\n",
              "      <th>3</th>\n",
              "      <td>1875-03-06</td>\n",
              "      <td>England</td>\n",
              "      <td>Scotland</td>\n",
              "      <td>2</td>\n",
              "      <td>2</td>\n",
              "      <td>Friendly</td>\n",
              "      <td>London</td>\n",
              "      <td>England</td>\n",
              "      <td>False</td>\n",
              "      <td>0</td>\n",
              "      <td>draw</td>\n",
              "      <td>Friendly</td>\n",
              "    </tr>\n",
              "    <tr>\n",
              "      <th>4</th>\n",
              "      <td>1876-03-04</td>\n",
              "      <td>Scotland</td>\n",
              "      <td>England</td>\n",
              "      <td>3</td>\n",
              "      <td>0</td>\n",
              "      <td>Friendly</td>\n",
              "      <td>Glasgow</td>\n",
              "      <td>Scotland</td>\n",
              "      <td>False</td>\n",
              "      <td>3</td>\n",
              "      <td>win</td>\n",
              "      <td>Friendly</td>\n",
              "    </tr>\n",
              "  </tbody>\n",
              "</table>\n",
              "</div>"
            ],
            "text/plain": [
              "        date home_team away_team  ...  score_diff  result tournament_type\n",
              "0 1872-11-30  Scotland   England  ...           0    draw        Friendly\n",
              "1 1873-03-08   England  Scotland  ...           2     win        Friendly\n",
              "2 1874-03-07  Scotland   England  ...           1     win        Friendly\n",
              "3 1875-03-06   England  Scotland  ...           0    draw        Friendly\n",
              "4 1876-03-04  Scotland   England  ...           3     win        Friendly\n",
              "\n",
              "[5 rows x 12 columns]"
            ]
          },
          "metadata": {
            "tags": []
          },
          "execution_count": 18
        }
      ]
    },
    {
      "cell_type": "code",
      "metadata": {
        "id": "EVnLA3Us7exC"
      },
      "source": [
        "# Creating new year and month columns in both datasets\n",
        "\n",
        "results['year'] = pd.DatetimeIndex(results['date']).year\n",
        "results['month'] = pd.DatetimeIndex(results['date']).month\n",
        "\n",
        "\n",
        "\n",
        "rank['year'] = rank['rank_date'].dt.year\n",
        "rank['month'] = rank['rank_date'].dt.month"
      ],
      "execution_count": null,
      "outputs": []
    },
    {
      "cell_type": "code",
      "metadata": {
        "colab": {
          "base_uri": "https://localhost:8080/",
          "height": 195
        },
        "id": "GGHVk9hd7-6a",
        "outputId": "2fa18c51-431e-45cb-f08b-a269960f2f94"
      },
      "source": [
        "# Previewing the rank dataset\n",
        "\n",
        "rank.head()"
      ],
      "execution_count": null,
      "outputs": [
        {
          "output_type": "execute_result",
          "data": {
            "text/html": [
              "<div>\n",
              "<style scoped>\n",
              "    .dataframe tbody tr th:only-of-type {\n",
              "        vertical-align: middle;\n",
              "    }\n",
              "\n",
              "    .dataframe tbody tr th {\n",
              "        vertical-align: top;\n",
              "    }\n",
              "\n",
              "    .dataframe thead th {\n",
              "        text-align: right;\n",
              "    }\n",
              "</style>\n",
              "<table border=\"1\" class=\"dataframe\">\n",
              "  <thead>\n",
              "    <tr style=\"text-align: right;\">\n",
              "      <th></th>\n",
              "      <th>rank</th>\n",
              "      <th>country_full</th>\n",
              "      <th>country_abrv</th>\n",
              "      <th>total_points</th>\n",
              "      <th>previous_points</th>\n",
              "      <th>rank_change</th>\n",
              "      <th>confederation</th>\n",
              "      <th>rank_date</th>\n",
              "      <th>year</th>\n",
              "      <th>month</th>\n",
              "    </tr>\n",
              "  </thead>\n",
              "  <tbody>\n",
              "    <tr>\n",
              "      <th>0</th>\n",
              "      <td>1</td>\n",
              "      <td>Germany</td>\n",
              "      <td>GER</td>\n",
              "      <td>0.0</td>\n",
              "      <td>57</td>\n",
              "      <td>0</td>\n",
              "      <td>UEFA</td>\n",
              "      <td>1993-08-08</td>\n",
              "      <td>1993</td>\n",
              "      <td>8</td>\n",
              "    </tr>\n",
              "    <tr>\n",
              "      <th>1</th>\n",
              "      <td>2</td>\n",
              "      <td>Italy</td>\n",
              "      <td>ITA</td>\n",
              "      <td>0.0</td>\n",
              "      <td>57</td>\n",
              "      <td>0</td>\n",
              "      <td>UEFA</td>\n",
              "      <td>1993-08-08</td>\n",
              "      <td>1993</td>\n",
              "      <td>8</td>\n",
              "    </tr>\n",
              "    <tr>\n",
              "      <th>2</th>\n",
              "      <td>3</td>\n",
              "      <td>Switzerland</td>\n",
              "      <td>SUI</td>\n",
              "      <td>0.0</td>\n",
              "      <td>50</td>\n",
              "      <td>9</td>\n",
              "      <td>UEFA</td>\n",
              "      <td>1993-08-08</td>\n",
              "      <td>1993</td>\n",
              "      <td>8</td>\n",
              "    </tr>\n",
              "    <tr>\n",
              "      <th>3</th>\n",
              "      <td>4</td>\n",
              "      <td>Sweden</td>\n",
              "      <td>SWE</td>\n",
              "      <td>0.0</td>\n",
              "      <td>55</td>\n",
              "      <td>0</td>\n",
              "      <td>UEFA</td>\n",
              "      <td>1993-08-08</td>\n",
              "      <td>1993</td>\n",
              "      <td>8</td>\n",
              "    </tr>\n",
              "    <tr>\n",
              "      <th>4</th>\n",
              "      <td>5</td>\n",
              "      <td>Argentina</td>\n",
              "      <td>ARG</td>\n",
              "      <td>0.0</td>\n",
              "      <td>51</td>\n",
              "      <td>5</td>\n",
              "      <td>CONMEBOL</td>\n",
              "      <td>1993-08-08</td>\n",
              "      <td>1993</td>\n",
              "      <td>8</td>\n",
              "    </tr>\n",
              "  </tbody>\n",
              "</table>\n",
              "</div>"
            ],
            "text/plain": [
              "   rank country_full country_abrv  ...  rank_date  year  month\n",
              "0     1      Germany          GER  ... 1993-08-08  1993      8\n",
              "1     2        Italy          ITA  ... 1993-08-08  1993      8\n",
              "2     3  Switzerland          SUI  ... 1993-08-08  1993      8\n",
              "3     4       Sweden          SWE  ... 1993-08-08  1993      8\n",
              "4     5    Argentina          ARG  ... 1993-08-08  1993      8\n",
              "\n",
              "[5 rows x 10 columns]"
            ]
          },
          "metadata": {
            "tags": []
          },
          "execution_count": 21
        }
      ]
    },
    {
      "cell_type": "code",
      "metadata": {
        "colab": {
          "base_uri": "https://localhost:8080/",
          "height": 279
        },
        "id": "V8v5ZFly8GEx",
        "outputId": "f39e4995-09bc-4b32-dad8-f1e8d65830dd"
      },
      "source": [
        "# Previewing the results dataset\n",
        "\n",
        "results.head()"
      ],
      "execution_count": null,
      "outputs": [
        {
          "output_type": "execute_result",
          "data": {
            "text/html": [
              "<div>\n",
              "<style scoped>\n",
              "    .dataframe tbody tr th:only-of-type {\n",
              "        vertical-align: middle;\n",
              "    }\n",
              "\n",
              "    .dataframe tbody tr th {\n",
              "        vertical-align: top;\n",
              "    }\n",
              "\n",
              "    .dataframe thead th {\n",
              "        text-align: right;\n",
              "    }\n",
              "</style>\n",
              "<table border=\"1\" class=\"dataframe\">\n",
              "  <thead>\n",
              "    <tr style=\"text-align: right;\">\n",
              "      <th></th>\n",
              "      <th>date</th>\n",
              "      <th>home_team</th>\n",
              "      <th>away_team</th>\n",
              "      <th>home_score</th>\n",
              "      <th>away_score</th>\n",
              "      <th>tournament</th>\n",
              "      <th>city</th>\n",
              "      <th>country</th>\n",
              "      <th>neutral</th>\n",
              "      <th>score_diff</th>\n",
              "      <th>result</th>\n",
              "      <th>tournament_type</th>\n",
              "      <th>year</th>\n",
              "      <th>month</th>\n",
              "    </tr>\n",
              "  </thead>\n",
              "  <tbody>\n",
              "    <tr>\n",
              "      <th>0</th>\n",
              "      <td>1872-11-30</td>\n",
              "      <td>Scotland</td>\n",
              "      <td>England</td>\n",
              "      <td>0</td>\n",
              "      <td>0</td>\n",
              "      <td>Friendly</td>\n",
              "      <td>Glasgow</td>\n",
              "      <td>Scotland</td>\n",
              "      <td>False</td>\n",
              "      <td>0</td>\n",
              "      <td>draw</td>\n",
              "      <td>Friendly</td>\n",
              "      <td>1872</td>\n",
              "      <td>11</td>\n",
              "    </tr>\n",
              "    <tr>\n",
              "      <th>1</th>\n",
              "      <td>1873-03-08</td>\n",
              "      <td>England</td>\n",
              "      <td>Scotland</td>\n",
              "      <td>4</td>\n",
              "      <td>2</td>\n",
              "      <td>Friendly</td>\n",
              "      <td>London</td>\n",
              "      <td>England</td>\n",
              "      <td>False</td>\n",
              "      <td>2</td>\n",
              "      <td>win</td>\n",
              "      <td>Friendly</td>\n",
              "      <td>1873</td>\n",
              "      <td>3</td>\n",
              "    </tr>\n",
              "    <tr>\n",
              "      <th>2</th>\n",
              "      <td>1874-03-07</td>\n",
              "      <td>Scotland</td>\n",
              "      <td>England</td>\n",
              "      <td>2</td>\n",
              "      <td>1</td>\n",
              "      <td>Friendly</td>\n",
              "      <td>Glasgow</td>\n",
              "      <td>Scotland</td>\n",
              "      <td>False</td>\n",
              "      <td>1</td>\n",
              "      <td>win</td>\n",
              "      <td>Friendly</td>\n",
              "      <td>1874</td>\n",
              "      <td>3</td>\n",
              "    </tr>\n",
              "    <tr>\n",
              "      <th>3</th>\n",
              "      <td>1875-03-06</td>\n",
              "      <td>England</td>\n",
              "      <td>Scotland</td>\n",
              "      <td>2</td>\n",
              "      <td>2</td>\n",
              "      <td>Friendly</td>\n",
              "      <td>London</td>\n",
              "      <td>England</td>\n",
              "      <td>False</td>\n",
              "      <td>0</td>\n",
              "      <td>draw</td>\n",
              "      <td>Friendly</td>\n",
              "      <td>1875</td>\n",
              "      <td>3</td>\n",
              "    </tr>\n",
              "    <tr>\n",
              "      <th>4</th>\n",
              "      <td>1876-03-04</td>\n",
              "      <td>Scotland</td>\n",
              "      <td>England</td>\n",
              "      <td>3</td>\n",
              "      <td>0</td>\n",
              "      <td>Friendly</td>\n",
              "      <td>Glasgow</td>\n",
              "      <td>Scotland</td>\n",
              "      <td>False</td>\n",
              "      <td>3</td>\n",
              "      <td>win</td>\n",
              "      <td>Friendly</td>\n",
              "      <td>1876</td>\n",
              "      <td>3</td>\n",
              "    </tr>\n",
              "  </tbody>\n",
              "</table>\n",
              "</div>"
            ],
            "text/plain": [
              "        date home_team away_team  ...  tournament_type  year month\n",
              "0 1872-11-30  Scotland   England  ...         Friendly  1872    11\n",
              "1 1873-03-08   England  Scotland  ...         Friendly  1873     3\n",
              "2 1874-03-07  Scotland   England  ...         Friendly  1874     3\n",
              "3 1875-03-06   England  Scotland  ...         Friendly  1875     3\n",
              "4 1876-03-04  Scotland   England  ...         Friendly  1876     3\n",
              "\n",
              "[5 rows x 14 columns]"
            ]
          },
          "metadata": {
            "tags": []
          },
          "execution_count": 20
        }
      ]
    },
    {
      "cell_type": "code",
      "metadata": {
        "id": "P90LPyeDwbTm"
      },
      "source": [
        "# Creating copies of the rank dataset so that we can get ranks of the home team and away team seperately\n",
        "\n",
        "rank2 = rank.copy()\n",
        "rank3 = rank.copy()"
      ],
      "execution_count": null,
      "outputs": []
    },
    {
      "cell_type": "code",
      "metadata": {
        "colab": {
          "base_uri": "https://localhost:8080/",
          "height": 195
        },
        "id": "dNPPQ2AOyGcO",
        "outputId": "a9318d00-b910-4249-b5ac-62cd8c892ed0"
      },
      "source": [
        "# Converting the country_full column to home team to get the rank of the home team\n",
        "\n",
        "rank2.rename({'country_full':'home_team', 'rank_date':'date'}, axis = 1, inplace=True)\n",
        "\n",
        "rank2.head()\n",
        "\n"
      ],
      "execution_count": null,
      "outputs": [
        {
          "output_type": "execute_result",
          "data": {
            "text/html": [
              "<div>\n",
              "<style scoped>\n",
              "    .dataframe tbody tr th:only-of-type {\n",
              "        vertical-align: middle;\n",
              "    }\n",
              "\n",
              "    .dataframe tbody tr th {\n",
              "        vertical-align: top;\n",
              "    }\n",
              "\n",
              "    .dataframe thead th {\n",
              "        text-align: right;\n",
              "    }\n",
              "</style>\n",
              "<table border=\"1\" class=\"dataframe\">\n",
              "  <thead>\n",
              "    <tr style=\"text-align: right;\">\n",
              "      <th></th>\n",
              "      <th>rank</th>\n",
              "      <th>home_team</th>\n",
              "      <th>country_abrv</th>\n",
              "      <th>total_points</th>\n",
              "      <th>previous_points</th>\n",
              "      <th>rank_change</th>\n",
              "      <th>confederation</th>\n",
              "      <th>date</th>\n",
              "      <th>year</th>\n",
              "      <th>month</th>\n",
              "    </tr>\n",
              "  </thead>\n",
              "  <tbody>\n",
              "    <tr>\n",
              "      <th>0</th>\n",
              "      <td>1</td>\n",
              "      <td>Germany</td>\n",
              "      <td>GER</td>\n",
              "      <td>0.0</td>\n",
              "      <td>57</td>\n",
              "      <td>0</td>\n",
              "      <td>UEFA</td>\n",
              "      <td>1993-08-08</td>\n",
              "      <td>1993</td>\n",
              "      <td>8</td>\n",
              "    </tr>\n",
              "    <tr>\n",
              "      <th>1</th>\n",
              "      <td>2</td>\n",
              "      <td>Italy</td>\n",
              "      <td>ITA</td>\n",
              "      <td>0.0</td>\n",
              "      <td>57</td>\n",
              "      <td>0</td>\n",
              "      <td>UEFA</td>\n",
              "      <td>1993-08-08</td>\n",
              "      <td>1993</td>\n",
              "      <td>8</td>\n",
              "    </tr>\n",
              "    <tr>\n",
              "      <th>2</th>\n",
              "      <td>3</td>\n",
              "      <td>Switzerland</td>\n",
              "      <td>SUI</td>\n",
              "      <td>0.0</td>\n",
              "      <td>50</td>\n",
              "      <td>9</td>\n",
              "      <td>UEFA</td>\n",
              "      <td>1993-08-08</td>\n",
              "      <td>1993</td>\n",
              "      <td>8</td>\n",
              "    </tr>\n",
              "    <tr>\n",
              "      <th>3</th>\n",
              "      <td>4</td>\n",
              "      <td>Sweden</td>\n",
              "      <td>SWE</td>\n",
              "      <td>0.0</td>\n",
              "      <td>55</td>\n",
              "      <td>0</td>\n",
              "      <td>UEFA</td>\n",
              "      <td>1993-08-08</td>\n",
              "      <td>1993</td>\n",
              "      <td>8</td>\n",
              "    </tr>\n",
              "    <tr>\n",
              "      <th>4</th>\n",
              "      <td>5</td>\n",
              "      <td>Argentina</td>\n",
              "      <td>ARG</td>\n",
              "      <td>0.0</td>\n",
              "      <td>51</td>\n",
              "      <td>5</td>\n",
              "      <td>CONMEBOL</td>\n",
              "      <td>1993-08-08</td>\n",
              "      <td>1993</td>\n",
              "      <td>8</td>\n",
              "    </tr>\n",
              "  </tbody>\n",
              "</table>\n",
              "</div>"
            ],
            "text/plain": [
              "   rank    home_team country_abrv  ...       date  year  month\n",
              "0     1      Germany          GER  ... 1993-08-08  1993      8\n",
              "1     2        Italy          ITA  ... 1993-08-08  1993      8\n",
              "2     3  Switzerland          SUI  ... 1993-08-08  1993      8\n",
              "3     4       Sweden          SWE  ... 1993-08-08  1993      8\n",
              "4     5    Argentina          ARG  ... 1993-08-08  1993      8\n",
              "\n",
              "[5 rows x 10 columns]"
            ]
          },
          "metadata": {
            "tags": []
          },
          "execution_count": 23
        }
      ]
    },
    {
      "cell_type": "code",
      "metadata": {
        "colab": {
          "base_uri": "https://localhost:8080/",
          "height": 299
        },
        "id": "Hhad-8Yn4bN_",
        "outputId": "c871c09e-8351-4e84-f754-fda7e8bca3fa"
      },
      "source": [
        "# Merging with the results dataframe on year, month and home team\n",
        "\n",
        "merge_home = pd.merge(results, rank2, how=\"left\", on = ['home_team', 'year', 'month'])\n",
        "\n",
        "merge_home.head()"
      ],
      "execution_count": null,
      "outputs": [
        {
          "output_type": "execute_result",
          "data": {
            "text/html": [
              "<div>\n",
              "<style scoped>\n",
              "    .dataframe tbody tr th:only-of-type {\n",
              "        vertical-align: middle;\n",
              "    }\n",
              "\n",
              "    .dataframe tbody tr th {\n",
              "        vertical-align: top;\n",
              "    }\n",
              "\n",
              "    .dataframe thead th {\n",
              "        text-align: right;\n",
              "    }\n",
              "</style>\n",
              "<table border=\"1\" class=\"dataframe\">\n",
              "  <thead>\n",
              "    <tr style=\"text-align: right;\">\n",
              "      <th></th>\n",
              "      <th>date_x</th>\n",
              "      <th>home_team</th>\n",
              "      <th>away_team</th>\n",
              "      <th>home_score</th>\n",
              "      <th>away_score</th>\n",
              "      <th>tournament</th>\n",
              "      <th>city</th>\n",
              "      <th>country</th>\n",
              "      <th>neutral</th>\n",
              "      <th>score_diff</th>\n",
              "      <th>result</th>\n",
              "      <th>tournament_type</th>\n",
              "      <th>year</th>\n",
              "      <th>month</th>\n",
              "      <th>rank</th>\n",
              "      <th>country_abrv</th>\n",
              "      <th>total_points</th>\n",
              "      <th>previous_points</th>\n",
              "      <th>rank_change</th>\n",
              "      <th>confederation</th>\n",
              "      <th>date_y</th>\n",
              "    </tr>\n",
              "  </thead>\n",
              "  <tbody>\n",
              "    <tr>\n",
              "      <th>0</th>\n",
              "      <td>1872-11-30</td>\n",
              "      <td>Scotland</td>\n",
              "      <td>England</td>\n",
              "      <td>0</td>\n",
              "      <td>0</td>\n",
              "      <td>Friendly</td>\n",
              "      <td>Glasgow</td>\n",
              "      <td>Scotland</td>\n",
              "      <td>False</td>\n",
              "      <td>0</td>\n",
              "      <td>draw</td>\n",
              "      <td>Friendly</td>\n",
              "      <td>1872</td>\n",
              "      <td>11</td>\n",
              "      <td>NaN</td>\n",
              "      <td>NaN</td>\n",
              "      <td>NaN</td>\n",
              "      <td>NaN</td>\n",
              "      <td>NaN</td>\n",
              "      <td>NaN</td>\n",
              "      <td>NaT</td>\n",
              "    </tr>\n",
              "    <tr>\n",
              "      <th>1</th>\n",
              "      <td>1873-03-08</td>\n",
              "      <td>England</td>\n",
              "      <td>Scotland</td>\n",
              "      <td>4</td>\n",
              "      <td>2</td>\n",
              "      <td>Friendly</td>\n",
              "      <td>London</td>\n",
              "      <td>England</td>\n",
              "      <td>False</td>\n",
              "      <td>2</td>\n",
              "      <td>win</td>\n",
              "      <td>Friendly</td>\n",
              "      <td>1873</td>\n",
              "      <td>3</td>\n",
              "      <td>NaN</td>\n",
              "      <td>NaN</td>\n",
              "      <td>NaN</td>\n",
              "      <td>NaN</td>\n",
              "      <td>NaN</td>\n",
              "      <td>NaN</td>\n",
              "      <td>NaT</td>\n",
              "    </tr>\n",
              "    <tr>\n",
              "      <th>2</th>\n",
              "      <td>1874-03-07</td>\n",
              "      <td>Scotland</td>\n",
              "      <td>England</td>\n",
              "      <td>2</td>\n",
              "      <td>1</td>\n",
              "      <td>Friendly</td>\n",
              "      <td>Glasgow</td>\n",
              "      <td>Scotland</td>\n",
              "      <td>False</td>\n",
              "      <td>1</td>\n",
              "      <td>win</td>\n",
              "      <td>Friendly</td>\n",
              "      <td>1874</td>\n",
              "      <td>3</td>\n",
              "      <td>NaN</td>\n",
              "      <td>NaN</td>\n",
              "      <td>NaN</td>\n",
              "      <td>NaN</td>\n",
              "      <td>NaN</td>\n",
              "      <td>NaN</td>\n",
              "      <td>NaT</td>\n",
              "    </tr>\n",
              "    <tr>\n",
              "      <th>3</th>\n",
              "      <td>1875-03-06</td>\n",
              "      <td>England</td>\n",
              "      <td>Scotland</td>\n",
              "      <td>2</td>\n",
              "      <td>2</td>\n",
              "      <td>Friendly</td>\n",
              "      <td>London</td>\n",
              "      <td>England</td>\n",
              "      <td>False</td>\n",
              "      <td>0</td>\n",
              "      <td>draw</td>\n",
              "      <td>Friendly</td>\n",
              "      <td>1875</td>\n",
              "      <td>3</td>\n",
              "      <td>NaN</td>\n",
              "      <td>NaN</td>\n",
              "      <td>NaN</td>\n",
              "      <td>NaN</td>\n",
              "      <td>NaN</td>\n",
              "      <td>NaN</td>\n",
              "      <td>NaT</td>\n",
              "    </tr>\n",
              "    <tr>\n",
              "      <th>4</th>\n",
              "      <td>1876-03-04</td>\n",
              "      <td>Scotland</td>\n",
              "      <td>England</td>\n",
              "      <td>3</td>\n",
              "      <td>0</td>\n",
              "      <td>Friendly</td>\n",
              "      <td>Glasgow</td>\n",
              "      <td>Scotland</td>\n",
              "      <td>False</td>\n",
              "      <td>3</td>\n",
              "      <td>win</td>\n",
              "      <td>Friendly</td>\n",
              "      <td>1876</td>\n",
              "      <td>3</td>\n",
              "      <td>NaN</td>\n",
              "      <td>NaN</td>\n",
              "      <td>NaN</td>\n",
              "      <td>NaN</td>\n",
              "      <td>NaN</td>\n",
              "      <td>NaN</td>\n",
              "      <td>NaT</td>\n",
              "    </tr>\n",
              "  </tbody>\n",
              "</table>\n",
              "</div>"
            ],
            "text/plain": [
              "      date_x home_team away_team  ...  rank_change  confederation date_y\n",
              "0 1872-11-30  Scotland   England  ...          NaN            NaN    NaT\n",
              "1 1873-03-08   England  Scotland  ...          NaN            NaN    NaT\n",
              "2 1874-03-07  Scotland   England  ...          NaN            NaN    NaT\n",
              "3 1875-03-06   England  Scotland  ...          NaN            NaN    NaT\n",
              "4 1876-03-04  Scotland   England  ...          NaN            NaN    NaT\n",
              "\n",
              "[5 rows x 21 columns]"
            ]
          },
          "metadata": {
            "tags": []
          },
          "execution_count": 24
        }
      ]
    },
    {
      "cell_type": "code",
      "metadata": {
        "colab": {
          "base_uri": "https://localhost:8080/"
        },
        "id": "jLzLrbTC6Fqw",
        "outputId": "4b44df5b-32e3-4270-e23a-a59f130fb352"
      },
      "source": [
        "# Looking at the information on the new dataset\n",
        "\n",
        "merge_home.info()"
      ],
      "execution_count": null,
      "outputs": [
        {
          "output_type": "stream",
          "text": [
            "<class 'pandas.core.frame.DataFrame'>\n",
            "Int64Index: 40908 entries, 0 to 40907\n",
            "Data columns (total 21 columns):\n",
            " #   Column           Non-Null Count  Dtype         \n",
            "---  ------           --------------  -----         \n",
            " 0   date_x           40908 non-null  datetime64[ns]\n",
            " 1   home_team        40908 non-null  object        \n",
            " 2   away_team        40908 non-null  object        \n",
            " 3   home_score       40908 non-null  int64         \n",
            " 4   away_score       40908 non-null  int64         \n",
            " 5   tournament       40908 non-null  object        \n",
            " 6   city             40908 non-null  object        \n",
            " 7   country          40908 non-null  object        \n",
            " 8   neutral          40908 non-null  bool          \n",
            " 9   score_diff       40908 non-null  int64         \n",
            " 10  result           40908 non-null  object        \n",
            " 11  tournament_type  40908 non-null  object        \n",
            " 12  year             40908 non-null  int64         \n",
            " 13  month            40908 non-null  int64         \n",
            " 14  rank             18609 non-null  float64       \n",
            " 15  country_abrv     18609 non-null  object        \n",
            " 16  total_points     18609 non-null  float64       \n",
            " 17  previous_points  18609 non-null  float64       \n",
            " 18  rank_change      18609 non-null  float64       \n",
            " 19  confederation    18609 non-null  object        \n",
            " 20  date_y           18609 non-null  datetime64[ns]\n",
            "dtypes: bool(1), datetime64[ns](2), float64(4), int64(5), object(9)\n",
            "memory usage: 6.6+ MB\n"
          ],
          "name": "stdout"
        }
      ]
    },
    {
      "cell_type": "code",
      "metadata": {
        "colab": {
          "base_uri": "https://localhost:8080/",
          "height": 299
        },
        "id": "G1v1Wqtb-f2e",
        "outputId": "e467dde6-e01b-45ce-9ab2-a110e77c25f5"
      },
      "source": [
        "# Changing the rank to the home rank\n",
        "\n",
        "merge_home.rename({'rank':'home_rank'}, axis = 1, inplace = True)\n",
        "\n",
        "merge_home.head()"
      ],
      "execution_count": null,
      "outputs": [
        {
          "output_type": "execute_result",
          "data": {
            "text/html": [
              "<div>\n",
              "<style scoped>\n",
              "    .dataframe tbody tr th:only-of-type {\n",
              "        vertical-align: middle;\n",
              "    }\n",
              "\n",
              "    .dataframe tbody tr th {\n",
              "        vertical-align: top;\n",
              "    }\n",
              "\n",
              "    .dataframe thead th {\n",
              "        text-align: right;\n",
              "    }\n",
              "</style>\n",
              "<table border=\"1\" class=\"dataframe\">\n",
              "  <thead>\n",
              "    <tr style=\"text-align: right;\">\n",
              "      <th></th>\n",
              "      <th>date_x</th>\n",
              "      <th>home_team</th>\n",
              "      <th>away_team</th>\n",
              "      <th>home_score</th>\n",
              "      <th>away_score</th>\n",
              "      <th>tournament</th>\n",
              "      <th>city</th>\n",
              "      <th>country</th>\n",
              "      <th>neutral</th>\n",
              "      <th>score_diff</th>\n",
              "      <th>result</th>\n",
              "      <th>tournament_type</th>\n",
              "      <th>year</th>\n",
              "      <th>month</th>\n",
              "      <th>home_rank</th>\n",
              "      <th>country_abrv</th>\n",
              "      <th>total_points</th>\n",
              "      <th>previous_points</th>\n",
              "      <th>rank_change</th>\n",
              "      <th>confederation</th>\n",
              "      <th>date_y</th>\n",
              "    </tr>\n",
              "  </thead>\n",
              "  <tbody>\n",
              "    <tr>\n",
              "      <th>0</th>\n",
              "      <td>1872-11-30</td>\n",
              "      <td>Scotland</td>\n",
              "      <td>England</td>\n",
              "      <td>0</td>\n",
              "      <td>0</td>\n",
              "      <td>Friendly</td>\n",
              "      <td>Glasgow</td>\n",
              "      <td>Scotland</td>\n",
              "      <td>False</td>\n",
              "      <td>0</td>\n",
              "      <td>draw</td>\n",
              "      <td>Friendly</td>\n",
              "      <td>1872</td>\n",
              "      <td>11</td>\n",
              "      <td>NaN</td>\n",
              "      <td>NaN</td>\n",
              "      <td>NaN</td>\n",
              "      <td>NaN</td>\n",
              "      <td>NaN</td>\n",
              "      <td>NaN</td>\n",
              "      <td>NaT</td>\n",
              "    </tr>\n",
              "    <tr>\n",
              "      <th>1</th>\n",
              "      <td>1873-03-08</td>\n",
              "      <td>England</td>\n",
              "      <td>Scotland</td>\n",
              "      <td>4</td>\n",
              "      <td>2</td>\n",
              "      <td>Friendly</td>\n",
              "      <td>London</td>\n",
              "      <td>England</td>\n",
              "      <td>False</td>\n",
              "      <td>2</td>\n",
              "      <td>win</td>\n",
              "      <td>Friendly</td>\n",
              "      <td>1873</td>\n",
              "      <td>3</td>\n",
              "      <td>NaN</td>\n",
              "      <td>NaN</td>\n",
              "      <td>NaN</td>\n",
              "      <td>NaN</td>\n",
              "      <td>NaN</td>\n",
              "      <td>NaN</td>\n",
              "      <td>NaT</td>\n",
              "    </tr>\n",
              "    <tr>\n",
              "      <th>2</th>\n",
              "      <td>1874-03-07</td>\n",
              "      <td>Scotland</td>\n",
              "      <td>England</td>\n",
              "      <td>2</td>\n",
              "      <td>1</td>\n",
              "      <td>Friendly</td>\n",
              "      <td>Glasgow</td>\n",
              "      <td>Scotland</td>\n",
              "      <td>False</td>\n",
              "      <td>1</td>\n",
              "      <td>win</td>\n",
              "      <td>Friendly</td>\n",
              "      <td>1874</td>\n",
              "      <td>3</td>\n",
              "      <td>NaN</td>\n",
              "      <td>NaN</td>\n",
              "      <td>NaN</td>\n",
              "      <td>NaN</td>\n",
              "      <td>NaN</td>\n",
              "      <td>NaN</td>\n",
              "      <td>NaT</td>\n",
              "    </tr>\n",
              "    <tr>\n",
              "      <th>3</th>\n",
              "      <td>1875-03-06</td>\n",
              "      <td>England</td>\n",
              "      <td>Scotland</td>\n",
              "      <td>2</td>\n",
              "      <td>2</td>\n",
              "      <td>Friendly</td>\n",
              "      <td>London</td>\n",
              "      <td>England</td>\n",
              "      <td>False</td>\n",
              "      <td>0</td>\n",
              "      <td>draw</td>\n",
              "      <td>Friendly</td>\n",
              "      <td>1875</td>\n",
              "      <td>3</td>\n",
              "      <td>NaN</td>\n",
              "      <td>NaN</td>\n",
              "      <td>NaN</td>\n",
              "      <td>NaN</td>\n",
              "      <td>NaN</td>\n",
              "      <td>NaN</td>\n",
              "      <td>NaT</td>\n",
              "    </tr>\n",
              "    <tr>\n",
              "      <th>4</th>\n",
              "      <td>1876-03-04</td>\n",
              "      <td>Scotland</td>\n",
              "      <td>England</td>\n",
              "      <td>3</td>\n",
              "      <td>0</td>\n",
              "      <td>Friendly</td>\n",
              "      <td>Glasgow</td>\n",
              "      <td>Scotland</td>\n",
              "      <td>False</td>\n",
              "      <td>3</td>\n",
              "      <td>win</td>\n",
              "      <td>Friendly</td>\n",
              "      <td>1876</td>\n",
              "      <td>3</td>\n",
              "      <td>NaN</td>\n",
              "      <td>NaN</td>\n",
              "      <td>NaN</td>\n",
              "      <td>NaN</td>\n",
              "      <td>NaN</td>\n",
              "      <td>NaN</td>\n",
              "      <td>NaT</td>\n",
              "    </tr>\n",
              "  </tbody>\n",
              "</table>\n",
              "</div>"
            ],
            "text/plain": [
              "      date_x home_team away_team  ...  rank_change  confederation date_y\n",
              "0 1872-11-30  Scotland   England  ...          NaN            NaN    NaT\n",
              "1 1873-03-08   England  Scotland  ...          NaN            NaN    NaT\n",
              "2 1874-03-07  Scotland   England  ...          NaN            NaN    NaT\n",
              "3 1875-03-06   England  Scotland  ...          NaN            NaN    NaT\n",
              "4 1876-03-04  Scotland   England  ...          NaN            NaN    NaT\n",
              "\n",
              "[5 rows x 21 columns]"
            ]
          },
          "metadata": {
            "tags": []
          },
          "execution_count": 26
        }
      ]
    },
    {
      "cell_type": "code",
      "metadata": {
        "colab": {
          "base_uri": "https://localhost:8080/",
          "height": 195
        },
        "id": "_q81nXiO_LVL",
        "outputId": "b27cbdf8-8a1f-499e-e160-1c89ca933841"
      },
      "source": [
        "# Now getting the ranks for the away team\n",
        "\n",
        "rank3.rename({'country_full':'away_team', 'rank_date':'date'}, axis = 1, inplace=True)\n",
        "\n",
        "rank3.head()"
      ],
      "execution_count": null,
      "outputs": [
        {
          "output_type": "execute_result",
          "data": {
            "text/html": [
              "<div>\n",
              "<style scoped>\n",
              "    .dataframe tbody tr th:only-of-type {\n",
              "        vertical-align: middle;\n",
              "    }\n",
              "\n",
              "    .dataframe tbody tr th {\n",
              "        vertical-align: top;\n",
              "    }\n",
              "\n",
              "    .dataframe thead th {\n",
              "        text-align: right;\n",
              "    }\n",
              "</style>\n",
              "<table border=\"1\" class=\"dataframe\">\n",
              "  <thead>\n",
              "    <tr style=\"text-align: right;\">\n",
              "      <th></th>\n",
              "      <th>rank</th>\n",
              "      <th>away_team</th>\n",
              "      <th>country_abrv</th>\n",
              "      <th>total_points</th>\n",
              "      <th>previous_points</th>\n",
              "      <th>rank_change</th>\n",
              "      <th>confederation</th>\n",
              "      <th>date</th>\n",
              "      <th>year</th>\n",
              "      <th>month</th>\n",
              "    </tr>\n",
              "  </thead>\n",
              "  <tbody>\n",
              "    <tr>\n",
              "      <th>0</th>\n",
              "      <td>1</td>\n",
              "      <td>Germany</td>\n",
              "      <td>GER</td>\n",
              "      <td>0.0</td>\n",
              "      <td>57</td>\n",
              "      <td>0</td>\n",
              "      <td>UEFA</td>\n",
              "      <td>1993-08-08</td>\n",
              "      <td>1993</td>\n",
              "      <td>8</td>\n",
              "    </tr>\n",
              "    <tr>\n",
              "      <th>1</th>\n",
              "      <td>2</td>\n",
              "      <td>Italy</td>\n",
              "      <td>ITA</td>\n",
              "      <td>0.0</td>\n",
              "      <td>57</td>\n",
              "      <td>0</td>\n",
              "      <td>UEFA</td>\n",
              "      <td>1993-08-08</td>\n",
              "      <td>1993</td>\n",
              "      <td>8</td>\n",
              "    </tr>\n",
              "    <tr>\n",
              "      <th>2</th>\n",
              "      <td>3</td>\n",
              "      <td>Switzerland</td>\n",
              "      <td>SUI</td>\n",
              "      <td>0.0</td>\n",
              "      <td>50</td>\n",
              "      <td>9</td>\n",
              "      <td>UEFA</td>\n",
              "      <td>1993-08-08</td>\n",
              "      <td>1993</td>\n",
              "      <td>8</td>\n",
              "    </tr>\n",
              "    <tr>\n",
              "      <th>3</th>\n",
              "      <td>4</td>\n",
              "      <td>Sweden</td>\n",
              "      <td>SWE</td>\n",
              "      <td>0.0</td>\n",
              "      <td>55</td>\n",
              "      <td>0</td>\n",
              "      <td>UEFA</td>\n",
              "      <td>1993-08-08</td>\n",
              "      <td>1993</td>\n",
              "      <td>8</td>\n",
              "    </tr>\n",
              "    <tr>\n",
              "      <th>4</th>\n",
              "      <td>5</td>\n",
              "      <td>Argentina</td>\n",
              "      <td>ARG</td>\n",
              "      <td>0.0</td>\n",
              "      <td>51</td>\n",
              "      <td>5</td>\n",
              "      <td>CONMEBOL</td>\n",
              "      <td>1993-08-08</td>\n",
              "      <td>1993</td>\n",
              "      <td>8</td>\n",
              "    </tr>\n",
              "  </tbody>\n",
              "</table>\n",
              "</div>"
            ],
            "text/plain": [
              "   rank    away_team country_abrv  ...       date  year  month\n",
              "0     1      Germany          GER  ... 1993-08-08  1993      8\n",
              "1     2        Italy          ITA  ... 1993-08-08  1993      8\n",
              "2     3  Switzerland          SUI  ... 1993-08-08  1993      8\n",
              "3     4       Sweden          SWE  ... 1993-08-08  1993      8\n",
              "4     5    Argentina          ARG  ... 1993-08-08  1993      8\n",
              "\n",
              "[5 rows x 10 columns]"
            ]
          },
          "metadata": {
            "tags": []
          },
          "execution_count": 27
        }
      ]
    },
    {
      "cell_type": "code",
      "metadata": {
        "colab": {
          "base_uri": "https://localhost:8080/",
          "height": 299
        },
        "id": "IvF_DJ5FBLDF",
        "outputId": "39f5b29f-88c6-4338-c7ad-4a09aa622c0b"
      },
      "source": [
        "# Merging with the previous merged dataset to get the final dataset and away team rank based on the year and month of ranking\n",
        "\n",
        "merge_final = pd.merge(merge_home, rank3, how=\"left\", on = ['away_team', 'year', 'month'])\n",
        "\n",
        "merge_final.head()"
      ],
      "execution_count": null,
      "outputs": [
        {
          "output_type": "execute_result",
          "data": {
            "text/html": [
              "<div>\n",
              "<style scoped>\n",
              "    .dataframe tbody tr th:only-of-type {\n",
              "        vertical-align: middle;\n",
              "    }\n",
              "\n",
              "    .dataframe tbody tr th {\n",
              "        vertical-align: top;\n",
              "    }\n",
              "\n",
              "    .dataframe thead th {\n",
              "        text-align: right;\n",
              "    }\n",
              "</style>\n",
              "<table border=\"1\" class=\"dataframe\">\n",
              "  <thead>\n",
              "    <tr style=\"text-align: right;\">\n",
              "      <th></th>\n",
              "      <th>date_x</th>\n",
              "      <th>home_team</th>\n",
              "      <th>away_team</th>\n",
              "      <th>home_score</th>\n",
              "      <th>away_score</th>\n",
              "      <th>tournament</th>\n",
              "      <th>city</th>\n",
              "      <th>country</th>\n",
              "      <th>neutral</th>\n",
              "      <th>score_diff</th>\n",
              "      <th>result</th>\n",
              "      <th>tournament_type</th>\n",
              "      <th>year</th>\n",
              "      <th>month</th>\n",
              "      <th>home_rank</th>\n",
              "      <th>country_abrv_x</th>\n",
              "      <th>total_points_x</th>\n",
              "      <th>previous_points_x</th>\n",
              "      <th>rank_change_x</th>\n",
              "      <th>confederation_x</th>\n",
              "      <th>date_y</th>\n",
              "      <th>rank</th>\n",
              "      <th>country_abrv_y</th>\n",
              "      <th>total_points_y</th>\n",
              "      <th>previous_points_y</th>\n",
              "      <th>rank_change_y</th>\n",
              "      <th>confederation_y</th>\n",
              "      <th>date</th>\n",
              "    </tr>\n",
              "  </thead>\n",
              "  <tbody>\n",
              "    <tr>\n",
              "      <th>0</th>\n",
              "      <td>1872-11-30</td>\n",
              "      <td>Scotland</td>\n",
              "      <td>England</td>\n",
              "      <td>0</td>\n",
              "      <td>0</td>\n",
              "      <td>Friendly</td>\n",
              "      <td>Glasgow</td>\n",
              "      <td>Scotland</td>\n",
              "      <td>False</td>\n",
              "      <td>0</td>\n",
              "      <td>draw</td>\n",
              "      <td>Friendly</td>\n",
              "      <td>1872</td>\n",
              "      <td>11</td>\n",
              "      <td>NaN</td>\n",
              "      <td>NaN</td>\n",
              "      <td>NaN</td>\n",
              "      <td>NaN</td>\n",
              "      <td>NaN</td>\n",
              "      <td>NaN</td>\n",
              "      <td>NaT</td>\n",
              "      <td>NaN</td>\n",
              "      <td>NaN</td>\n",
              "      <td>NaN</td>\n",
              "      <td>NaN</td>\n",
              "      <td>NaN</td>\n",
              "      <td>NaN</td>\n",
              "      <td>NaT</td>\n",
              "    </tr>\n",
              "    <tr>\n",
              "      <th>1</th>\n",
              "      <td>1873-03-08</td>\n",
              "      <td>England</td>\n",
              "      <td>Scotland</td>\n",
              "      <td>4</td>\n",
              "      <td>2</td>\n",
              "      <td>Friendly</td>\n",
              "      <td>London</td>\n",
              "      <td>England</td>\n",
              "      <td>False</td>\n",
              "      <td>2</td>\n",
              "      <td>win</td>\n",
              "      <td>Friendly</td>\n",
              "      <td>1873</td>\n",
              "      <td>3</td>\n",
              "      <td>NaN</td>\n",
              "      <td>NaN</td>\n",
              "      <td>NaN</td>\n",
              "      <td>NaN</td>\n",
              "      <td>NaN</td>\n",
              "      <td>NaN</td>\n",
              "      <td>NaT</td>\n",
              "      <td>NaN</td>\n",
              "      <td>NaN</td>\n",
              "      <td>NaN</td>\n",
              "      <td>NaN</td>\n",
              "      <td>NaN</td>\n",
              "      <td>NaN</td>\n",
              "      <td>NaT</td>\n",
              "    </tr>\n",
              "    <tr>\n",
              "      <th>2</th>\n",
              "      <td>1874-03-07</td>\n",
              "      <td>Scotland</td>\n",
              "      <td>England</td>\n",
              "      <td>2</td>\n",
              "      <td>1</td>\n",
              "      <td>Friendly</td>\n",
              "      <td>Glasgow</td>\n",
              "      <td>Scotland</td>\n",
              "      <td>False</td>\n",
              "      <td>1</td>\n",
              "      <td>win</td>\n",
              "      <td>Friendly</td>\n",
              "      <td>1874</td>\n",
              "      <td>3</td>\n",
              "      <td>NaN</td>\n",
              "      <td>NaN</td>\n",
              "      <td>NaN</td>\n",
              "      <td>NaN</td>\n",
              "      <td>NaN</td>\n",
              "      <td>NaN</td>\n",
              "      <td>NaT</td>\n",
              "      <td>NaN</td>\n",
              "      <td>NaN</td>\n",
              "      <td>NaN</td>\n",
              "      <td>NaN</td>\n",
              "      <td>NaN</td>\n",
              "      <td>NaN</td>\n",
              "      <td>NaT</td>\n",
              "    </tr>\n",
              "    <tr>\n",
              "      <th>3</th>\n",
              "      <td>1875-03-06</td>\n",
              "      <td>England</td>\n",
              "      <td>Scotland</td>\n",
              "      <td>2</td>\n",
              "      <td>2</td>\n",
              "      <td>Friendly</td>\n",
              "      <td>London</td>\n",
              "      <td>England</td>\n",
              "      <td>False</td>\n",
              "      <td>0</td>\n",
              "      <td>draw</td>\n",
              "      <td>Friendly</td>\n",
              "      <td>1875</td>\n",
              "      <td>3</td>\n",
              "      <td>NaN</td>\n",
              "      <td>NaN</td>\n",
              "      <td>NaN</td>\n",
              "      <td>NaN</td>\n",
              "      <td>NaN</td>\n",
              "      <td>NaN</td>\n",
              "      <td>NaT</td>\n",
              "      <td>NaN</td>\n",
              "      <td>NaN</td>\n",
              "      <td>NaN</td>\n",
              "      <td>NaN</td>\n",
              "      <td>NaN</td>\n",
              "      <td>NaN</td>\n",
              "      <td>NaT</td>\n",
              "    </tr>\n",
              "    <tr>\n",
              "      <th>4</th>\n",
              "      <td>1876-03-04</td>\n",
              "      <td>Scotland</td>\n",
              "      <td>England</td>\n",
              "      <td>3</td>\n",
              "      <td>0</td>\n",
              "      <td>Friendly</td>\n",
              "      <td>Glasgow</td>\n",
              "      <td>Scotland</td>\n",
              "      <td>False</td>\n",
              "      <td>3</td>\n",
              "      <td>win</td>\n",
              "      <td>Friendly</td>\n",
              "      <td>1876</td>\n",
              "      <td>3</td>\n",
              "      <td>NaN</td>\n",
              "      <td>NaN</td>\n",
              "      <td>NaN</td>\n",
              "      <td>NaN</td>\n",
              "      <td>NaN</td>\n",
              "      <td>NaN</td>\n",
              "      <td>NaT</td>\n",
              "      <td>NaN</td>\n",
              "      <td>NaN</td>\n",
              "      <td>NaN</td>\n",
              "      <td>NaN</td>\n",
              "      <td>NaN</td>\n",
              "      <td>NaN</td>\n",
              "      <td>NaT</td>\n",
              "    </tr>\n",
              "  </tbody>\n",
              "</table>\n",
              "</div>"
            ],
            "text/plain": [
              "      date_x home_team away_team  ...  rank_change_y  confederation_y date\n",
              "0 1872-11-30  Scotland   England  ...            NaN              NaN  NaT\n",
              "1 1873-03-08   England  Scotland  ...            NaN              NaN  NaT\n",
              "2 1874-03-07  Scotland   England  ...            NaN              NaN  NaT\n",
              "3 1875-03-06   England  Scotland  ...            NaN              NaN  NaT\n",
              "4 1876-03-04  Scotland   England  ...            NaN              NaN  NaT\n",
              "\n",
              "[5 rows x 28 columns]"
            ]
          },
          "metadata": {
            "tags": []
          },
          "execution_count": 28
        }
      ]
    },
    {
      "cell_type": "code",
      "metadata": {
        "colab": {
          "base_uri": "https://localhost:8080/"
        },
        "id": "VgH9D2oJCdat",
        "outputId": "eb8c8f15-f937-484d-d4e0-c198e431b26a"
      },
      "source": [
        "# Getting information on the new dataset\n",
        "\n",
        "merge_final.info()"
      ],
      "execution_count": null,
      "outputs": [
        {
          "output_type": "stream",
          "text": [
            "<class 'pandas.core.frame.DataFrame'>\n",
            "Int64Index: 41033 entries, 0 to 41032\n",
            "Data columns (total 28 columns):\n",
            " #   Column             Non-Null Count  Dtype         \n",
            "---  ------             --------------  -----         \n",
            " 0   date_x             41033 non-null  datetime64[ns]\n",
            " 1   home_team          41033 non-null  object        \n",
            " 2   away_team          41033 non-null  object        \n",
            " 3   home_score         41033 non-null  int64         \n",
            " 4   away_score         41033 non-null  int64         \n",
            " 5   tournament         41033 non-null  object        \n",
            " 6   city               41033 non-null  object        \n",
            " 7   country            41033 non-null  object        \n",
            " 8   neutral            41033 non-null  bool          \n",
            " 9   score_diff         41033 non-null  int64         \n",
            " 10  result             41033 non-null  object        \n",
            " 11  tournament_type    41033 non-null  object        \n",
            " 12  year               41033 non-null  int64         \n",
            " 13  month              41033 non-null  int64         \n",
            " 14  home_rank          18730 non-null  float64       \n",
            " 15  country_abrv_x     18730 non-null  object        \n",
            " 16  total_points_x     18730 non-null  float64       \n",
            " 17  previous_points_x  18730 non-null  float64       \n",
            " 18  rank_change_x      18730 non-null  float64       \n",
            " 19  confederation_x    18730 non-null  object        \n",
            " 20  date_y             18730 non-null  datetime64[ns]\n",
            " 21  rank               18640 non-null  float64       \n",
            " 22  country_abrv_y     18640 non-null  object        \n",
            " 23  total_points_y     18640 non-null  float64       \n",
            " 24  previous_points_y  18640 non-null  float64       \n",
            " 25  rank_change_y      18640 non-null  float64       \n",
            " 26  confederation_y    18640 non-null  object        \n",
            " 27  date               18640 non-null  datetime64[ns]\n",
            "dtypes: bool(1), datetime64[ns](3), float64(8), int64(5), object(11)\n",
            "memory usage: 8.8+ MB\n"
          ],
          "name": "stdout"
        }
      ]
    },
    {
      "cell_type": "code",
      "metadata": {
        "colab": {
          "base_uri": "https://localhost:8080/",
          "height": 299
        },
        "id": "weMIH4WMCtKh",
        "outputId": "d721ea99-b41c-429c-d5c4-dc3dd9106a80"
      },
      "source": [
        "# Changing the column rank to away_rank\n",
        "\n",
        "merge_final.rename({'rank' : 'away_rank'}, axis=1, inplace = True)\n",
        "\n",
        "merge_final.head()"
      ],
      "execution_count": null,
      "outputs": [
        {
          "output_type": "execute_result",
          "data": {
            "text/html": [
              "<div>\n",
              "<style scoped>\n",
              "    .dataframe tbody tr th:only-of-type {\n",
              "        vertical-align: middle;\n",
              "    }\n",
              "\n",
              "    .dataframe tbody tr th {\n",
              "        vertical-align: top;\n",
              "    }\n",
              "\n",
              "    .dataframe thead th {\n",
              "        text-align: right;\n",
              "    }\n",
              "</style>\n",
              "<table border=\"1\" class=\"dataframe\">\n",
              "  <thead>\n",
              "    <tr style=\"text-align: right;\">\n",
              "      <th></th>\n",
              "      <th>date_x</th>\n",
              "      <th>home_team</th>\n",
              "      <th>away_team</th>\n",
              "      <th>home_score</th>\n",
              "      <th>away_score</th>\n",
              "      <th>tournament</th>\n",
              "      <th>city</th>\n",
              "      <th>country</th>\n",
              "      <th>neutral</th>\n",
              "      <th>score_diff</th>\n",
              "      <th>result</th>\n",
              "      <th>tournament_type</th>\n",
              "      <th>year</th>\n",
              "      <th>month</th>\n",
              "      <th>home_rank</th>\n",
              "      <th>country_abrv_x</th>\n",
              "      <th>total_points_x</th>\n",
              "      <th>previous_points_x</th>\n",
              "      <th>rank_change_x</th>\n",
              "      <th>confederation_x</th>\n",
              "      <th>date_y</th>\n",
              "      <th>away_rank</th>\n",
              "      <th>country_abrv_y</th>\n",
              "      <th>total_points_y</th>\n",
              "      <th>previous_points_y</th>\n",
              "      <th>rank_change_y</th>\n",
              "      <th>confederation_y</th>\n",
              "      <th>date</th>\n",
              "    </tr>\n",
              "  </thead>\n",
              "  <tbody>\n",
              "    <tr>\n",
              "      <th>0</th>\n",
              "      <td>1872-11-30</td>\n",
              "      <td>Scotland</td>\n",
              "      <td>England</td>\n",
              "      <td>0</td>\n",
              "      <td>0</td>\n",
              "      <td>Friendly</td>\n",
              "      <td>Glasgow</td>\n",
              "      <td>Scotland</td>\n",
              "      <td>False</td>\n",
              "      <td>0</td>\n",
              "      <td>draw</td>\n",
              "      <td>Friendly</td>\n",
              "      <td>1872</td>\n",
              "      <td>11</td>\n",
              "      <td>NaN</td>\n",
              "      <td>NaN</td>\n",
              "      <td>NaN</td>\n",
              "      <td>NaN</td>\n",
              "      <td>NaN</td>\n",
              "      <td>NaN</td>\n",
              "      <td>NaT</td>\n",
              "      <td>NaN</td>\n",
              "      <td>NaN</td>\n",
              "      <td>NaN</td>\n",
              "      <td>NaN</td>\n",
              "      <td>NaN</td>\n",
              "      <td>NaN</td>\n",
              "      <td>NaT</td>\n",
              "    </tr>\n",
              "    <tr>\n",
              "      <th>1</th>\n",
              "      <td>1873-03-08</td>\n",
              "      <td>England</td>\n",
              "      <td>Scotland</td>\n",
              "      <td>4</td>\n",
              "      <td>2</td>\n",
              "      <td>Friendly</td>\n",
              "      <td>London</td>\n",
              "      <td>England</td>\n",
              "      <td>False</td>\n",
              "      <td>2</td>\n",
              "      <td>win</td>\n",
              "      <td>Friendly</td>\n",
              "      <td>1873</td>\n",
              "      <td>3</td>\n",
              "      <td>NaN</td>\n",
              "      <td>NaN</td>\n",
              "      <td>NaN</td>\n",
              "      <td>NaN</td>\n",
              "      <td>NaN</td>\n",
              "      <td>NaN</td>\n",
              "      <td>NaT</td>\n",
              "      <td>NaN</td>\n",
              "      <td>NaN</td>\n",
              "      <td>NaN</td>\n",
              "      <td>NaN</td>\n",
              "      <td>NaN</td>\n",
              "      <td>NaN</td>\n",
              "      <td>NaT</td>\n",
              "    </tr>\n",
              "    <tr>\n",
              "      <th>2</th>\n",
              "      <td>1874-03-07</td>\n",
              "      <td>Scotland</td>\n",
              "      <td>England</td>\n",
              "      <td>2</td>\n",
              "      <td>1</td>\n",
              "      <td>Friendly</td>\n",
              "      <td>Glasgow</td>\n",
              "      <td>Scotland</td>\n",
              "      <td>False</td>\n",
              "      <td>1</td>\n",
              "      <td>win</td>\n",
              "      <td>Friendly</td>\n",
              "      <td>1874</td>\n",
              "      <td>3</td>\n",
              "      <td>NaN</td>\n",
              "      <td>NaN</td>\n",
              "      <td>NaN</td>\n",
              "      <td>NaN</td>\n",
              "      <td>NaN</td>\n",
              "      <td>NaN</td>\n",
              "      <td>NaT</td>\n",
              "      <td>NaN</td>\n",
              "      <td>NaN</td>\n",
              "      <td>NaN</td>\n",
              "      <td>NaN</td>\n",
              "      <td>NaN</td>\n",
              "      <td>NaN</td>\n",
              "      <td>NaT</td>\n",
              "    </tr>\n",
              "    <tr>\n",
              "      <th>3</th>\n",
              "      <td>1875-03-06</td>\n",
              "      <td>England</td>\n",
              "      <td>Scotland</td>\n",
              "      <td>2</td>\n",
              "      <td>2</td>\n",
              "      <td>Friendly</td>\n",
              "      <td>London</td>\n",
              "      <td>England</td>\n",
              "      <td>False</td>\n",
              "      <td>0</td>\n",
              "      <td>draw</td>\n",
              "      <td>Friendly</td>\n",
              "      <td>1875</td>\n",
              "      <td>3</td>\n",
              "      <td>NaN</td>\n",
              "      <td>NaN</td>\n",
              "      <td>NaN</td>\n",
              "      <td>NaN</td>\n",
              "      <td>NaN</td>\n",
              "      <td>NaN</td>\n",
              "      <td>NaT</td>\n",
              "      <td>NaN</td>\n",
              "      <td>NaN</td>\n",
              "      <td>NaN</td>\n",
              "      <td>NaN</td>\n",
              "      <td>NaN</td>\n",
              "      <td>NaN</td>\n",
              "      <td>NaT</td>\n",
              "    </tr>\n",
              "    <tr>\n",
              "      <th>4</th>\n",
              "      <td>1876-03-04</td>\n",
              "      <td>Scotland</td>\n",
              "      <td>England</td>\n",
              "      <td>3</td>\n",
              "      <td>0</td>\n",
              "      <td>Friendly</td>\n",
              "      <td>Glasgow</td>\n",
              "      <td>Scotland</td>\n",
              "      <td>False</td>\n",
              "      <td>3</td>\n",
              "      <td>win</td>\n",
              "      <td>Friendly</td>\n",
              "      <td>1876</td>\n",
              "      <td>3</td>\n",
              "      <td>NaN</td>\n",
              "      <td>NaN</td>\n",
              "      <td>NaN</td>\n",
              "      <td>NaN</td>\n",
              "      <td>NaN</td>\n",
              "      <td>NaN</td>\n",
              "      <td>NaT</td>\n",
              "      <td>NaN</td>\n",
              "      <td>NaN</td>\n",
              "      <td>NaN</td>\n",
              "      <td>NaN</td>\n",
              "      <td>NaN</td>\n",
              "      <td>NaN</td>\n",
              "      <td>NaT</td>\n",
              "    </tr>\n",
              "  </tbody>\n",
              "</table>\n",
              "</div>"
            ],
            "text/plain": [
              "      date_x home_team away_team  ...  rank_change_y  confederation_y date\n",
              "0 1872-11-30  Scotland   England  ...            NaN              NaN  NaT\n",
              "1 1873-03-08   England  Scotland  ...            NaN              NaN  NaT\n",
              "2 1874-03-07  Scotland   England  ...            NaN              NaN  NaT\n",
              "3 1875-03-06   England  Scotland  ...            NaN              NaN  NaT\n",
              "4 1876-03-04  Scotland   England  ...            NaN              NaN  NaT\n",
              "\n",
              "[5 rows x 28 columns]"
            ]
          },
          "metadata": {
            "tags": []
          },
          "execution_count": 30
        }
      ]
    },
    {
      "cell_type": "markdown",
      "metadata": {
        "id": "7uxdpitgDYQg"
      },
      "source": [
        "###b) Data cleaning"
      ]
    },
    {
      "cell_type": "code",
      "metadata": {
        "colab": {
          "base_uri": "https://localhost:8080/"
        },
        "id": "gNsdsi8FDdB7",
        "outputId": "1f2a6fbf-f15a-402c-a2fc-905a78e8366a"
      },
      "source": [
        "# Checking for null values\n",
        "\n",
        "merge_final.isnull().sum()\n",
        "\n",
        "# The values that are missing are missing because of the left merge operation.\n",
        "# Months and years that were in one dataset may not be available in another which means the\n",
        "# values in those columns will be null"
      ],
      "execution_count": null,
      "outputs": [
        {
          "output_type": "execute_result",
          "data": {
            "text/plain": [
              "date_x                   0\n",
              "home_team                0\n",
              "away_team                0\n",
              "home_score               0\n",
              "away_score               0\n",
              "tournament               0\n",
              "city                     0\n",
              "country                  0\n",
              "neutral                  0\n",
              "score_diff               0\n",
              "result                   0\n",
              "tournament_type          0\n",
              "year                     0\n",
              "month                    0\n",
              "home_rank            22303\n",
              "country_abrv_x       22303\n",
              "total_points_x       22303\n",
              "previous_points_x    22303\n",
              "rank_change_x        22303\n",
              "confederation_x      22303\n",
              "date_y               22303\n",
              "away_rank            22393\n",
              "country_abrv_y       22393\n",
              "total_points_y       22393\n",
              "previous_points_y    22393\n",
              "rank_change_y        22393\n",
              "confederation_y      22393\n",
              "date                 22393\n",
              "dtype: int64"
            ]
          },
          "metadata": {
            "tags": []
          },
          "execution_count": 31
        }
      ]
    },
    {
      "cell_type": "code",
      "metadata": {
        "id": "AOo4wNW_DsA5"
      },
      "source": [
        "# Dropping null all rows that have null values since the cannot be replaced with zero or imputed\n",
        "\n",
        "merge_final.dropna(inplace=True)"
      ],
      "execution_count": null,
      "outputs": []
    },
    {
      "cell_type": "code",
      "metadata": {
        "colab": {
          "base_uri": "https://localhost:8080/"
        },
        "id": "Ue71uWxcEsi6",
        "outputId": "324a46de-3bd1-4eef-a801-58ae27e9dbbe"
      },
      "source": [
        "# Checking on the number of non-null observations we are left with\n",
        "\n",
        "merge_final.info()\n",
        "\n",
        "# We are left with 16957 non-null observations"
      ],
      "execution_count": null,
      "outputs": [
        {
          "output_type": "stream",
          "text": [
            "<class 'pandas.core.frame.DataFrame'>\n",
            "Int64Index: 16957 entries, 17910 to 40105\n",
            "Data columns (total 28 columns):\n",
            " #   Column             Non-Null Count  Dtype         \n",
            "---  ------             --------------  -----         \n",
            " 0   date_x             16957 non-null  datetime64[ns]\n",
            " 1   home_team          16957 non-null  object        \n",
            " 2   away_team          16957 non-null  object        \n",
            " 3   home_score         16957 non-null  int64         \n",
            " 4   away_score         16957 non-null  int64         \n",
            " 5   tournament         16957 non-null  object        \n",
            " 6   city               16957 non-null  object        \n",
            " 7   country            16957 non-null  object        \n",
            " 8   neutral            16957 non-null  bool          \n",
            " 9   score_diff         16957 non-null  int64         \n",
            " 10  result             16957 non-null  object        \n",
            " 11  tournament_type    16957 non-null  object        \n",
            " 12  year               16957 non-null  int64         \n",
            " 13  month              16957 non-null  int64         \n",
            " 14  home_rank          16957 non-null  float64       \n",
            " 15  country_abrv_x     16957 non-null  object        \n",
            " 16  total_points_x     16957 non-null  float64       \n",
            " 17  previous_points_x  16957 non-null  float64       \n",
            " 18  rank_change_x      16957 non-null  float64       \n",
            " 19  confederation_x    16957 non-null  object        \n",
            " 20  date_y             16957 non-null  datetime64[ns]\n",
            " 21  away_rank          16957 non-null  float64       \n",
            " 22  country_abrv_y     16957 non-null  object        \n",
            " 23  total_points_y     16957 non-null  float64       \n",
            " 24  previous_points_y  16957 non-null  float64       \n",
            " 25  rank_change_y      16957 non-null  float64       \n",
            " 26  confederation_y    16957 non-null  object        \n",
            " 27  date               16957 non-null  datetime64[ns]\n",
            "dtypes: bool(1), datetime64[ns](3), float64(8), int64(5), object(11)\n",
            "memory usage: 3.6+ MB\n"
          ],
          "name": "stdout"
        }
      ]
    },
    {
      "cell_type": "code",
      "metadata": {
        "colab": {
          "base_uri": "https://localhost:8080/",
          "height": 446
        },
        "id": "BMCMd8rcMefS",
        "outputId": "9eaff171-f038-4d97-f6d9-7ec2d85be5f6"
      },
      "source": [
        "# Previewing the dataset\n",
        "\n",
        "merge_final.head(6)"
      ],
      "execution_count": null,
      "outputs": [
        {
          "output_type": "execute_result",
          "data": {
            "text/html": [
              "<div>\n",
              "<style scoped>\n",
              "    .dataframe tbody tr th:only-of-type {\n",
              "        vertical-align: middle;\n",
              "    }\n",
              "\n",
              "    .dataframe tbody tr th {\n",
              "        vertical-align: top;\n",
              "    }\n",
              "\n",
              "    .dataframe thead th {\n",
              "        text-align: right;\n",
              "    }\n",
              "</style>\n",
              "<table border=\"1\" class=\"dataframe\">\n",
              "  <thead>\n",
              "    <tr style=\"text-align: right;\">\n",
              "      <th></th>\n",
              "      <th>date_x</th>\n",
              "      <th>home_team</th>\n",
              "      <th>away_team</th>\n",
              "      <th>home_score</th>\n",
              "      <th>away_score</th>\n",
              "      <th>tournament</th>\n",
              "      <th>city</th>\n",
              "      <th>country</th>\n",
              "      <th>neutral</th>\n",
              "      <th>score_diff</th>\n",
              "      <th>result</th>\n",
              "      <th>tournament_type</th>\n",
              "      <th>year</th>\n",
              "      <th>month</th>\n",
              "      <th>home_rank</th>\n",
              "      <th>country_abrv_x</th>\n",
              "      <th>total_points_x</th>\n",
              "      <th>previous_points_x</th>\n",
              "      <th>rank_change_x</th>\n",
              "      <th>confederation_x</th>\n",
              "      <th>date_y</th>\n",
              "      <th>away_rank</th>\n",
              "      <th>country_abrv_y</th>\n",
              "      <th>total_points_y</th>\n",
              "      <th>previous_points_y</th>\n",
              "      <th>rank_change_y</th>\n",
              "      <th>confederation_y</th>\n",
              "      <th>date</th>\n",
              "    </tr>\n",
              "  </thead>\n",
              "  <tbody>\n",
              "    <tr>\n",
              "      <th>17910</th>\n",
              "      <td>1993-08-01</td>\n",
              "      <td>Colombia</td>\n",
              "      <td>Paraguay</td>\n",
              "      <td>0</td>\n",
              "      <td>0</td>\n",
              "      <td>FIFA World Cup qualification</td>\n",
              "      <td>Barranquilla</td>\n",
              "      <td>Colombia</td>\n",
              "      <td>False</td>\n",
              "      <td>0</td>\n",
              "      <td>draw</td>\n",
              "      <td>Other</td>\n",
              "      <td>1993</td>\n",
              "      <td>8</td>\n",
              "      <td>19.0</td>\n",
              "      <td>COL</td>\n",
              "      <td>0.0</td>\n",
              "      <td>36.0</td>\n",
              "      <td>16.0</td>\n",
              "      <td>CONMEBOL</td>\n",
              "      <td>1993-08-08</td>\n",
              "      <td>67.0</td>\n",
              "      <td>PAR</td>\n",
              "      <td>0.0</td>\n",
              "      <td>22.0</td>\n",
              "      <td>1.0</td>\n",
              "      <td>CONMEBOL</td>\n",
              "      <td>1993-08-08</td>\n",
              "    </tr>\n",
              "    <tr>\n",
              "      <th>17911</th>\n",
              "      <td>1993-08-01</td>\n",
              "      <td>Peru</td>\n",
              "      <td>Argentina</td>\n",
              "      <td>0</td>\n",
              "      <td>1</td>\n",
              "      <td>FIFA World Cup qualification</td>\n",
              "      <td>Lima</td>\n",
              "      <td>Peru</td>\n",
              "      <td>False</td>\n",
              "      <td>-1</td>\n",
              "      <td>loss</td>\n",
              "      <td>Other</td>\n",
              "      <td>1993</td>\n",
              "      <td>8</td>\n",
              "      <td>70.0</td>\n",
              "      <td>PER</td>\n",
              "      <td>0.0</td>\n",
              "      <td>16.0</td>\n",
              "      <td>8.0</td>\n",
              "      <td>CONMEBOL</td>\n",
              "      <td>1993-08-08</td>\n",
              "      <td>5.0</td>\n",
              "      <td>ARG</td>\n",
              "      <td>0.0</td>\n",
              "      <td>51.0</td>\n",
              "      <td>5.0</td>\n",
              "      <td>CONMEBOL</td>\n",
              "      <td>1993-08-08</td>\n",
              "    </tr>\n",
              "    <tr>\n",
              "      <th>17912</th>\n",
              "      <td>1993-08-01</td>\n",
              "      <td>Uruguay</td>\n",
              "      <td>Ecuador</td>\n",
              "      <td>0</td>\n",
              "      <td>0</td>\n",
              "      <td>FIFA World Cup qualification</td>\n",
              "      <td>Montevideo</td>\n",
              "      <td>Uruguay</td>\n",
              "      <td>False</td>\n",
              "      <td>0</td>\n",
              "      <td>draw</td>\n",
              "      <td>Other</td>\n",
              "      <td>1993</td>\n",
              "      <td>8</td>\n",
              "      <td>22.0</td>\n",
              "      <td>URU</td>\n",
              "      <td>0.0</td>\n",
              "      <td>47.0</td>\n",
              "      <td>-6.0</td>\n",
              "      <td>CONMEBOL</td>\n",
              "      <td>1993-08-08</td>\n",
              "      <td>35.0</td>\n",
              "      <td>ECU</td>\n",
              "      <td>0.0</td>\n",
              "      <td>23.0</td>\n",
              "      <td>30.0</td>\n",
              "      <td>CONMEBOL</td>\n",
              "      <td>1993-08-08</td>\n",
              "    </tr>\n",
              "    <tr>\n",
              "      <th>17913</th>\n",
              "      <td>1993-08-01</td>\n",
              "      <td>Venezuela</td>\n",
              "      <td>Brazil</td>\n",
              "      <td>1</td>\n",
              "      <td>5</td>\n",
              "      <td>FIFA World Cup qualification</td>\n",
              "      <td>San Cristóbal</td>\n",
              "      <td>Venezuela</td>\n",
              "      <td>False</td>\n",
              "      <td>-4</td>\n",
              "      <td>loss</td>\n",
              "      <td>Other</td>\n",
              "      <td>1993</td>\n",
              "      <td>8</td>\n",
              "      <td>94.0</td>\n",
              "      <td>VEN</td>\n",
              "      <td>0.0</td>\n",
              "      <td>4.0</td>\n",
              "      <td>31.0</td>\n",
              "      <td>CONMEBOL</td>\n",
              "      <td>1993-08-08</td>\n",
              "      <td>8.0</td>\n",
              "      <td>BRA</td>\n",
              "      <td>0.0</td>\n",
              "      <td>55.0</td>\n",
              "      <td>-5.0</td>\n",
              "      <td>CONMEBOL</td>\n",
              "      <td>1993-08-08</td>\n",
              "    </tr>\n",
              "    <tr>\n",
              "      <th>17914</th>\n",
              "      <td>1993-08-07</td>\n",
              "      <td>Senegal</td>\n",
              "      <td>Zambia</td>\n",
              "      <td>0</td>\n",
              "      <td>0</td>\n",
              "      <td>FIFA World Cup qualification</td>\n",
              "      <td>Abidjan</td>\n",
              "      <td>Ivory Coast</td>\n",
              "      <td>True</td>\n",
              "      <td>0</td>\n",
              "      <td>draw</td>\n",
              "      <td>Other</td>\n",
              "      <td>1993</td>\n",
              "      <td>8</td>\n",
              "      <td>58.0</td>\n",
              "      <td>SEN</td>\n",
              "      <td>0.0</td>\n",
              "      <td>27.0</td>\n",
              "      <td>-7.0</td>\n",
              "      <td>CAF</td>\n",
              "      <td>1993-08-08</td>\n",
              "      <td>25.0</td>\n",
              "      <td>ZAM</td>\n",
              "      <td>0.0</td>\n",
              "      <td>38.0</td>\n",
              "      <td>7.0</td>\n",
              "      <td>CAF</td>\n",
              "      <td>1993-08-08</td>\n",
              "    </tr>\n",
              "    <tr>\n",
              "      <th>17915</th>\n",
              "      <td>1993-08-08</td>\n",
              "      <td>Bolivia</td>\n",
              "      <td>Uruguay</td>\n",
              "      <td>3</td>\n",
              "      <td>1</td>\n",
              "      <td>FIFA World Cup qualification</td>\n",
              "      <td>La Paz</td>\n",
              "      <td>Bolivia</td>\n",
              "      <td>False</td>\n",
              "      <td>2</td>\n",
              "      <td>win</td>\n",
              "      <td>Other</td>\n",
              "      <td>1993</td>\n",
              "      <td>8</td>\n",
              "      <td>59.0</td>\n",
              "      <td>BOL</td>\n",
              "      <td>0.0</td>\n",
              "      <td>13.0</td>\n",
              "      <td>28.0</td>\n",
              "      <td>CONMEBOL</td>\n",
              "      <td>1993-08-08</td>\n",
              "      <td>22.0</td>\n",
              "      <td>URU</td>\n",
              "      <td>0.0</td>\n",
              "      <td>47.0</td>\n",
              "      <td>-6.0</td>\n",
              "      <td>CONMEBOL</td>\n",
              "      <td>1993-08-08</td>\n",
              "    </tr>\n",
              "  </tbody>\n",
              "</table>\n",
              "</div>"
            ],
            "text/plain": [
              "          date_x  home_team  ... confederation_y       date\n",
              "17910 1993-08-01   Colombia  ...        CONMEBOL 1993-08-08\n",
              "17911 1993-08-01       Peru  ...        CONMEBOL 1993-08-08\n",
              "17912 1993-08-01    Uruguay  ...        CONMEBOL 1993-08-08\n",
              "17913 1993-08-01  Venezuela  ...        CONMEBOL 1993-08-08\n",
              "17914 1993-08-07    Senegal  ...             CAF 1993-08-08\n",
              "17915 1993-08-08    Bolivia  ...        CONMEBOL 1993-08-08\n",
              "\n",
              "[6 rows x 28 columns]"
            ]
          },
          "metadata": {
            "tags": []
          },
          "execution_count": 34
        }
      ]
    },
    {
      "cell_type": "code",
      "metadata": {
        "colab": {
          "base_uri": "https://localhost:8080/"
        },
        "id": "gvR6kNO2MCZg",
        "outputId": "cf8475ed-7e4f-400d-aab5-2215f33757d3"
      },
      "source": [
        "# Checking on the columns in the final merged dataframe\n",
        "\n",
        "merge_final.columns"
      ],
      "execution_count": null,
      "outputs": [
        {
          "output_type": "execute_result",
          "data": {
            "text/plain": [
              "Index(['date_x', 'home_team', 'away_team', 'home_score', 'away_score',\n",
              "       'tournament', 'city', 'country', 'neutral', 'score_diff', 'result',\n",
              "       'tournament_type', 'year', 'month', 'home_rank', 'country_abrv_x',\n",
              "       'total_points_x', 'previous_points_x', 'rank_change_x',\n",
              "       'confederation_x', 'date_y', 'away_rank', 'country_abrv_y',\n",
              "       'total_points_y', 'previous_points_y', 'rank_change_y',\n",
              "       'confederation_y', 'date'],\n",
              "      dtype='object')"
            ]
          },
          "metadata": {
            "tags": []
          },
          "execution_count": 35
        }
      ]
    },
    {
      "cell_type": "code",
      "metadata": {
        "colab": {
          "base_uri": "https://localhost:8080/",
          "height": 195
        },
        "id": "_jGvcAVYMP4g",
        "outputId": "fa3d2601-77f9-456a-ea7c-c45a1b12070e"
      },
      "source": [
        "# Dropping all the unnecessary columns\n",
        "\n",
        "merge_final.drop(['tournament', 'city', 'country', 'neutral',\n",
        "                  'country_abrv_x','total_points_x', 'previous_points_x',\n",
        "                  'rank_change_x','confederation_x', 'date_y',\n",
        "                  'country_abrv_y','total_points_y', 'previous_points_y', \n",
        "                  'rank_change_y','confederation_y', 'date', 'score_diff'], axis = 1, inplace = True)\n",
        "\n",
        "merge_final.head()"
      ],
      "execution_count": null,
      "outputs": [
        {
          "output_type": "execute_result",
          "data": {
            "text/html": [
              "<div>\n",
              "<style scoped>\n",
              "    .dataframe tbody tr th:only-of-type {\n",
              "        vertical-align: middle;\n",
              "    }\n",
              "\n",
              "    .dataframe tbody tr th {\n",
              "        vertical-align: top;\n",
              "    }\n",
              "\n",
              "    .dataframe thead th {\n",
              "        text-align: right;\n",
              "    }\n",
              "</style>\n",
              "<table border=\"1\" class=\"dataframe\">\n",
              "  <thead>\n",
              "    <tr style=\"text-align: right;\">\n",
              "      <th></th>\n",
              "      <th>date_x</th>\n",
              "      <th>home_team</th>\n",
              "      <th>away_team</th>\n",
              "      <th>home_score</th>\n",
              "      <th>away_score</th>\n",
              "      <th>result</th>\n",
              "      <th>tournament_type</th>\n",
              "      <th>year</th>\n",
              "      <th>month</th>\n",
              "      <th>home_rank</th>\n",
              "      <th>away_rank</th>\n",
              "    </tr>\n",
              "  </thead>\n",
              "  <tbody>\n",
              "    <tr>\n",
              "      <th>17910</th>\n",
              "      <td>1993-08-01</td>\n",
              "      <td>Colombia</td>\n",
              "      <td>Paraguay</td>\n",
              "      <td>0</td>\n",
              "      <td>0</td>\n",
              "      <td>draw</td>\n",
              "      <td>Other</td>\n",
              "      <td>1993</td>\n",
              "      <td>8</td>\n",
              "      <td>19.0</td>\n",
              "      <td>67.0</td>\n",
              "    </tr>\n",
              "    <tr>\n",
              "      <th>17911</th>\n",
              "      <td>1993-08-01</td>\n",
              "      <td>Peru</td>\n",
              "      <td>Argentina</td>\n",
              "      <td>0</td>\n",
              "      <td>1</td>\n",
              "      <td>loss</td>\n",
              "      <td>Other</td>\n",
              "      <td>1993</td>\n",
              "      <td>8</td>\n",
              "      <td>70.0</td>\n",
              "      <td>5.0</td>\n",
              "    </tr>\n",
              "    <tr>\n",
              "      <th>17912</th>\n",
              "      <td>1993-08-01</td>\n",
              "      <td>Uruguay</td>\n",
              "      <td>Ecuador</td>\n",
              "      <td>0</td>\n",
              "      <td>0</td>\n",
              "      <td>draw</td>\n",
              "      <td>Other</td>\n",
              "      <td>1993</td>\n",
              "      <td>8</td>\n",
              "      <td>22.0</td>\n",
              "      <td>35.0</td>\n",
              "    </tr>\n",
              "    <tr>\n",
              "      <th>17913</th>\n",
              "      <td>1993-08-01</td>\n",
              "      <td>Venezuela</td>\n",
              "      <td>Brazil</td>\n",
              "      <td>1</td>\n",
              "      <td>5</td>\n",
              "      <td>loss</td>\n",
              "      <td>Other</td>\n",
              "      <td>1993</td>\n",
              "      <td>8</td>\n",
              "      <td>94.0</td>\n",
              "      <td>8.0</td>\n",
              "    </tr>\n",
              "    <tr>\n",
              "      <th>17914</th>\n",
              "      <td>1993-08-07</td>\n",
              "      <td>Senegal</td>\n",
              "      <td>Zambia</td>\n",
              "      <td>0</td>\n",
              "      <td>0</td>\n",
              "      <td>draw</td>\n",
              "      <td>Other</td>\n",
              "      <td>1993</td>\n",
              "      <td>8</td>\n",
              "      <td>58.0</td>\n",
              "      <td>25.0</td>\n",
              "    </tr>\n",
              "  </tbody>\n",
              "</table>\n",
              "</div>"
            ],
            "text/plain": [
              "          date_x  home_team  away_team  ...  month  home_rank away_rank\n",
              "17910 1993-08-01   Colombia   Paraguay  ...      8       19.0      67.0\n",
              "17911 1993-08-01       Peru  Argentina  ...      8       70.0       5.0\n",
              "17912 1993-08-01    Uruguay    Ecuador  ...      8       22.0      35.0\n",
              "17913 1993-08-01  Venezuela     Brazil  ...      8       94.0       8.0\n",
              "17914 1993-08-07    Senegal     Zambia  ...      8       58.0      25.0\n",
              "\n",
              "[5 rows x 11 columns]"
            ]
          },
          "metadata": {
            "tags": []
          },
          "execution_count": 36
        }
      ]
    },
    {
      "cell_type": "code",
      "metadata": {
        "colab": {
          "base_uri": "https://localhost:8080/",
          "height": 195
        },
        "id": "skFfb6uQO8LY",
        "outputId": "43e12330-0f25-4a65-8481-19c18f0014b7"
      },
      "source": [
        "# Changing the date_x column to date\n",
        "\n",
        "merge_final.rename({'date_x' : 'date'}, axis = 1, inplace= True)\n",
        "\n",
        "merge_final.head()\n"
      ],
      "execution_count": null,
      "outputs": [
        {
          "output_type": "execute_result",
          "data": {
            "text/html": [
              "<div>\n",
              "<style scoped>\n",
              "    .dataframe tbody tr th:only-of-type {\n",
              "        vertical-align: middle;\n",
              "    }\n",
              "\n",
              "    .dataframe tbody tr th {\n",
              "        vertical-align: top;\n",
              "    }\n",
              "\n",
              "    .dataframe thead th {\n",
              "        text-align: right;\n",
              "    }\n",
              "</style>\n",
              "<table border=\"1\" class=\"dataframe\">\n",
              "  <thead>\n",
              "    <tr style=\"text-align: right;\">\n",
              "      <th></th>\n",
              "      <th>date</th>\n",
              "      <th>home_team</th>\n",
              "      <th>away_team</th>\n",
              "      <th>home_score</th>\n",
              "      <th>away_score</th>\n",
              "      <th>result</th>\n",
              "      <th>tournament_type</th>\n",
              "      <th>year</th>\n",
              "      <th>month</th>\n",
              "      <th>home_rank</th>\n",
              "      <th>away_rank</th>\n",
              "    </tr>\n",
              "  </thead>\n",
              "  <tbody>\n",
              "    <tr>\n",
              "      <th>17910</th>\n",
              "      <td>1993-08-01</td>\n",
              "      <td>Colombia</td>\n",
              "      <td>Paraguay</td>\n",
              "      <td>0</td>\n",
              "      <td>0</td>\n",
              "      <td>draw</td>\n",
              "      <td>Other</td>\n",
              "      <td>1993</td>\n",
              "      <td>8</td>\n",
              "      <td>19.0</td>\n",
              "      <td>67.0</td>\n",
              "    </tr>\n",
              "    <tr>\n",
              "      <th>17911</th>\n",
              "      <td>1993-08-01</td>\n",
              "      <td>Peru</td>\n",
              "      <td>Argentina</td>\n",
              "      <td>0</td>\n",
              "      <td>1</td>\n",
              "      <td>loss</td>\n",
              "      <td>Other</td>\n",
              "      <td>1993</td>\n",
              "      <td>8</td>\n",
              "      <td>70.0</td>\n",
              "      <td>5.0</td>\n",
              "    </tr>\n",
              "    <tr>\n",
              "      <th>17912</th>\n",
              "      <td>1993-08-01</td>\n",
              "      <td>Uruguay</td>\n",
              "      <td>Ecuador</td>\n",
              "      <td>0</td>\n",
              "      <td>0</td>\n",
              "      <td>draw</td>\n",
              "      <td>Other</td>\n",
              "      <td>1993</td>\n",
              "      <td>8</td>\n",
              "      <td>22.0</td>\n",
              "      <td>35.0</td>\n",
              "    </tr>\n",
              "    <tr>\n",
              "      <th>17913</th>\n",
              "      <td>1993-08-01</td>\n",
              "      <td>Venezuela</td>\n",
              "      <td>Brazil</td>\n",
              "      <td>1</td>\n",
              "      <td>5</td>\n",
              "      <td>loss</td>\n",
              "      <td>Other</td>\n",
              "      <td>1993</td>\n",
              "      <td>8</td>\n",
              "      <td>94.0</td>\n",
              "      <td>8.0</td>\n",
              "    </tr>\n",
              "    <tr>\n",
              "      <th>17914</th>\n",
              "      <td>1993-08-07</td>\n",
              "      <td>Senegal</td>\n",
              "      <td>Zambia</td>\n",
              "      <td>0</td>\n",
              "      <td>0</td>\n",
              "      <td>draw</td>\n",
              "      <td>Other</td>\n",
              "      <td>1993</td>\n",
              "      <td>8</td>\n",
              "      <td>58.0</td>\n",
              "      <td>25.0</td>\n",
              "    </tr>\n",
              "  </tbody>\n",
              "</table>\n",
              "</div>"
            ],
            "text/plain": [
              "            date  home_team  away_team  ...  month  home_rank away_rank\n",
              "17910 1993-08-01   Colombia   Paraguay  ...      8       19.0      67.0\n",
              "17911 1993-08-01       Peru  Argentina  ...      8       70.0       5.0\n",
              "17912 1993-08-01    Uruguay    Ecuador  ...      8       22.0      35.0\n",
              "17913 1993-08-01  Venezuela     Brazil  ...      8       94.0       8.0\n",
              "17914 1993-08-07    Senegal     Zambia  ...      8       58.0      25.0\n",
              "\n",
              "[5 rows x 11 columns]"
            ]
          },
          "metadata": {
            "tags": []
          },
          "execution_count": 37
        }
      ]
    },
    {
      "cell_type": "code",
      "metadata": {
        "colab": {
          "base_uri": "https://localhost:8080/",
          "height": 136
        },
        "id": "hVJhj_Crj7Wv",
        "outputId": "67c7f987-348c-4bb8-8e4d-9bcec28f05b4"
      },
      "source": [
        "# Reseting the index\n",
        "\n",
        "merge_final.reset_index(inplace=True)\n",
        "\n",
        "merge_final.head(3)"
      ],
      "execution_count": null,
      "outputs": [
        {
          "output_type": "execute_result",
          "data": {
            "text/html": [
              "<div>\n",
              "<style scoped>\n",
              "    .dataframe tbody tr th:only-of-type {\n",
              "        vertical-align: middle;\n",
              "    }\n",
              "\n",
              "    .dataframe tbody tr th {\n",
              "        vertical-align: top;\n",
              "    }\n",
              "\n",
              "    .dataframe thead th {\n",
              "        text-align: right;\n",
              "    }\n",
              "</style>\n",
              "<table border=\"1\" class=\"dataframe\">\n",
              "  <thead>\n",
              "    <tr style=\"text-align: right;\">\n",
              "      <th></th>\n",
              "      <th>index</th>\n",
              "      <th>date</th>\n",
              "      <th>home_team</th>\n",
              "      <th>away_team</th>\n",
              "      <th>home_score</th>\n",
              "      <th>away_score</th>\n",
              "      <th>result</th>\n",
              "      <th>tournament_type</th>\n",
              "      <th>year</th>\n",
              "      <th>month</th>\n",
              "      <th>home_rank</th>\n",
              "      <th>away_rank</th>\n",
              "    </tr>\n",
              "  </thead>\n",
              "  <tbody>\n",
              "    <tr>\n",
              "      <th>0</th>\n",
              "      <td>17910</td>\n",
              "      <td>1993-08-01</td>\n",
              "      <td>Colombia</td>\n",
              "      <td>Paraguay</td>\n",
              "      <td>0</td>\n",
              "      <td>0</td>\n",
              "      <td>draw</td>\n",
              "      <td>Other</td>\n",
              "      <td>1993</td>\n",
              "      <td>8</td>\n",
              "      <td>19.0</td>\n",
              "      <td>67.0</td>\n",
              "    </tr>\n",
              "    <tr>\n",
              "      <th>1</th>\n",
              "      <td>17911</td>\n",
              "      <td>1993-08-01</td>\n",
              "      <td>Peru</td>\n",
              "      <td>Argentina</td>\n",
              "      <td>0</td>\n",
              "      <td>1</td>\n",
              "      <td>loss</td>\n",
              "      <td>Other</td>\n",
              "      <td>1993</td>\n",
              "      <td>8</td>\n",
              "      <td>70.0</td>\n",
              "      <td>5.0</td>\n",
              "    </tr>\n",
              "    <tr>\n",
              "      <th>2</th>\n",
              "      <td>17912</td>\n",
              "      <td>1993-08-01</td>\n",
              "      <td>Uruguay</td>\n",
              "      <td>Ecuador</td>\n",
              "      <td>0</td>\n",
              "      <td>0</td>\n",
              "      <td>draw</td>\n",
              "      <td>Other</td>\n",
              "      <td>1993</td>\n",
              "      <td>8</td>\n",
              "      <td>22.0</td>\n",
              "      <td>35.0</td>\n",
              "    </tr>\n",
              "  </tbody>\n",
              "</table>\n",
              "</div>"
            ],
            "text/plain": [
              "   index       date home_team  away_team  ...  year  month home_rank away_rank\n",
              "0  17910 1993-08-01  Colombia   Paraguay  ...  1993      8      19.0      67.0\n",
              "1  17911 1993-08-01      Peru  Argentina  ...  1993      8      70.0       5.0\n",
              "2  17912 1993-08-01   Uruguay    Ecuador  ...  1993      8      22.0      35.0\n",
              "\n",
              "[3 rows x 12 columns]"
            ]
          },
          "metadata": {
            "tags": []
          },
          "execution_count": 38
        }
      ]
    },
    {
      "cell_type": "code",
      "metadata": {
        "colab": {
          "base_uri": "https://localhost:8080/",
          "height": 195
        },
        "id": "UHQ1kEsAkP48",
        "outputId": "80d05d21-7f72-4364-cfc4-d6cd2cebf78f"
      },
      "source": [
        "# Dropping index column\n",
        "\n",
        "merge_final.drop('index', axis=1, inplace=True)\n",
        "\n",
        "merge_final.head()"
      ],
      "execution_count": null,
      "outputs": [
        {
          "output_type": "execute_result",
          "data": {
            "text/html": [
              "<div>\n",
              "<style scoped>\n",
              "    .dataframe tbody tr th:only-of-type {\n",
              "        vertical-align: middle;\n",
              "    }\n",
              "\n",
              "    .dataframe tbody tr th {\n",
              "        vertical-align: top;\n",
              "    }\n",
              "\n",
              "    .dataframe thead th {\n",
              "        text-align: right;\n",
              "    }\n",
              "</style>\n",
              "<table border=\"1\" class=\"dataframe\">\n",
              "  <thead>\n",
              "    <tr style=\"text-align: right;\">\n",
              "      <th></th>\n",
              "      <th>date</th>\n",
              "      <th>home_team</th>\n",
              "      <th>away_team</th>\n",
              "      <th>home_score</th>\n",
              "      <th>away_score</th>\n",
              "      <th>result</th>\n",
              "      <th>tournament_type</th>\n",
              "      <th>year</th>\n",
              "      <th>month</th>\n",
              "      <th>home_rank</th>\n",
              "      <th>away_rank</th>\n",
              "    </tr>\n",
              "  </thead>\n",
              "  <tbody>\n",
              "    <tr>\n",
              "      <th>0</th>\n",
              "      <td>1993-08-01</td>\n",
              "      <td>Colombia</td>\n",
              "      <td>Paraguay</td>\n",
              "      <td>0</td>\n",
              "      <td>0</td>\n",
              "      <td>draw</td>\n",
              "      <td>Other</td>\n",
              "      <td>1993</td>\n",
              "      <td>8</td>\n",
              "      <td>19.0</td>\n",
              "      <td>67.0</td>\n",
              "    </tr>\n",
              "    <tr>\n",
              "      <th>1</th>\n",
              "      <td>1993-08-01</td>\n",
              "      <td>Peru</td>\n",
              "      <td>Argentina</td>\n",
              "      <td>0</td>\n",
              "      <td>1</td>\n",
              "      <td>loss</td>\n",
              "      <td>Other</td>\n",
              "      <td>1993</td>\n",
              "      <td>8</td>\n",
              "      <td>70.0</td>\n",
              "      <td>5.0</td>\n",
              "    </tr>\n",
              "    <tr>\n",
              "      <th>2</th>\n",
              "      <td>1993-08-01</td>\n",
              "      <td>Uruguay</td>\n",
              "      <td>Ecuador</td>\n",
              "      <td>0</td>\n",
              "      <td>0</td>\n",
              "      <td>draw</td>\n",
              "      <td>Other</td>\n",
              "      <td>1993</td>\n",
              "      <td>8</td>\n",
              "      <td>22.0</td>\n",
              "      <td>35.0</td>\n",
              "    </tr>\n",
              "    <tr>\n",
              "      <th>3</th>\n",
              "      <td>1993-08-01</td>\n",
              "      <td>Venezuela</td>\n",
              "      <td>Brazil</td>\n",
              "      <td>1</td>\n",
              "      <td>5</td>\n",
              "      <td>loss</td>\n",
              "      <td>Other</td>\n",
              "      <td>1993</td>\n",
              "      <td>8</td>\n",
              "      <td>94.0</td>\n",
              "      <td>8.0</td>\n",
              "    </tr>\n",
              "    <tr>\n",
              "      <th>4</th>\n",
              "      <td>1993-08-07</td>\n",
              "      <td>Senegal</td>\n",
              "      <td>Zambia</td>\n",
              "      <td>0</td>\n",
              "      <td>0</td>\n",
              "      <td>draw</td>\n",
              "      <td>Other</td>\n",
              "      <td>1993</td>\n",
              "      <td>8</td>\n",
              "      <td>58.0</td>\n",
              "      <td>25.0</td>\n",
              "    </tr>\n",
              "  </tbody>\n",
              "</table>\n",
              "</div>"
            ],
            "text/plain": [
              "        date  home_team  away_team  ...  month  home_rank away_rank\n",
              "0 1993-08-01   Colombia   Paraguay  ...      8       19.0      67.0\n",
              "1 1993-08-01       Peru  Argentina  ...      8       70.0       5.0\n",
              "2 1993-08-01    Uruguay    Ecuador  ...      8       22.0      35.0\n",
              "3 1993-08-01  Venezuela     Brazil  ...      8       94.0       8.0\n",
              "4 1993-08-07    Senegal     Zambia  ...      8       58.0      25.0\n",
              "\n",
              "[5 rows x 11 columns]"
            ]
          },
          "metadata": {
            "tags": []
          },
          "execution_count": 39
        }
      ]
    },
    {
      "cell_type": "code",
      "metadata": {
        "id": "hTaS7ED4lT-O",
        "colab": {
          "base_uri": "https://localhost:8080/"
        },
        "outputId": "7342aba1-1747-4aa1-af9f-b7c46a42e3d5"
      },
      "source": [
        "# Looking if there are any duplicates\n",
        "\n",
        "merge_final.duplicated().sum()\n",
        "\n",
        "# There are duplicated 57 duplicated observations"
      ],
      "execution_count": null,
      "outputs": [
        {
          "output_type": "execute_result",
          "data": {
            "text/plain": [
              "57"
            ]
          },
          "metadata": {
            "tags": []
          },
          "execution_count": 40
        }
      ]
    },
    {
      "cell_type": "code",
      "metadata": {
        "colab": {
          "base_uri": "https://localhost:8080/"
        },
        "id": "_CEbQ_-3llfq",
        "outputId": "2a89a030-e7fc-4fe2-de7e-6ebcf88d288d"
      },
      "source": [
        "# Dropping the duplicates\n",
        "\n",
        "merge_final.drop_duplicates(inplace=True)\n",
        "\n",
        "# Checking if there are any duplicates after cleaning\n",
        "\n",
        "merge_final.duplicated().sum()"
      ],
      "execution_count": null,
      "outputs": [
        {
          "output_type": "execute_result",
          "data": {
            "text/plain": [
              "0"
            ]
          },
          "metadata": {
            "tags": []
          },
          "execution_count": 41
        }
      ]
    },
    {
      "cell_type": "code",
      "metadata": {
        "colab": {
          "base_uri": "https://localhost:8080/",
          "height": 1000
        },
        "id": "vG9_lNr5mIv-",
        "outputId": "49a6785b-2bb9-45c7-ac44-751b983293db"
      },
      "source": [
        "# Checking for outliers in the dataset\n",
        "\n",
        "cols = ['home_score','away_score', 'home_rank', 'away_rank']\n",
        "\n",
        "for column in cols:\n",
        "    plt.figure()\n",
        "    merge_final.boxplot([column], fontsize= 12)\n",
        "    plt.ylabel('count', fontsize = 12)\n",
        "    plt.title('Boxplot - {}'.format(column), fontsize = 16)\n",
        "\n",
        "# There are some outliers but they may not have to be removed. Instead I will perform feature scaling later"
      ],
      "execution_count": null,
      "outputs": [
        {
          "output_type": "display_data",
          "data": {
            "image/png": "[encoded data removed]",
            "text/plain": [
              "<Figure size 432x288 with 1 Axes>"
            ]
          },
          "metadata": {
            "tags": [],
            "needs_background": "light"
          }
        },
        {
          "output_type": "display_data",
          "data": {
            "image/png": "[encoded data removed]",
            "text/plain": [
              "<Figure size 432x288 with 1 Axes>"
            ]
          },
          "metadata": {
            "tags": [],
            "needs_background": "light"
          }
        },
        {
          "output_type": "display_data",
          "data": {
            "image/png": "[encoded data removed]",
            "text/plain": [
              "<Figure size 432x288 with 1 Axes>"
            ]
          },
          "metadata": {
            "tags": [],
            "needs_background": "light"
          }
        },
        {
          "output_type": "display_data",
          "data": {
            "image/png": "[encoded data removed]",
            "text/plain": [
              "<Figure size 432x288 with 1 Axes>"
            ]
          },
          "metadata": {
            "tags": [],
            "needs_background": "light"
          }
        }
      ]
    },
    {
      "cell_type": "code",
      "metadata": {
        "colab": {
          "base_uri": "https://localhost:8080/"
        },
        "id": "PwSn4X40oxwz",
        "outputId": "0b676201-3dca-4208-a682-8d078ca813f7"
      },
      "source": [
        "merge_final.columns"
      ],
      "execution_count": null,
      "outputs": [
        {
          "output_type": "execute_result",
          "data": {
            "text/plain": [
              "Index(['date', 'home_team', 'away_team', 'home_score', 'away_score', 'result',\n",
              "       'tournament_type', 'year', 'month', 'home_rank', 'away_rank'],\n",
              "      dtype='object')"
            ]
          },
          "metadata": {
            "tags": []
          },
          "execution_count": 43
        }
      ]
    },
    {
      "cell_type": "code",
      "metadata": {
        "colab": {
          "base_uri": "https://localhost:8080/"
        },
        "id": "2IEsg4K_onvY",
        "outputId": "65812c7c-da46-4fb1-e03a-447c799d6404"
      },
      "source": [
        "# Checking for anomalies in the other columns\n",
        "\n",
        "qcol = ['result', 'tournament_type', 'year', 'month', 'home_team', 'away_team']\n",
        "\n",
        "for col in qcol:\n",
        "  print(col, ':', merge_final[col].unique(), '\\n')"
      ],
      "execution_count": null,
      "outputs": [
        {
          "output_type": "stream",
          "text": [
            "result : ['draw' 'loss' 'win'] \n",
            "\n",
            "tournament_type : ['Other' 'Friendly' 'World cup'] \n",
            "\n",
            "year : [1993 1994 1995 1996 1997 1998 1999 2000 2001 2002 2003 2004 2005 2006\n",
            " 2007 2008 2009 2010 2011 2012 2013 2014 2015 2016 2017 2018] \n",
            "\n",
            "month : [ 8  9 10 11 12  2  3  4  5  6  7  1] \n",
            "\n",
            "home_team : ['Colombia' 'Peru' 'Uruguay' 'Venezuela' 'Senegal' 'Bolivia' 'Brazil'\n",
            " 'Ecuador' 'Guinea' 'Paraguay' 'Faroe Islands' 'Sweden' 'Australia'\n",
            " 'Congo' 'Argentina' 'Austria' 'Denmark' 'Estonia' 'Albania' 'Bulgaria'\n",
            " 'England' 'Finland' 'Hungary' 'Iceland' 'Republic of Ireland'\n",
            " 'Northern Ireland' 'Scotland' 'Spain' 'Morocco' 'Saudi Arabia' 'Zimbabwe'\n",
            " 'Mexico' 'Norway' 'Romania' 'San Marino' 'Tunisia' 'Zambia' 'Cyprus'\n",
            " 'Belgium' 'Algeria' 'Cameroon' 'Luxembourg' 'France' 'Germany' 'Italy'\n",
            " 'Netherlands' 'Poland' 'Portugal' 'Wales' 'Burundi' 'Iraq'\n",
            " 'Liechtenstein' 'United Arab Emirates' 'Israel' 'Turkey' 'Egypt' 'Gabon'\n",
            " 'Slovakia' 'Greece' 'Malta' 'Switzerland' 'Gambia' 'Sierra Leone'\n",
            " 'Guinea-Bissau' 'Mali' 'Ghana' 'Tahiti' 'Kenya' 'Tanzania' 'Oman'\n",
            " 'Slovenia' 'Malawi' 'Cayman Islands' 'Nigeria' 'Dominican Republic'\n",
            " 'Angola' 'Suriname' 'Trinidad and Tobago' 'Lithuania' 'South Africa'\n",
            " 'Kuwait' 'El Salvador' 'Honduras' 'Chile' 'Japan' 'Fiji' 'Czech Republic'\n",
            " 'Ukraine' 'Russia' 'Canada' 'Latvia' 'Croatia' 'Costa Rica' 'Botswana'\n",
            " 'Solomon Islands' 'Vanuatu' 'Armenia' 'Georgia' 'Burkina Faso' 'Ethiopia'\n",
            " 'Liberia' 'Madagascar' 'Sudan' 'Qatar' 'Bangladesh' 'India' 'Malaysia'\n",
            " 'Belarus' 'Moldova' 'Mauritania' 'Namibia' 'Uganda' 'Mozambique' 'Niger'\n",
            " 'Togo' 'Bahrain' 'Lesotho' 'Grenada' 'Azerbaijan' 'Somalia' 'Hong Kong'\n",
            " 'New Zealand' 'Thailand' 'China PR' 'Guyana' 'Sri Lanka' 'Mauritius'\n",
            " 'Syria' 'Uzbekistan' 'Jamaica' 'Indonesia' 'Panama' 'Nicaragua'\n",
            " 'Guatemala' 'Antigua and Barbuda' 'Lebanon' 'Philippines' 'Macau' 'Haiti'\n",
            " 'Barbados' 'Tajikistan' 'Dominica' 'Turkmenistan' 'Cuba' 'Maldives'\n",
            " 'Singapore' 'Kazakhstan' 'Vietnam' 'Benin' 'Jordan' 'Rwanda' 'Seychelles'\n",
            " 'Cambodia' 'Laos' 'Papua New Guinea' 'Central African Republic'\n",
            " 'Bosnia and Herzegovina' 'Tonga' 'Andorra' 'Samoa' 'Aruba' 'Yemen'\n",
            " 'Pakistan' 'Nepal' 'Libya' 'Chad' 'Equatorial Guinea' 'Cook Islands'\n",
            " 'Bermuda' 'Eritrea' 'British Virgin Islands' 'Anguilla' 'Puerto Rico'\n",
            " 'Bahamas' 'Belize' 'Montserrat' 'Palestine' 'American Samoa' 'Djibouti'\n",
            " 'Mongolia' 'Afghanistan' 'Guam' 'Bhutan' 'Turks and Caicos Islands'\n",
            " 'Serbia' 'New Caledonia' 'Montenegro' 'Comoros' 'Chinese Taipei'\n",
            " 'Curaçao' 'South Sudan' 'Gibraltar' 'Kosovo'] \n",
            "\n",
            "away_team : ['Paraguay' 'Argentina' 'Ecuador' 'Brazil' 'Zambia' 'Uruguay' 'Mexico'\n",
            " 'Venezuela' 'Sierra Leone' 'Colombia' 'Norway' 'Switzerland' 'Canada'\n",
            " 'Guinea' 'Peru' 'France' 'Finland' 'Lithuania' 'Bolivia' 'Portugal'\n",
            " 'Denmark' 'Sweden' 'Poland' 'Romania' 'Russia' 'Luxembourg' 'Latvia'\n",
            " 'Chile' 'Mali' 'Thailand' 'Senegal' 'Spain' 'Italy' 'Cameroon' 'Israel'\n",
            " 'Netherlands' 'Germany' 'Costa Rica' 'Gabon' 'South Africa' 'Nigeria'\n",
            " 'Zimbabwe' 'Greece' 'Austria' 'Northern Ireland' 'Scotland' 'England'\n",
            " 'Belgium' 'Cyprus' 'Japan' 'Iceland' 'Ukraine' 'Saudi Arabia' 'Estonia'\n",
            " 'Jordan' 'China PR' 'Malta' 'Egypt' 'Slovenia' 'Australia' 'Bulgaria'\n",
            " 'Republic of Ireland' 'Mauritania' 'Ghana' 'Gambia' 'Guinea-Bissau'\n",
            " 'Fiji' 'Uganda' 'Tanzania' 'Tunisia' 'Morocco' 'Slovakia' 'Kenya'\n",
            " 'Jamaica' 'Haiti' 'Niger' 'Hungary' 'Croatia' 'Cayman Islands' 'Suriname'\n",
            " 'Liechtenstein' 'Czech Republic' 'Honduras' 'El Salvador' 'Wales'\n",
            " 'Tahiti' 'Belarus' 'Georgia' 'Namibia' 'Vanuatu' 'Algeria' 'Togo'\n",
            " 'Mozambique' 'United Arab Emirates' 'Armenia' 'Moldova' 'Turkey'\n",
            " 'Azerbaijan' 'Albania' 'Oman' 'India' 'Yemen' 'Sudan' 'Kuwait' 'Malawi'\n",
            " 'San Marino' 'Faroe Islands' 'Ethiopia' 'Angola' 'Botswana'\n",
            " 'Trinidad and Tobago' 'Qatar' 'Bahrain' 'Liberia' 'Mauritius' 'Djibouti'\n",
            " 'Seychelles' 'Burkina Faso' 'Singapore' 'Benin' 'Barbados' 'Congo'\n",
            " 'Puerto Rico' 'Lesotho' 'New Zealand' 'Cuba' 'Uzbekistan'\n",
            " 'Antigua and Barbuda' 'Iraq' 'Solomon Islands' 'Nicaragua' 'Panama'\n",
            " 'Sri Lanka' 'Belize' 'Somalia' 'Guatemala' 'Kazakhstan' 'Macau'\n",
            " 'Philippines' 'Indonesia' 'Guyana' 'Dominican Republic' 'Grenada'\n",
            " 'Turkmenistan' 'Dominica' 'Syria' 'Madagascar' 'Lebanon' 'Maldives'\n",
            " 'Chinese Taipei' 'Guam' 'Pakistan' 'Bosnia and Herzegovina' 'Malaysia'\n",
            " 'Vietnam' 'Cambodia' 'Rwanda' 'Cook Islands' 'Samoa' 'Bermuda' 'Libya'\n",
            " 'Tajikistan' 'Papua New Guinea' 'Andorra' 'Nepal' 'Bangladesh' 'Chad'\n",
            " 'Hong Kong' 'British Virgin Islands' 'Anguilla' 'Burundi'\n",
            " 'Equatorial Guinea' 'Laos' 'Tonga' 'Eritrea' 'Bahamas'\n",
            " 'Central African Republic' 'Mongolia' 'Montserrat' 'Aruba' 'Palestine'\n",
            " 'Turks and Caicos Islands' 'American Samoa' 'Bhutan' 'Afghanistan'\n",
            " 'Serbia' 'Comoros' 'Montenegro' 'New Caledonia' 'Curaçao' 'South Sudan'\n",
            " 'Gibraltar' 'Kosovo'] \n",
            "\n"
          ],
          "name": "stdout"
        }
      ]
    },
    {
      "cell_type": "markdown",
      "metadata": {
        "id": "eshjARRajm6L"
      },
      "source": [
        "## 6. Exploratory Data Analysis"
      ]
    },
    {
      "cell_type": "markdown",
      "metadata": {
        "id": "duJIUvh6juNn"
      },
      "source": [
        "### a) Univariate Analysis"
      ]
    },
    {
      "cell_type": "code",
      "metadata": {
        "colab": {
          "base_uri": "https://localhost:8080/",
          "height": 77
        },
        "id": "4nfXSI-Uj2yG",
        "outputId": "6b4dc214-7b9a-4433-886a-762f63608877"
      },
      "source": [
        "# Preview of our dataset\n",
        "\n",
        "merge_final.head(1)"
      ],
      "execution_count": null,
      "outputs": [
        {
          "output_type": "execute_result",
          "data": {
            "text/html": [
              "<div>\n",
              "<style scoped>\n",
              "    .dataframe tbody tr th:only-of-type {\n",
              "        vertical-align: middle;\n",
              "    }\n",
              "\n",
              "    .dataframe tbody tr th {\n",
              "        vertical-align: top;\n",
              "    }\n",
              "\n",
              "    .dataframe thead th {\n",
              "        text-align: right;\n",
              "    }\n",
              "</style>\n",
              "<table border=\"1\" class=\"dataframe\">\n",
              "  <thead>\n",
              "    <tr style=\"text-align: right;\">\n",
              "      <th></th>\n",
              "      <th>date</th>\n",
              "      <th>home_team</th>\n",
              "      <th>away_team</th>\n",
              "      <th>home_score</th>\n",
              "      <th>away_score</th>\n",
              "      <th>result</th>\n",
              "      <th>tournament_type</th>\n",
              "      <th>year</th>\n",
              "      <th>month</th>\n",
              "      <th>home_rank</th>\n",
              "      <th>away_rank</th>\n",
              "    </tr>\n",
              "  </thead>\n",
              "  <tbody>\n",
              "    <tr>\n",
              "      <th>0</th>\n",
              "      <td>1993-08-01</td>\n",
              "      <td>Colombia</td>\n",
              "      <td>Paraguay</td>\n",
              "      <td>0</td>\n",
              "      <td>0</td>\n",
              "      <td>draw</td>\n",
              "      <td>Other</td>\n",
              "      <td>1993</td>\n",
              "      <td>8</td>\n",
              "      <td>19.0</td>\n",
              "      <td>67.0</td>\n",
              "    </tr>\n",
              "  </tbody>\n",
              "</table>\n",
              "</div>"
            ],
            "text/plain": [
              "        date home_team away_team  home_score  ...  year month home_rank  away_rank\n",
              "0 1993-08-01  Colombia  Paraguay           0  ...  1993     8      19.0       67.0\n",
              "\n",
              "[1 rows x 11 columns]"
            ]
          },
          "metadata": {
            "tags": []
          },
          "execution_count": 45
        }
      ]
    },
    {
      "cell_type": "code",
      "metadata": {
        "id": "zC4A-dfeqWhi",
        "colab": {
          "base_uri": "https://localhost:8080/",
          "height": 436
        },
        "outputId": "b5f7fe8c-5639-48a5-b40c-193fc1c3f111"
      },
      "source": [
        "# Analysis of result of the game from the perspective of the home team\n",
        "\n",
        "result = merge_final.result.value_counts()\n",
        "plt.figure(figsize= (8,5), dpi=100)\n",
        "\n",
        "# Highlighting yes\n",
        "explode = (0.1, 0, 0)  \n",
        "colors = ['blue', 'orange', 'yellow']\n",
        "\n",
        "# Plotting our pie chart\n",
        "result.plot.pie(explode = explode, colors = colors, autopct='%1.1f%%', shadow=True, startangle=140)\n",
        "\n",
        "plt.axis('equal')\n",
        "plt.title('Pie chart of match result')\n",
        "plt.show()\n",
        "\n",
        "# 48.4% of matches resulted in a win for the home teams."
      ],
      "execution_count": null,
      "outputs": [
        {
          "output_type": "display_data",
          "data": {
            "image/png": "[encoded data removed]",
            "text/plain": [
              "<Figure size 800x500 with 1 Axes>"
            ]
          },
          "metadata": {
            "tags": []
          }
        }
      ]
    },
    {
      "cell_type": "code",
      "metadata": {
        "colab": {
          "base_uri": "https://localhost:8080/",
          "height": 436
        },
        "id": "v8bb3qmwsHVv",
        "outputId": "20309462-30cf-40c1-bd4c-f46383e0156e"
      },
      "source": [
        "# Analysis of tournament type\n",
        "\n",
        "tourn = merge_final.tournament_type.value_counts()\n",
        "plt.figure(figsize= (8,5), dpi=100)\n",
        "\n",
        "# Highlighting yes\n",
        "explode = (0.1, 0, 0)  \n",
        "colors = ['blue', 'orange', 'yellow']\n",
        "\n",
        "# Plotting our pie chart\n",
        "tourn.plot.pie(explode = explode, colors = colors, autopct='%1.1f%%', shadow=True, startangle=140)\n",
        "\n",
        "plt.axis('equal')\n",
        "plt.title('Pie chart of tournament type')\n",
        "plt.show()\n",
        "\n",
        "# Only 1% of matches were World Cup matches with 38.1% of matches being friendly matches.\n",
        "# 61% of matches played were neither World Cup matches or friendly matches"
      ],
      "execution_count": null,
      "outputs": [
        {
          "output_type": "display_data",
          "data": {
            "image/png": "[encoded data removed]",
            "text/plain": [
              "<Figure size 800x500 with 1 Axes>"
            ]
          },
          "metadata": {
            "tags": []
          }
        }
      ]
    },
    {
      "cell_type": "code",
      "metadata": {
        "colab": {
          "base_uri": "https://localhost:8080/"
        },
        "id": "OpahI8yAt-hI",
        "outputId": "47becf15-ac9d-4a66-e753-6afb375155e0"
      },
      "source": [
        "# Analysis of away teams\n",
        "\n",
        "merge_final['away_team'].nunique()\n",
        "\n",
        "# 193 different teams played away from home"
      ],
      "execution_count": null,
      "outputs": [
        {
          "output_type": "execute_result",
          "data": {
            "text/plain": [
              "193"
            ]
          },
          "metadata": {
            "tags": []
          },
          "execution_count": 48
        }
      ]
    },
    {
      "cell_type": "code",
      "metadata": {
        "colab": {
          "base_uri": "https://localhost:8080/"
        },
        "id": "7pE4-tOxuNYk",
        "outputId": "bf433a91-6e08-4543-a9cf-f5d1f2ddcd77"
      },
      "source": [
        "# Analysis of home teams\n",
        "\n",
        "merge_final['home_team'].nunique()\n",
        "\n",
        "# 193 different teams played at home.\n",
        "# It is a fair assumption that 193 teams participated in the tournament"
      ],
      "execution_count": null,
      "outputs": [
        {
          "output_type": "execute_result",
          "data": {
            "text/plain": [
              "193"
            ]
          },
          "metadata": {
            "tags": []
          },
          "execution_count": 49
        }
      ]
    },
    {
      "cell_type": "code",
      "metadata": {
        "colab": {
          "base_uri": "https://localhost:8080/",
          "height": 523
        },
        "id": "aZ8TV2_Tu74H",
        "outputId": "e5f50d55-3817-4a3b-d449-af7aceb29a08"
      },
      "source": [
        "# Analysis of how many matches were played per month\n",
        "\n",
        "plt.figure(figsize = (10,8))\n",
        "sns.countplot(x= merge_final['month'])\n",
        "plt.title('Number of matches played per month', fontsize = 16)\n",
        "plt.xticks(fontsize = 14)\n",
        "plt.yticks(fontsize = 14)\n",
        "plt.xlabel('Month', fontsize = 14)\n",
        "plt.ylabel('Count', fontsize = 14)\n",
        "plt.show()\n",
        "\n",
        "# Most of the matches were played in June with le least number being played in April"
      ],
      "execution_count": null,
      "outputs": [
        {
          "output_type": "display_data",
          "data": {
            "image/png": "[encoded data removed]",
            "text/plain": [
              "<Figure size 720x576 with 1 Axes>"
            ]
          },
          "metadata": {
            "tags": [],
            "needs_background": "light"
          }
        }
      ]
    },
    {
      "cell_type": "code",
      "metadata": {
        "colab": {
          "base_uri": "https://localhost:8080/"
        },
        "id": "iCRrOzE7wn08",
        "outputId": "a4329313-a078-4675-9bf5-661e79d40269"
      },
      "source": [
        "# Determining the range of years in which matches were played in the dataset\n",
        "\n",
        "range = merge_final['year'].max() - merge_final['year'].min()\n",
        "\n",
        "print('Earliest year:', merge_final['year'].min())\n",
        "print(' ')\n",
        "print('Latest year:', merge_final['year'].max())\n",
        "print(' ')\n",
        "print('Range of years:', range)\n",
        "\n",
        "# The matches were recorded over a period of 25 years"
      ],
      "execution_count": null,
      "outputs": [
        {
          "output_type": "stream",
          "text": [
            "Earliest year: 1993\n",
            " \n",
            "Latest year: 2018\n",
            " \n",
            "Range of years: 25\n"
          ],
          "name": "stdout"
        }
      ]
    },
    {
      "cell_type": "code",
      "metadata": {
        "colab": {
          "base_uri": "https://localhost:8080/"
        },
        "id": "Dbj4F67wyXQr",
        "outputId": "2f016c54-3e4b-4446-bbba-f5d86882cb3e"
      },
      "source": [
        "# Getting the description on home score\n",
        "\n",
        "merge_final.home_score.describe()\n",
        "\n",
        "# The lowest home score was zero with the highest being 31. 75% of the home\n",
        "# goals were below 2 goals."
      ],
      "execution_count": null,
      "outputs": [
        {
          "output_type": "execute_result",
          "data": {
            "text/plain": [
              "count    16900.000000\n",
              "mean         1.604024\n",
              "std          1.615581\n",
              "min          0.000000\n",
              "25%          0.000000\n",
              "50%          1.000000\n",
              "75%          2.000000\n",
              "max         31.000000\n",
              "Name: home_score, dtype: float64"
            ]
          },
          "metadata": {
            "tags": []
          },
          "execution_count": 52
        }
      ]
    },
    {
      "cell_type": "code",
      "metadata": {
        "colab": {
          "base_uri": "https://localhost:8080/"
        },
        "id": "elJKjJdyaqhK",
        "outputId": "67d2bd0e-e57c-46fa-d27b-54b970289df7"
      },
      "source": [
        "# Measures of dispersion\n",
        "\n",
        "print('The skewness is:', merge_final['home_score'].skew())\n",
        "print('The kurtosis is:', merge_final['home_score'].kurt())\n",
        "print('The coefficient of variation is:', merge_final['home_score'].std()/merge_final['home_score'].mean())\n",
        "\n",
        "# The home score is skewed to the right indicating more outliers on the positive side of the scale\n",
        "# The didtribution is highly leptokurtic further indicating a presence of outliers"
      ],
      "execution_count": null,
      "outputs": [
        {
          "output_type": "stream",
          "text": [
            "The skewness is: 2.325029588711364\n",
            "The kurtosis is: 15.251926441824807\n",
            "The coefficient of variation is: 1.007205363658767\n"
          ],
          "name": "stdout"
        }
      ]
    },
    {
      "cell_type": "code",
      "metadata": {
        "colab": {
          "base_uri": "https://localhost:8080/"
        },
        "id": "K6pGcH4d0jwv",
        "outputId": "fd1a0a22-506b-4427-a74f-9c9d49819b5d"
      },
      "source": [
        "# Getting a description of the away score\n",
        "\n",
        "merge_final.away_score.describe()\n",
        "\n",
        "# The lowest home score was zero with the highest being 15. 75% of the home\n",
        "# goals were below 2."
      ],
      "execution_count": null,
      "outputs": [
        {
          "output_type": "execute_result",
          "data": {
            "text/plain": [
              "count    16900.000000\n",
              "mean         1.068402\n",
              "std          1.245215\n",
              "min          0.000000\n",
              "25%          0.000000\n",
              "50%          1.000000\n",
              "75%          2.000000\n",
              "max         15.000000\n",
              "Name: away_score, dtype: float64"
            ]
          },
          "metadata": {
            "tags": []
          },
          "execution_count": 54
        }
      ]
    },
    {
      "cell_type": "code",
      "metadata": {
        "colab": {
          "base_uri": "https://localhost:8080/"
        },
        "id": "mNevcPJ9bMwT",
        "outputId": "a058c0bf-6ee5-44d7-b368-77b88862e9b0"
      },
      "source": [
        "# Measures of dispersion\n",
        "\n",
        "print('The skewness is:', merge_final['away_score'].skew())\n",
        "print('The kurtosis is:', merge_final['away_score'].kurt())\n",
        "print('The coefficient of variation is:', merge_final['away_score'].std()/merge_final['away_score'].mean())\n",
        "\n",
        "# The distribution of the away score is slightly skewed to the right and is also leptokurtic indicating\n",
        "# a presence of outliers"
      ],
      "execution_count": null,
      "outputs": [
        {
          "output_type": "stream",
          "text": [
            "The skewness is: 1.928787200959817\n",
            "The kurtosis is: 7.1668180093594716\n",
            "The coefficient of variation is: 1.1654927005837932\n"
          ],
          "name": "stdout"
        }
      ]
    },
    {
      "cell_type": "code",
      "metadata": {
        "colab": {
          "base_uri": "https://localhost:8080/"
        },
        "id": "Qe-XafUl1CnS",
        "outputId": "e6088fbe-d2c2-44ae-bcaf-4043083cf8a2"
      },
      "source": [
        "# Description on the rankings\n",
        "\n",
        "print(merge_final['home_rank'].describe())\n",
        "print(' ')\n",
        "print(merge_final['away_rank'].describe())\n",
        "\n",
        "# The lowest rank is 209"
      ],
      "execution_count": null,
      "outputs": [
        {
          "output_type": "stream",
          "text": [
            "count    16900.000000\n",
            "mean        76.057219\n",
            "std         50.839283\n",
            "min          1.000000\n",
            "25%         33.000000\n",
            "50%         70.000000\n",
            "75%        112.000000\n",
            "max        209.000000\n",
            "Name: home_rank, dtype: float64\n",
            " \n",
            "count    16900.000000\n",
            "mean        78.927988\n",
            "std         52.030358\n",
            "min          1.000000\n",
            "25%         35.000000\n",
            "50%         72.000000\n",
            "75%        115.000000\n",
            "max        209.000000\n",
            "Name: away_rank, dtype: float64\n"
          ],
          "name": "stdout"
        }
      ]
    },
    {
      "cell_type": "markdown",
      "metadata": {
        "id": "3BpnmRTIj3R4"
      },
      "source": [
        "### b) Bivariate Analysis"
      ]
    },
    {
      "cell_type": "code",
      "metadata": {
        "id": "9xPN3wvvkFpI",
        "colab": {
          "base_uri": "https://localhost:8080/",
          "height": 544
        },
        "outputId": "10c94f01-7768-4227-a979-afe9c5afb335"
      },
      "source": [
        "# Line graph of average home goals per year\n",
        "\n",
        "home = merge_final.groupby('year')['home_score'].mean()\n",
        "\n",
        "home = pd.DataFrame(home)\n",
        "home.reset_index(inplace= True)\n",
        "\n",
        "plt.figure(figsize = (10,8))\n",
        "sns.pointplot(x= home['year'], y = home['home_score'])\n",
        "plt.title('Average home score per year', fontsize = 16)\n",
        "plt.xticks(fontsize = 14, rotation = 90)\n",
        "plt.yticks(fontsize = 14)\n",
        "plt.xlabel('Year', fontsize = 14)\n",
        "plt.ylabel('Average Score', fontsize = 14)\n",
        "plt.show()\n",
        "\n",
        "# The highest average home score was in 2001 with an average of 1.9 goals in that year"
      ],
      "execution_count": null,
      "outputs": [
        {
          "output_type": "display_data",
          "data": {
            "image/png": "[encoded data removed]",
            "text/plain": [
              "<Figure size 720x576 with 1 Axes>"
            ]
          },
          "metadata": {
            "tags": [],
            "needs_background": "light"
          }
        }
      ]
    },
    {
      "cell_type": "code",
      "metadata": {
        "colab": {
          "base_uri": "https://localhost:8080/",
          "height": 544
        },
        "id": "oKlPttSYWmuJ",
        "outputId": "ccf07596-c668-494c-bef7-5a3ccde49bd5"
      },
      "source": [
        "# Line graph of average away goals per year\n",
        "\n",
        "away = merge_final.groupby('year')['away_score'].mean()\n",
        "\n",
        "away = pd.DataFrame(away)\n",
        "away.reset_index(inplace= True)\n",
        "\n",
        "plt.figure(figsize = (10,8))\n",
        "sns.pointplot(x= away['year'], y = away['away_score'])\n",
        "plt.title('Average away score per year', fontsize = 16)\n",
        "plt.xticks(fontsize = 14, rotation = 90)\n",
        "plt.yticks(fontsize = 14)\n",
        "plt.xlabel('Year', fontsize = 14)\n",
        "plt.ylabel('Average Score', fontsize = 14)\n",
        "plt.show()\n",
        "\n",
        "# The highest average away score was in 2004 with an average of around 1.175 goals in that year"
      ],
      "execution_count": null,
      "outputs": [
        {
          "output_type": "display_data",
          "data": {
            "image/png": "[encoded data removed]",
            "text/plain": [
              "<Figure size 720x576 with 1 Axes>"
            ]
          },
          "metadata": {
            "tags": [],
            "needs_background": "light"
          }
        }
      ]
    },
    {
      "cell_type": "code",
      "metadata": {
        "colab": {
          "base_uri": "https://localhost:8080/",
          "height": 523
        },
        "id": "iVpcIqD9R2Rx",
        "outputId": "b5f37ef7-06d3-4841-c893-d9b5796e59a2"
      },
      "source": [
        "# Horizontal bar graph of top total home score per group\n",
        "\n",
        "hscore = merge_final.groupby('home_team')['home_score'].sum().sort_values().tail(10)\n",
        "\n",
        "hscore.plot(kind='barh',figsize=(8,8), color='#86bf91', width = 0.9)\n",
        "plt.title('10 teams with the highest home scores', fontsize = 16)\n",
        "plt.xticks(fontsize = 14)\n",
        "plt.yticks(fontsize = 14)\n",
        "plt.xlabel('Total home team score', fontsize = 14)\n",
        "plt.ylabel('Country', fontsize = 14)\n",
        "plt.show()\n",
        "\n",
        "# Mexico scored the highest number of goals at home with Brazil following closely behind"
      ],
      "execution_count": null,
      "outputs": [
        {
          "output_type": "display_data",
          "data": {
            "image/png": "[encoded data removed]",
            "text/plain": [
              "<Figure size 576x576 with 1 Axes>"
            ]
          },
          "metadata": {
            "tags": [],
            "needs_background": "light"
          }
        }
      ]
    },
    {
      "cell_type": "code",
      "metadata": {
        "colab": {
          "base_uri": "https://localhost:8080/",
          "height": 523
        },
        "id": "_ced9Sd2YG7p",
        "outputId": "4258ea95-e480-4639-fa62-28d5158b63f7"
      },
      "source": [
        "# Horizontal bar graph of top total home score per group\n",
        "\n",
        "ascore = merge_final.groupby('away_team')['away_score'].sum().sort_values().tail(10)\n",
        "\n",
        "ascore.plot(kind='barh',figsize=(8,8), color='#a82fa4', width = 0.9)\n",
        "plt.title('10 teams with the highest away scores', fontsize = 16)\n",
        "plt.xticks(fontsize = 14)\n",
        "plt.yticks(fontsize = 14)\n",
        "plt.xlabel('Total away team score', fontsize = 14)\n",
        "plt.ylabel('Country', fontsize = 14)\n",
        "plt.show()\n",
        "\n",
        "# Brazil scored the highest number of goals away from home followed by Germany."
      ],
      "execution_count": null,
      "outputs": [
        {
          "output_type": "display_data",
          "data": {
            "image/png": "[encoded data removed]",
            "text/plain": [
              "<Figure size 576x576 with 1 Axes>"
            ]
          },
          "metadata": {
            "tags": [],
            "needs_background": "light"
          }
        }
      ]
    },
    {
      "cell_type": "code",
      "metadata": {
        "colab": {
          "base_uri": "https://localhost:8080/",
          "height": 523
        },
        "id": "Cpusz5IHX-7T",
        "outputId": "5a3c826b-6cbd-483e-b25e-e2dff1556345"
      },
      "source": [
        "# Comparison of the result and tournament type \n",
        "\n",
        "table=pd.crosstab(merge_final['tournament_type'],merge_final['result'])\n",
        "table.div(table.sum(1).astype(float), axis=0).plot(kind='bar', figsize= (10,8), stacked=False)\n",
        "plt.title('Stacked Bar Chart of result to tournament type', fontsize = 16)\n",
        "plt.xlabel('Tournament', fontsize = 14)\n",
        "plt.ylabel('Proportion', fontsize = 14)\n",
        "plt.xticks(rotation = 360, fontsize = 14)\n",
        "plt.yticks(fontsize = 14)\n",
        "plt.show()\n",
        "\n",
        "# Irrespective of the tournament type, there were more wins for the home team than draws or losses"
      ],
      "execution_count": null,
      "outputs": [
        {
          "output_type": "display_data",
          "data": {
            "image/png": "[encoded data removed]",
            "text/plain": [
              "<Figure size 720x576 with 1 Axes>"
            ]
          },
          "metadata": {
            "tags": [],
            "needs_background": "light"
          }
        }
      ]
    },
    {
      "cell_type": "code",
      "metadata": {
        "colab": {
          "base_uri": "https://localhost:8080/"
        },
        "id": "TJLRV5oEaYUM",
        "outputId": "94716c0e-412f-4bba-fd62-e0b8c03a310c"
      },
      "source": [
        "# Checking if there is any correlation between the ranking of the home team and away team\n",
        "\n",
        "merge_final['away_rank'].corr(merge_final['home_rank'])"
      ],
      "execution_count": null,
      "outputs": [
        {
          "output_type": "execute_result",
          "data": {
            "text/plain": [
              "0.46946969522667903"
            ]
          },
          "metadata": {
            "tags": []
          },
          "execution_count": 62
        }
      ]
    },
    {
      "cell_type": "markdown",
      "metadata": {
        "id": "PhwNIKk3k56h"
      },
      "source": [
        "## 7. Performing feature scaling\n",
        "\n",
        "The data will be normalized because the ranges of values in the columns differ greatly from each other. The distributions in some of the columns also do not follow a gaussian distribution\n",
        "\n"
      ]
    },
    {
      "cell_type": "code",
      "metadata": {
        "colab": {
          "base_uri": "https://localhost:8080/",
          "height": 195
        },
        "id": "GKYfzGv5kp_9",
        "outputId": "246ed390-1004-4631-8a29-fc538e796bed"
      },
      "source": [
        "# Dropping the date column\n",
        "\n",
        "merge_final.drop('date', axis = 1, inplace=True)\n",
        "\n",
        "merge_final.head()"
      ],
      "execution_count": null,
      "outputs": [
        {
          "output_type": "execute_result",
          "data": {
            "text/html": [
              "<div>\n",
              "<style scoped>\n",
              "    .dataframe tbody tr th:only-of-type {\n",
              "        vertical-align: middle;\n",
              "    }\n",
              "\n",
              "    .dataframe tbody tr th {\n",
              "        vertical-align: top;\n",
              "    }\n",
              "\n",
              "    .dataframe thead th {\n",
              "        text-align: right;\n",
              "    }\n",
              "</style>\n",
              "<table border=\"1\" class=\"dataframe\">\n",
              "  <thead>\n",
              "    <tr style=\"text-align: right;\">\n",
              "      <th></th>\n",
              "      <th>home_team</th>\n",
              "      <th>away_team</th>\n",
              "      <th>home_score</th>\n",
              "      <th>away_score</th>\n",
              "      <th>result</th>\n",
              "      <th>tournament_type</th>\n",
              "      <th>year</th>\n",
              "      <th>month</th>\n",
              "      <th>home_rank</th>\n",
              "      <th>away_rank</th>\n",
              "    </tr>\n",
              "  </thead>\n",
              "  <tbody>\n",
              "    <tr>\n",
              "      <th>0</th>\n",
              "      <td>Colombia</td>\n",
              "      <td>Paraguay</td>\n",
              "      <td>0</td>\n",
              "      <td>0</td>\n",
              "      <td>draw</td>\n",
              "      <td>Other</td>\n",
              "      <td>1993</td>\n",
              "      <td>8</td>\n",
              "      <td>19.0</td>\n",
              "      <td>67.0</td>\n",
              "    </tr>\n",
              "    <tr>\n",
              "      <th>1</th>\n",
              "      <td>Peru</td>\n",
              "      <td>Argentina</td>\n",
              "      <td>0</td>\n",
              "      <td>1</td>\n",
              "      <td>loss</td>\n",
              "      <td>Other</td>\n",
              "      <td>1993</td>\n",
              "      <td>8</td>\n",
              "      <td>70.0</td>\n",
              "      <td>5.0</td>\n",
              "    </tr>\n",
              "    <tr>\n",
              "      <th>2</th>\n",
              "      <td>Uruguay</td>\n",
              "      <td>Ecuador</td>\n",
              "      <td>0</td>\n",
              "      <td>0</td>\n",
              "      <td>draw</td>\n",
              "      <td>Other</td>\n",
              "      <td>1993</td>\n",
              "      <td>8</td>\n",
              "      <td>22.0</td>\n",
              "      <td>35.0</td>\n",
              "    </tr>\n",
              "    <tr>\n",
              "      <th>3</th>\n",
              "      <td>Venezuela</td>\n",
              "      <td>Brazil</td>\n",
              "      <td>1</td>\n",
              "      <td>5</td>\n",
              "      <td>loss</td>\n",
              "      <td>Other</td>\n",
              "      <td>1993</td>\n",
              "      <td>8</td>\n",
              "      <td>94.0</td>\n",
              "      <td>8.0</td>\n",
              "    </tr>\n",
              "    <tr>\n",
              "      <th>4</th>\n",
              "      <td>Senegal</td>\n",
              "      <td>Zambia</td>\n",
              "      <td>0</td>\n",
              "      <td>0</td>\n",
              "      <td>draw</td>\n",
              "      <td>Other</td>\n",
              "      <td>1993</td>\n",
              "      <td>8</td>\n",
              "      <td>58.0</td>\n",
              "      <td>25.0</td>\n",
              "    </tr>\n",
              "  </tbody>\n",
              "</table>\n",
              "</div>"
            ],
            "text/plain": [
              "   home_team  away_team  home_score  ...  month home_rank away_rank\n",
              "0   Colombia   Paraguay           0  ...      8      19.0      67.0\n",
              "1       Peru  Argentina           0  ...      8      70.0       5.0\n",
              "2    Uruguay    Ecuador           0  ...      8      22.0      35.0\n",
              "3  Venezuela     Brazil           1  ...      8      94.0       8.0\n",
              "4    Senegal     Zambia           0  ...      8      58.0      25.0\n",
              "\n",
              "[5 rows x 10 columns]"
            ]
          },
          "metadata": {
            "tags": []
          },
          "execution_count": 63
        }
      ]
    },
    {
      "cell_type": "code",
      "metadata": {
        "colab": {
          "base_uri": "https://localhost:8080/",
          "height": 284
        },
        "id": "IP1UQpCzihnt",
        "outputId": "211918bd-de5d-454c-cd4d-b73866f4aa65"
      },
      "source": [
        "# Getting a description of the dataset\n",
        "\n",
        "merge_final.describe()"
      ],
      "execution_count": null,
      "outputs": [
        {
          "output_type": "execute_result",
          "data": {
            "text/html": [
              "<div>\n",
              "<style scoped>\n",
              "    .dataframe tbody tr th:only-of-type {\n",
              "        vertical-align: middle;\n",
              "    }\n",
              "\n",
              "    .dataframe tbody tr th {\n",
              "        vertical-align: top;\n",
              "    }\n",
              "\n",
              "    .dataframe thead th {\n",
              "        text-align: right;\n",
              "    }\n",
              "</style>\n",
              "<table border=\"1\" class=\"dataframe\">\n",
              "  <thead>\n",
              "    <tr style=\"text-align: right;\">\n",
              "      <th></th>\n",
              "      <th>home_score</th>\n",
              "      <th>away_score</th>\n",
              "      <th>year</th>\n",
              "      <th>month</th>\n",
              "      <th>home_rank</th>\n",
              "      <th>away_rank</th>\n",
              "    </tr>\n",
              "  </thead>\n",
              "  <tbody>\n",
              "    <tr>\n",
              "      <th>count</th>\n",
              "      <td>16900.000000</td>\n",
              "      <td>16900.000000</td>\n",
              "      <td>16900.000000</td>\n",
              "      <td>16900.000000</td>\n",
              "      <td>16900.000000</td>\n",
              "      <td>16900.000000</td>\n",
              "    </tr>\n",
              "    <tr>\n",
              "      <th>mean</th>\n",
              "      <td>1.604024</td>\n",
              "      <td>1.068402</td>\n",
              "      <td>2006.489941</td>\n",
              "      <td>6.878225</td>\n",
              "      <td>76.057219</td>\n",
              "      <td>78.927988</td>\n",
              "    </tr>\n",
              "    <tr>\n",
              "      <th>std</th>\n",
              "      <td>1.615581</td>\n",
              "      <td>1.245215</td>\n",
              "      <td>6.804052</td>\n",
              "      <td>3.273726</td>\n",
              "      <td>50.839283</td>\n",
              "      <td>52.030358</td>\n",
              "    </tr>\n",
              "    <tr>\n",
              "      <th>min</th>\n",
              "      <td>0.000000</td>\n",
              "      <td>0.000000</td>\n",
              "      <td>1993.000000</td>\n",
              "      <td>1.000000</td>\n",
              "      <td>1.000000</td>\n",
              "      <td>1.000000</td>\n",
              "    </tr>\n",
              "    <tr>\n",
              "      <th>25%</th>\n",
              "      <td>0.000000</td>\n",
              "      <td>0.000000</td>\n",
              "      <td>2001.000000</td>\n",
              "      <td>4.000000</td>\n",
              "      <td>33.000000</td>\n",
              "      <td>35.000000</td>\n",
              "    </tr>\n",
              "    <tr>\n",
              "      <th>50%</th>\n",
              "      <td>1.000000</td>\n",
              "      <td>1.000000</td>\n",
              "      <td>2007.000000</td>\n",
              "      <td>7.000000</td>\n",
              "      <td>70.000000</td>\n",
              "      <td>72.000000</td>\n",
              "    </tr>\n",
              "    <tr>\n",
              "      <th>75%</th>\n",
              "      <td>2.000000</td>\n",
              "      <td>2.000000</td>\n",
              "      <td>2012.000000</td>\n",
              "      <td>10.000000</td>\n",
              "      <td>112.000000</td>\n",
              "      <td>115.000000</td>\n",
              "    </tr>\n",
              "    <tr>\n",
              "      <th>max</th>\n",
              "      <td>31.000000</td>\n",
              "      <td>15.000000</td>\n",
              "      <td>2018.000000</td>\n",
              "      <td>12.000000</td>\n",
              "      <td>209.000000</td>\n",
              "      <td>209.000000</td>\n",
              "    </tr>\n",
              "  </tbody>\n",
              "</table>\n",
              "</div>"
            ],
            "text/plain": [
              "         home_score    away_score  ...     home_rank     away_rank\n",
              "count  16900.000000  16900.000000  ...  16900.000000  16900.000000\n",
              "mean       1.604024      1.068402  ...     76.057219     78.927988\n",
              "std        1.615581      1.245215  ...     50.839283     52.030358\n",
              "min        0.000000      0.000000  ...      1.000000      1.000000\n",
              "25%        0.000000      0.000000  ...     33.000000     35.000000\n",
              "50%        1.000000      1.000000  ...     70.000000     72.000000\n",
              "75%        2.000000      2.000000  ...    112.000000    115.000000\n",
              "max       31.000000     15.000000  ...    209.000000    209.000000\n",
              "\n",
              "[8 rows x 6 columns]"
            ]
          },
          "metadata": {
            "tags": []
          },
          "execution_count": 64
        }
      ]
    },
    {
      "cell_type": "code",
      "metadata": {
        "colab": {
          "base_uri": "https://localhost:8080/"
        },
        "id": "5KPKhjvHlIsS",
        "outputId": "381bc10f-0224-433e-b584-a7a1062ff4a2"
      },
      "source": [
        "merge_final.columns"
      ],
      "execution_count": null,
      "outputs": [
        {
          "output_type": "execute_result",
          "data": {
            "text/plain": [
              "Index(['home_team', 'away_team', 'home_score', 'away_score', 'result',\n",
              "       'tournament_type', 'year', 'month', 'home_rank', 'away_rank'],\n",
              "      dtype='object')"
            ]
          },
          "metadata": {
            "tags": []
          },
          "execution_count": 65
        }
      ]
    },
    {
      "cell_type": "code",
      "metadata": {
        "colab": {
          "base_uri": "https://localhost:8080/",
          "height": 195
        },
        "id": "Dup-3RuCe8Pc",
        "outputId": "fc475e16-5f12-474e-bd21-123f22a22e07"
      },
      "source": [
        "# Normalizing the data\n",
        "\n",
        "scaled = merge_final[['home_score', 'away_score', 'year', 'month', 'home_rank', 'away_rank' ]]\n",
        "\n",
        "from sklearn import preprocessing\n",
        "scaler = preprocessing.MinMaxScaler()\n",
        "\n",
        "names = scaled.columns\n",
        "d = scaler.fit_transform(scaled)\n",
        "scaled_df = pd.DataFrame(d, columns=names)\n",
        "scaled_df.head()"
      ],
      "execution_count": null,
      "outputs": [
        {
          "output_type": "execute_result",
          "data": {
            "text/html": [
              "<div>\n",
              "<style scoped>\n",
              "    .dataframe tbody tr th:only-of-type {\n",
              "        vertical-align: middle;\n",
              "    }\n",
              "\n",
              "    .dataframe tbody tr th {\n",
              "        vertical-align: top;\n",
              "    }\n",
              "\n",
              "    .dataframe thead th {\n",
              "        text-align: right;\n",
              "    }\n",
              "</style>\n",
              "<table border=\"1\" class=\"dataframe\">\n",
              "  <thead>\n",
              "    <tr style=\"text-align: right;\">\n",
              "      <th></th>\n",
              "      <th>home_score</th>\n",
              "      <th>away_score</th>\n",
              "      <th>year</th>\n",
              "      <th>month</th>\n",
              "      <th>home_rank</th>\n",
              "      <th>away_rank</th>\n",
              "    </tr>\n",
              "  </thead>\n",
              "  <tbody>\n",
              "    <tr>\n",
              "      <th>0</th>\n",
              "      <td>0.000000</td>\n",
              "      <td>0.000000</td>\n",
              "      <td>0.0</td>\n",
              "      <td>0.636364</td>\n",
              "      <td>0.086538</td>\n",
              "      <td>0.317308</td>\n",
              "    </tr>\n",
              "    <tr>\n",
              "      <th>1</th>\n",
              "      <td>0.000000</td>\n",
              "      <td>0.066667</td>\n",
              "      <td>0.0</td>\n",
              "      <td>0.636364</td>\n",
              "      <td>0.331731</td>\n",
              "      <td>0.019231</td>\n",
              "    </tr>\n",
              "    <tr>\n",
              "      <th>2</th>\n",
              "      <td>0.000000</td>\n",
              "      <td>0.000000</td>\n",
              "      <td>0.0</td>\n",
              "      <td>0.636364</td>\n",
              "      <td>0.100962</td>\n",
              "      <td>0.163462</td>\n",
              "    </tr>\n",
              "    <tr>\n",
              "      <th>3</th>\n",
              "      <td>0.032258</td>\n",
              "      <td>0.333333</td>\n",
              "      <td>0.0</td>\n",
              "      <td>0.636364</td>\n",
              "      <td>0.447115</td>\n",
              "      <td>0.033654</td>\n",
              "    </tr>\n",
              "    <tr>\n",
              "      <th>4</th>\n",
              "      <td>0.000000</td>\n",
              "      <td>0.000000</td>\n",
              "      <td>0.0</td>\n",
              "      <td>0.636364</td>\n",
              "      <td>0.274038</td>\n",
              "      <td>0.115385</td>\n",
              "    </tr>\n",
              "  </tbody>\n",
              "</table>\n",
              "</div>"
            ],
            "text/plain": [
              "   home_score  away_score  year     month  home_rank  away_rank\n",
              "0    0.000000    0.000000   0.0  0.636364   0.086538   0.317308\n",
              "1    0.000000    0.066667   0.0  0.636364   0.331731   0.019231\n",
              "2    0.000000    0.000000   0.0  0.636364   0.100962   0.163462\n",
              "3    0.032258    0.333333   0.0  0.636364   0.447115   0.033654\n",
              "4    0.000000    0.000000   0.0  0.636364   0.274038   0.115385"
            ]
          },
          "metadata": {
            "tags": []
          },
          "execution_count": 66
        }
      ]
    },
    {
      "cell_type": "code",
      "metadata": {
        "colab": {
          "base_uri": "https://localhost:8080/",
          "height": 195
        },
        "id": "VVpYJlG3nqyl",
        "outputId": "96643131-111e-44cb-e647-a3f07709d7ec"
      },
      "source": [
        "# Concatenating the dataframes\n",
        "\n",
        "df = merge_final[['home_team', 'away_team', 'result','tournament_type']]\n",
        "\n",
        "scaled_df = pd.concat([df, scaled_df], axis=1)\n",
        "\n",
        "scaled_df.head()\n",
        "\n",
        "# All values are standardized"
      ],
      "execution_count": null,
      "outputs": [
        {
          "output_type": "execute_result",
          "data": {
            "text/html": [
              "<div>\n",
              "<style scoped>\n",
              "    .dataframe tbody tr th:only-of-type {\n",
              "        vertical-align: middle;\n",
              "    }\n",
              "\n",
              "    .dataframe tbody tr th {\n",
              "        vertical-align: top;\n",
              "    }\n",
              "\n",
              "    .dataframe thead th {\n",
              "        text-align: right;\n",
              "    }\n",
              "</style>\n",
              "<table border=\"1\" class=\"dataframe\">\n",
              "  <thead>\n",
              "    <tr style=\"text-align: right;\">\n",
              "      <th></th>\n",
              "      <th>home_team</th>\n",
              "      <th>away_team</th>\n",
              "      <th>result</th>\n",
              "      <th>tournament_type</th>\n",
              "      <th>home_score</th>\n",
              "      <th>away_score</th>\n",
              "      <th>year</th>\n",
              "      <th>month</th>\n",
              "      <th>home_rank</th>\n",
              "      <th>away_rank</th>\n",
              "    </tr>\n",
              "  </thead>\n",
              "  <tbody>\n",
              "    <tr>\n",
              "      <th>0</th>\n",
              "      <td>Colombia</td>\n",
              "      <td>Paraguay</td>\n",
              "      <td>draw</td>\n",
              "      <td>Other</td>\n",
              "      <td>0.000000</td>\n",
              "      <td>0.000000</td>\n",
              "      <td>0.0</td>\n",
              "      <td>0.636364</td>\n",
              "      <td>0.086538</td>\n",
              "      <td>0.317308</td>\n",
              "    </tr>\n",
              "    <tr>\n",
              "      <th>1</th>\n",
              "      <td>Peru</td>\n",
              "      <td>Argentina</td>\n",
              "      <td>loss</td>\n",
              "      <td>Other</td>\n",
              "      <td>0.000000</td>\n",
              "      <td>0.066667</td>\n",
              "      <td>0.0</td>\n",
              "      <td>0.636364</td>\n",
              "      <td>0.331731</td>\n",
              "      <td>0.019231</td>\n",
              "    </tr>\n",
              "    <tr>\n",
              "      <th>2</th>\n",
              "      <td>Uruguay</td>\n",
              "      <td>Ecuador</td>\n",
              "      <td>draw</td>\n",
              "      <td>Other</td>\n",
              "      <td>0.000000</td>\n",
              "      <td>0.000000</td>\n",
              "      <td>0.0</td>\n",
              "      <td>0.636364</td>\n",
              "      <td>0.100962</td>\n",
              "      <td>0.163462</td>\n",
              "    </tr>\n",
              "    <tr>\n",
              "      <th>3</th>\n",
              "      <td>Venezuela</td>\n",
              "      <td>Brazil</td>\n",
              "      <td>loss</td>\n",
              "      <td>Other</td>\n",
              "      <td>0.032258</td>\n",
              "      <td>0.333333</td>\n",
              "      <td>0.0</td>\n",
              "      <td>0.636364</td>\n",
              "      <td>0.447115</td>\n",
              "      <td>0.033654</td>\n",
              "    </tr>\n",
              "    <tr>\n",
              "      <th>4</th>\n",
              "      <td>Senegal</td>\n",
              "      <td>Zambia</td>\n",
              "      <td>draw</td>\n",
              "      <td>Other</td>\n",
              "      <td>0.000000</td>\n",
              "      <td>0.000000</td>\n",
              "      <td>0.0</td>\n",
              "      <td>0.636364</td>\n",
              "      <td>0.274038</td>\n",
              "      <td>0.115385</td>\n",
              "    </tr>\n",
              "  </tbody>\n",
              "</table>\n",
              "</div>"
            ],
            "text/plain": [
              "   home_team  away_team result  ...     month  home_rank  away_rank\n",
              "0   Colombia   Paraguay   draw  ...  0.636364   0.086538   0.317308\n",
              "1       Peru  Argentina   loss  ...  0.636364   0.331731   0.019231\n",
              "2    Uruguay    Ecuador   draw  ...  0.636364   0.100962   0.163462\n",
              "3  Venezuela     Brazil   loss  ...  0.636364   0.447115   0.033654\n",
              "4    Senegal     Zambia   draw  ...  0.636364   0.274038   0.115385\n",
              "\n",
              "[5 rows x 10 columns]"
            ]
          },
          "metadata": {
            "tags": []
          },
          "execution_count": 67
        }
      ]
    },
    {
      "cell_type": "code",
      "metadata": {
        "colab": {
          "base_uri": "https://localhost:8080/"
        },
        "id": "R1zhIjV3DXrd",
        "outputId": "ca13b7c3-21db-4753-c3ef-1fce60201888"
      },
      "source": [
        "# Information on the scaled dataframe\n",
        "\n",
        "scaled_df.info()"
      ],
      "execution_count": null,
      "outputs": [
        {
          "output_type": "stream",
          "text": [
            "<class 'pandas.core.frame.DataFrame'>\n",
            "Int64Index: 16957 entries, 0 to 16956\n",
            "Data columns (total 10 columns):\n",
            " #   Column           Non-Null Count  Dtype  \n",
            "---  ------           --------------  -----  \n",
            " 0   home_team        16900 non-null  object \n",
            " 1   away_team        16900 non-null  object \n",
            " 2   result           16900 non-null  object \n",
            " 3   tournament_type  16900 non-null  object \n",
            " 4   home_score       16900 non-null  float64\n",
            " 5   away_score       16900 non-null  float64\n",
            " 6   year             16900 non-null  float64\n",
            " 7   month            16900 non-null  float64\n",
            " 8   home_rank        16900 non-null  float64\n",
            " 9   away_rank        16900 non-null  float64\n",
            "dtypes: float64(6), object(4)\n",
            "memory usage: 1.4+ MB\n"
          ],
          "name": "stdout"
        }
      ]
    },
    {
      "cell_type": "code",
      "metadata": {
        "colab": {
          "base_uri": "https://localhost:8080/"
        },
        "id": "TtHpJKI4HRT9",
        "outputId": "e352d8bb-aee6-4019-a026-754ba79c01d2"
      },
      "source": [
        "# Dropping the null values\n",
        "\n",
        "scaled_df.dropna(inplace=True)\n",
        "\n",
        "scaled_df.info()"
      ],
      "execution_count": null,
      "outputs": [
        {
          "output_type": "stream",
          "text": [
            "<class 'pandas.core.frame.DataFrame'>\n",
            "Int64Index: 16843 entries, 0 to 16899\n",
            "Data columns (total 10 columns):\n",
            " #   Column           Non-Null Count  Dtype  \n",
            "---  ------           --------------  -----  \n",
            " 0   home_team        16843 non-null  object \n",
            " 1   away_team        16843 non-null  object \n",
            " 2   result           16843 non-null  object \n",
            " 3   tournament_type  16843 non-null  object \n",
            " 4   home_score       16843 non-null  float64\n",
            " 5   away_score       16843 non-null  float64\n",
            " 6   year             16843 non-null  float64\n",
            " 7   month            16843 non-null  float64\n",
            " 8   home_rank        16843 non-null  float64\n",
            " 9   away_rank        16843 non-null  float64\n",
            "dtypes: float64(6), object(4)\n",
            "memory usage: 1.4+ MB\n"
          ],
          "name": "stdout"
        }
      ]
    },
    {
      "cell_type": "markdown",
      "metadata": {
        "id": "_vfwQbaHkew7"
      },
      "source": [
        "## 8. Implementing the solution"
      ]
    },
    {
      "cell_type": "markdown",
      "metadata": {
        "id": "k-BAvG3FklOg"
      },
      "source": [
        "##a) Polynomial Approach"
      ]
    },
    {
      "cell_type": "code",
      "metadata": {
        "colab": {
          "base_uri": "https://localhost:8080/"
        },
        "id": "J4iMVPytun8J",
        "outputId": "13e0abd0-5bc8-43c2-d6df-2ceaec4ef393"
      },
      "source": [
        "# Previewing the columns\n",
        "\n",
        "scaled_df.columns"
      ],
      "execution_count": null,
      "outputs": [
        {
          "output_type": "execute_result",
          "data": {
            "text/plain": [
              "Index(['home_team', 'away_team', 'result', 'tournament_type', 'home_score',\n",
              "       'away_score', 'year', 'month', 'home_rank', 'away_rank'],\n",
              "      dtype='object')"
            ]
          },
          "metadata": {
            "tags": []
          },
          "execution_count": 70
        }
      ]
    },
    {
      "cell_type": "code",
      "metadata": {
        "id": "pvTBEJpokkc2",
        "colab": {
          "base_uri": "https://localhost:8080/",
          "height": 195
        },
        "outputId": "ead201e8-eb78-459a-ceb7-f466bd62dfd7"
      },
      "source": [
        "# Encoding the result and tournament type columns\n",
        "\n",
        "poly = scaled_df[['result', 'tournament_type', 'home_score',\n",
        "       'away_score', 'year', 'month', 'home_rank', 'away_rank']]\n",
        "\n",
        "poly = pd.get_dummies(poly, drop_first=True)\n",
        "\n",
        "poly.head()"
      ],
      "execution_count": null,
      "outputs": [
        {
          "output_type": "execute_result",
          "data": {
            "text/html": [
              "<div>\n",
              "<style scoped>\n",
              "    .dataframe tbody tr th:only-of-type {\n",
              "        vertical-align: middle;\n",
              "    }\n",
              "\n",
              "    .dataframe tbody tr th {\n",
              "        vertical-align: top;\n",
              "    }\n",
              "\n",
              "    .dataframe thead th {\n",
              "        text-align: right;\n",
              "    }\n",
              "</style>\n",
              "<table border=\"1\" class=\"dataframe\">\n",
              "  <thead>\n",
              "    <tr style=\"text-align: right;\">\n",
              "      <th></th>\n",
              "      <th>home_score</th>\n",
              "      <th>away_score</th>\n",
              "      <th>year</th>\n",
              "      <th>month</th>\n",
              "      <th>home_rank</th>\n",
              "      <th>away_rank</th>\n",
              "      <th>result_loss</th>\n",
              "      <th>result_win</th>\n",
              "      <th>tournament_type_Other</th>\n",
              "      <th>tournament_type_World cup</th>\n",
              "    </tr>\n",
              "  </thead>\n",
              "  <tbody>\n",
              "    <tr>\n",
              "      <th>0</th>\n",
              "      <td>0.000000</td>\n",
              "      <td>0.000000</td>\n",
              "      <td>0.0</td>\n",
              "      <td>0.636364</td>\n",
              "      <td>0.086538</td>\n",
              "      <td>0.317308</td>\n",
              "      <td>0</td>\n",
              "      <td>0</td>\n",
              "      <td>1</td>\n",
              "      <td>0</td>\n",
              "    </tr>\n",
              "    <tr>\n",
              "      <th>1</th>\n",
              "      <td>0.000000</td>\n",
              "      <td>0.066667</td>\n",
              "      <td>0.0</td>\n",
              "      <td>0.636364</td>\n",
              "      <td>0.331731</td>\n",
              "      <td>0.019231</td>\n",
              "      <td>1</td>\n",
              "      <td>0</td>\n",
              "      <td>1</td>\n",
              "      <td>0</td>\n",
              "    </tr>\n",
              "    <tr>\n",
              "      <th>2</th>\n",
              "      <td>0.000000</td>\n",
              "      <td>0.000000</td>\n",
              "      <td>0.0</td>\n",
              "      <td>0.636364</td>\n",
              "      <td>0.100962</td>\n",
              "      <td>0.163462</td>\n",
              "      <td>0</td>\n",
              "      <td>0</td>\n",
              "      <td>1</td>\n",
              "      <td>0</td>\n",
              "    </tr>\n",
              "    <tr>\n",
              "      <th>3</th>\n",
              "      <td>0.032258</td>\n",
              "      <td>0.333333</td>\n",
              "      <td>0.0</td>\n",
              "      <td>0.636364</td>\n",
              "      <td>0.447115</td>\n",
              "      <td>0.033654</td>\n",
              "      <td>1</td>\n",
              "      <td>0</td>\n",
              "      <td>1</td>\n",
              "      <td>0</td>\n",
              "    </tr>\n",
              "    <tr>\n",
              "      <th>4</th>\n",
              "      <td>0.000000</td>\n",
              "      <td>0.000000</td>\n",
              "      <td>0.0</td>\n",
              "      <td>0.636364</td>\n",
              "      <td>0.274038</td>\n",
              "      <td>0.115385</td>\n",
              "      <td>0</td>\n",
              "      <td>0</td>\n",
              "      <td>1</td>\n",
              "      <td>0</td>\n",
              "    </tr>\n",
              "  </tbody>\n",
              "</table>\n",
              "</div>"
            ],
            "text/plain": [
              "   home_score  away_score  ...  tournament_type_Other  tournament_type_World cup\n",
              "0    0.000000    0.000000  ...                      1                          0\n",
              "1    0.000000    0.066667  ...                      1                          0\n",
              "2    0.000000    0.000000  ...                      1                          0\n",
              "3    0.032258    0.333333  ...                      1                          0\n",
              "4    0.000000    0.000000  ...                      1                          0\n",
              "\n",
              "[5 rows x 10 columns]"
            ]
          },
          "metadata": {
            "tags": []
          },
          "execution_count": 71
        }
      ]
    },
    {
      "cell_type": "code",
      "metadata": {
        "colab": {
          "base_uri": "https://localhost:8080/",
          "height": 166
        },
        "id": "oteodAyevKFh",
        "outputId": "8cc2627a-d80b-4bcb-ca0b-028c1d502810"
      },
      "source": [
        "# Finding multicollinearity in independent variables in X\n",
        "\n",
        "X = poly[['home_rank', 'away_rank','tournament_type_Other', 'tournament_type_World cup' ]]\n",
        "\n",
        "correlations = X.corr()\n",
        "correlations"
      ],
      "execution_count": null,
      "outputs": [
        {
          "output_type": "execute_result",
          "data": {
            "text/html": [
              "<div>\n",
              "<style scoped>\n",
              "    .dataframe tbody tr th:only-of-type {\n",
              "        vertical-align: middle;\n",
              "    }\n",
              "\n",
              "    .dataframe tbody tr th {\n",
              "        vertical-align: top;\n",
              "    }\n",
              "\n",
              "    .dataframe thead th {\n",
              "        text-align: right;\n",
              "    }\n",
              "</style>\n",
              "<table border=\"1\" class=\"dataframe\">\n",
              "  <thead>\n",
              "    <tr style=\"text-align: right;\">\n",
              "      <th></th>\n",
              "      <th>home_rank</th>\n",
              "      <th>away_rank</th>\n",
              "      <th>tournament_type_Other</th>\n",
              "      <th>tournament_type_World cup</th>\n",
              "    </tr>\n",
              "  </thead>\n",
              "  <tbody>\n",
              "    <tr>\n",
              "      <th>home_rank</th>\n",
              "      <td>1.000000</td>\n",
              "      <td>0.469029</td>\n",
              "      <td>0.068057</td>\n",
              "      <td>-0.045465</td>\n",
              "    </tr>\n",
              "    <tr>\n",
              "      <th>away_rank</th>\n",
              "      <td>0.469029</td>\n",
              "      <td>1.000000</td>\n",
              "      <td>0.076712</td>\n",
              "      <td>-0.032270</td>\n",
              "    </tr>\n",
              "    <tr>\n",
              "      <th>tournament_type_Other</th>\n",
              "      <td>0.068057</td>\n",
              "      <td>0.076712</td>\n",
              "      <td>1.000000</td>\n",
              "      <td>-0.105889</td>\n",
              "    </tr>\n",
              "    <tr>\n",
              "      <th>tournament_type_World cup</th>\n",
              "      <td>-0.045465</td>\n",
              "      <td>-0.032270</td>\n",
              "      <td>-0.105889</td>\n",
              "      <td>1.000000</td>\n",
              "    </tr>\n",
              "  </tbody>\n",
              "</table>\n",
              "</div>"
            ],
            "text/plain": [
              "                           home_rank  ...  tournament_type_World cup\n",
              "home_rank                   1.000000  ...                  -0.045465\n",
              "away_rank                   0.469029  ...                  -0.032270\n",
              "tournament_type_Other       0.068057  ...                  -0.105889\n",
              "tournament_type_World cup  -0.045465  ...                   1.000000\n",
              "\n",
              "[4 rows x 4 columns]"
            ]
          },
          "metadata": {
            "tags": []
          },
          "execution_count": 72
        }
      ]
    },
    {
      "cell_type": "code",
      "metadata": {
        "colab": {
          "base_uri": "https://localhost:8080/",
          "height": 166
        },
        "id": "rKO25rGMwGk8",
        "outputId": "951d4d87-9b60-44fc-8c44-2067d7534a8b"
      },
      "source": [
        "# Getting the Variance Inflation Factor\n",
        "\n",
        "pd.DataFrame(np.linalg.inv(correlations.values), index = correlations.index, columns = correlations.columns)\n",
        "\n",
        "# The VIF score for each variable is found on the diagonal. All VIF scores are less than 4 which shows\n",
        "# there is no multicollinearity"
      ],
      "execution_count": null,
      "outputs": [
        {
          "output_type": "execute_result",
          "data": {
            "text/html": [
              "<div>\n",
              "<style scoped>\n",
              "    .dataframe tbody tr th:only-of-type {\n",
              "        vertical-align: middle;\n",
              "    }\n",
              "\n",
              "    .dataframe tbody tr th {\n",
              "        vertical-align: top;\n",
              "    }\n",
              "\n",
              "    .dataframe thead th {\n",
              "        text-align: right;\n",
              "    }\n",
              "</style>\n",
              "<table border=\"1\" class=\"dataframe\">\n",
              "  <thead>\n",
              "    <tr style=\"text-align: right;\">\n",
              "      <th></th>\n",
              "      <th>home_rank</th>\n",
              "      <th>away_rank</th>\n",
              "      <th>tournament_type_Other</th>\n",
              "      <th>tournament_type_World cup</th>\n",
              "    </tr>\n",
              "  </thead>\n",
              "  <tbody>\n",
              "    <tr>\n",
              "      <th>home_rank</th>\n",
              "      <td>1.284951</td>\n",
              "      <td>-0.598646</td>\n",
              "      <td>-0.037809</td>\n",
              "      <td>0.035098</td>\n",
              "    </tr>\n",
              "    <tr>\n",
              "      <th>away_rank</th>\n",
              "      <td>-0.598646</td>\n",
              "      <td>1.285420</td>\n",
              "      <td>-0.056995</td>\n",
              "      <td>0.008228</td>\n",
              "    </tr>\n",
              "    <tr>\n",
              "      <th>tournament_type_Other</th>\n",
              "      <td>-0.037809</td>\n",
              "      <td>-0.056995</td>\n",
              "      <td>1.017983</td>\n",
              "      <td>0.104235</td>\n",
              "    </tr>\n",
              "    <tr>\n",
              "      <th>tournament_type_World cup</th>\n",
              "      <td>0.035098</td>\n",
              "      <td>0.008228</td>\n",
              "      <td>0.104235</td>\n",
              "      <td>1.012899</td>\n",
              "    </tr>\n",
              "  </tbody>\n",
              "</table>\n",
              "</div>"
            ],
            "text/plain": [
              "                           home_rank  ...  tournament_type_World cup\n",
              "home_rank                   1.284951  ...                   0.035098\n",
              "away_rank                  -0.598646  ...                   0.008228\n",
              "tournament_type_Other      -0.037809  ...                   0.104235\n",
              "tournament_type_World cup   0.035098  ...                   1.012899\n",
              "\n",
              "[4 rows x 4 columns]"
            ]
          },
          "metadata": {
            "tags": []
          },
          "execution_count": 73
        }
      ]
    },
    {
      "cell_type": "markdown",
      "metadata": {
        "id": "L5aopqCl0lXE"
      },
      "source": [
        "Since we are dealing with multiple features, I will compare the accuracy between the model built using linear regression and the one built using polynomial regression. If the accuracy of the model increases after  using the polynomial approach, then it indicates that it is probably the most appropriate approach to take."
      ]
    },
    {
      "cell_type": "markdown",
      "metadata": {
        "id": "Uya9bhuTxYjU"
      },
      "source": [
        "## Model 1"
      ]
    },
    {
      "cell_type": "code",
      "metadata": {
        "id": "i7E-qRLexJYv"
      },
      "source": [
        "# Defining y \n",
        "\n",
        "y = poly['home_score']"
      ],
      "execution_count": null,
      "outputs": []
    },
    {
      "cell_type": "code",
      "metadata": {
        "colab": {
          "base_uri": "https://localhost:8080/"
        },
        "id": "gjqvigExhdh1",
        "outputId": "286d3c2a-ddc8-4d68-8557-1b4616b14c23"
      },
      "source": [
        "# Fitting a linear Regression to the dataset to check its accuracy\n",
        "\n",
        "poly_reg_1 = PolynomialFeatures(degree = 1) \n",
        "X_poly = poly_reg_1.fit_transform(X)\n",
        "\n",
        "# Split the dataset into train and test sets\n",
        "\n",
        "X_train, X_test, y_train, y_test = train_test_split(X_poly,y, test_size = 0.2, random_state=0)\n",
        "\n",
        "# Fitting the model\n",
        "\n",
        "pol_reg = LinearRegression()\n",
        "pol_reg.fit(X_train, y_train)\n",
        "\n",
        "# Using the model to make a prediction\n",
        "\n",
        "y_pred = pol_reg.predict(X_test)\n",
        "\n",
        "# Checking accuracy of the model\n",
        "\n",
        "print(pol_reg.score(X_test, y_test))\n"
      ],
      "execution_count": null,
      "outputs": [
        {
          "output_type": "stream",
          "text": [
            "0.2173957974304711\n"
          ],
          "name": "stdout"
        }
      ]
    },
    {
      "cell_type": "code",
      "metadata": {
        "colab": {
          "base_uri": "https://localhost:8080/",
          "height": 284
        },
        "id": "zNuKJWbvjduS",
        "outputId": "a95b7279-d617-46e1-ee88-3fb63e710a91"
      },
      "source": [
        "# Comparing the test results to the train results\n",
        "\n",
        "comparison_frame = pd.DataFrame({'Actual': y_test.values.flatten(), \n",
        "                                 'Predicted': y_pred.flatten()})\n",
        "comparison_frame.describe()"
      ],
      "execution_count": null,
      "outputs": [
        {
          "output_type": "execute_result",
          "data": {
            "text/html": [
              "<div>\n",
              "<style scoped>\n",
              "    .dataframe tbody tr th:only-of-type {\n",
              "        vertical-align: middle;\n",
              "    }\n",
              "\n",
              "    .dataframe tbody tr th {\n",
              "        vertical-align: top;\n",
              "    }\n",
              "\n",
              "    .dataframe thead th {\n",
              "        text-align: right;\n",
              "    }\n",
              "</style>\n",
              "<table border=\"1\" class=\"dataframe\">\n",
              "  <thead>\n",
              "    <tr style=\"text-align: right;\">\n",
              "      <th></th>\n",
              "      <th>Actual</th>\n",
              "      <th>Predicted</th>\n",
              "    </tr>\n",
              "  </thead>\n",
              "  <tbody>\n",
              "    <tr>\n",
              "      <th>count</th>\n",
              "      <td>3369.000000</td>\n",
              "      <td>3369.000000</td>\n",
              "    </tr>\n",
              "    <tr>\n",
              "      <th>mean</th>\n",
              "      <td>0.050604</td>\n",
              "      <td>0.051586</td>\n",
              "    </tr>\n",
              "    <tr>\n",
              "      <th>std</th>\n",
              "      <td>0.049261</td>\n",
              "      <td>0.023796</td>\n",
              "    </tr>\n",
              "    <tr>\n",
              "      <th>min</th>\n",
              "      <td>0.000000</td>\n",
              "      <td>-0.032187</td>\n",
              "    </tr>\n",
              "    <tr>\n",
              "      <th>25%</th>\n",
              "      <td>0.000000</td>\n",
              "      <td>0.036351</td>\n",
              "    </tr>\n",
              "    <tr>\n",
              "      <th>50%</th>\n",
              "      <td>0.032258</td>\n",
              "      <td>0.050736</td>\n",
              "    </tr>\n",
              "    <tr>\n",
              "      <th>75%</th>\n",
              "      <td>0.064516</td>\n",
              "      <td>0.066517</td>\n",
              "    </tr>\n",
              "    <tr>\n",
              "      <th>max</th>\n",
              "      <td>0.419355</td>\n",
              "      <td>0.140393</td>\n",
              "    </tr>\n",
              "  </tbody>\n",
              "</table>\n",
              "</div>"
            ],
            "text/plain": [
              "            Actual    Predicted\n",
              "count  3369.000000  3369.000000\n",
              "mean      0.050604     0.051586\n",
              "std       0.049261     0.023796\n",
              "min       0.000000    -0.032187\n",
              "25%       0.000000     0.036351\n",
              "50%       0.032258     0.050736\n",
              "75%       0.064516     0.066517\n",
              "max       0.419355     0.140393"
            ]
          },
          "metadata": {
            "tags": []
          },
          "execution_count": 76
        }
      ]
    },
    {
      "cell_type": "code",
      "metadata": {
        "colab": {
          "base_uri": "https://localhost:8080/"
        },
        "id": "TCD4mUyarJRH",
        "outputId": "c571bf7e-c43f-44da-bf2d-ec740d35d08f"
      },
      "source": [
        "# Obtaining the root mean squared error\n",
        "\n",
        "print('Root MSE: ', np.sqrt(metrics.mean_squared_error(y_test, y_pred)))\n",
        "\n",
        "# The root MSE is greater than 10% of the actual mean value. \n",
        "# 10% of the actual mean value is 0.005. Therefore this model cannot predict the data accurately"
      ],
      "execution_count": null,
      "outputs": [
        {
          "output_type": "stream",
          "text": [
            "Root MSE:  0.04357263330001562\n"
          ],
          "name": "stdout"
        }
      ]
    },
    {
      "cell_type": "markdown",
      "metadata": {
        "id": "w8B_5M_DpPB3"
      },
      "source": [
        "With a linear regression model the accuracy is very low at 21.7%. Checking if the accuracy will improve with a polynomial model"
      ]
    },
    {
      "cell_type": "code",
      "metadata": {
        "colab": {
          "base_uri": "https://localhost:8080/"
        },
        "id": "cy83SVgtsUxr",
        "outputId": "d5bb5112-40b3-4273-db26-754509ea5d78"
      },
      "source": [
        "# Fitting a polynomial regression of degree 2 to the dataset to check its accuracy\n",
        "\n",
        "poly_reg_2 = PolynomialFeatures(degree = 2) \n",
        "X_poly = poly_reg_2.fit_transform(X)\n",
        "\n",
        "# Split the dataset into train and test sets\n",
        "\n",
        "X_train, X_test, y_train, y_test = train_test_split(X_poly,y, test_size = 0.2, random_state=0)\n",
        "\n",
        "# Fitting the model\n",
        "\n",
        "pol_reg = LinearRegression()\n",
        "pol_reg.fit(X_train, y_train)\n",
        "\n",
        "# Using the model to make a prediction\n",
        "\n",
        "y_pred = pol_reg.predict(X_test)\n",
        "\n",
        "# Checking accuracy of the model\n",
        "\n",
        "print(pol_reg.score(X_test, y_test))"
      ],
      "execution_count": null,
      "outputs": [
        {
          "output_type": "stream",
          "text": [
            "0.23320058266891075\n"
          ],
          "name": "stdout"
        }
      ]
    },
    {
      "cell_type": "markdown",
      "metadata": {
        "id": "g8QCkePnsntS"
      },
      "source": [
        "The accuracy of the model changes to 23.32% after fitting the polynomial model to degree 2.\n",
        "\n",
        "\n",
        "Checking with the 4th degree polynomial model"
      ]
    },
    {
      "cell_type": "code",
      "metadata": {
        "colab": {
          "base_uri": "https://localhost:8080/"
        },
        "id": "68glqEszua2F",
        "outputId": "41bfe786-8165-4da7-8c30-4bd8040d3892"
      },
      "source": [
        "# Fitting a polynomial regression of degree 4 to the dataset to check its accuracy\n",
        "\n",
        "poly_reg_4 = PolynomialFeatures(degree = 4) \n",
        "X_poly = poly_reg_4.fit_transform(X)\n",
        "\n",
        "# Split the dataset into train and test sets\n",
        "\n",
        "X_train, X_test, y_train, y_test = train_test_split(X_poly,y, test_size = 0.2, random_state=0)\n",
        "\n",
        "# Fitting the model\n",
        "\n",
        "pol_reg = LinearRegression()\n",
        "pol_reg.fit(X_train, y_train)\n",
        "\n",
        "# Using the model to make a prediction\n",
        "\n",
        "y_pred = pol_reg.predict(X_test)\n",
        "\n",
        "# Checking accuracy of the model\n",
        "\n",
        "print(pol_reg.score(X_test, y_test))"
      ],
      "execution_count": null,
      "outputs": [
        {
          "output_type": "stream",
          "text": [
            "0.24194118403958276\n"
          ],
          "name": "stdout"
        }
      ]
    },
    {
      "cell_type": "code",
      "metadata": {
        "colab": {
          "base_uri": "https://localhost:8080/",
          "height": 284
        },
        "id": "mEMQ6CyVu_IX",
        "outputId": "c381d70c-016c-41d4-92bb-9e83c56b92e3"
      },
      "source": [
        "# Comparing the test results to the train results\n",
        "\n",
        "comparison_frame = pd.DataFrame({'Actual': y_test.values.flatten(), \n",
        "                                 'Predicted': y_pred.flatten()})\n",
        "comparison_frame.describe()"
      ],
      "execution_count": null,
      "outputs": [
        {
          "output_type": "execute_result",
          "data": {
            "text/html": [
              "<div>\n",
              "<style scoped>\n",
              "    .dataframe tbody tr th:only-of-type {\n",
              "        vertical-align: middle;\n",
              "    }\n",
              "\n",
              "    .dataframe tbody tr th {\n",
              "        vertical-align: top;\n",
              "    }\n",
              "\n",
              "    .dataframe thead th {\n",
              "        text-align: right;\n",
              "    }\n",
              "</style>\n",
              "<table border=\"1\" class=\"dataframe\">\n",
              "  <thead>\n",
              "    <tr style=\"text-align: right;\">\n",
              "      <th></th>\n",
              "      <th>Actual</th>\n",
              "      <th>Predicted</th>\n",
              "    </tr>\n",
              "  </thead>\n",
              "  <tbody>\n",
              "    <tr>\n",
              "      <th>count</th>\n",
              "      <td>3369.000000</td>\n",
              "      <td>3369.000000</td>\n",
              "    </tr>\n",
              "    <tr>\n",
              "      <th>mean</th>\n",
              "      <td>0.050604</td>\n",
              "      <td>0.051432</td>\n",
              "    </tr>\n",
              "    <tr>\n",
              "      <th>std</th>\n",
              "      <td>0.049261</td>\n",
              "      <td>0.025276</td>\n",
              "    </tr>\n",
              "    <tr>\n",
              "      <th>min</th>\n",
              "      <td>0.000000</td>\n",
              "      <td>-0.005647</td>\n",
              "    </tr>\n",
              "    <tr>\n",
              "      <th>25%</th>\n",
              "      <td>0.000000</td>\n",
              "      <td>0.035041</td>\n",
              "    </tr>\n",
              "    <tr>\n",
              "      <th>50%</th>\n",
              "      <td>0.032258</td>\n",
              "      <td>0.046355</td>\n",
              "    </tr>\n",
              "    <tr>\n",
              "      <th>75%</th>\n",
              "      <td>0.064516</td>\n",
              "      <td>0.061936</td>\n",
              "    </tr>\n",
              "    <tr>\n",
              "      <th>max</th>\n",
              "      <td>0.419355</td>\n",
              "      <td>0.199297</td>\n",
              "    </tr>\n",
              "  </tbody>\n",
              "</table>\n",
              "</div>"
            ],
            "text/plain": [
              "            Actual    Predicted\n",
              "count  3369.000000  3369.000000\n",
              "mean      0.050604     0.051432\n",
              "std       0.049261     0.025276\n",
              "min       0.000000    -0.005647\n",
              "25%       0.000000     0.035041\n",
              "50%       0.032258     0.046355\n",
              "75%       0.064516     0.061936\n",
              "max       0.419355     0.199297"
            ]
          },
          "metadata": {
            "tags": []
          },
          "execution_count": 82
        }
      ]
    },
    {
      "cell_type": "code",
      "metadata": {
        "colab": {
          "base_uri": "https://localhost:8080/"
        },
        "id": "Mno9LIgavQZw",
        "outputId": "10d54f54-bba5-4f6e-dfdd-c3d6007b1ed7"
      },
      "source": [
        "# Obtaining the root mean squared error\n",
        "\n",
        "print('Root MSE: ', np.sqrt(metrics.mean_squared_error(y_test, y_pred)))\n",
        "\n",
        "# The root MSE is greater than 10% of the actual mean value. \n",
        "# 10% of the actual mean value is 0.005. Therefore this model cannot predict the data accurately"
      ],
      "execution_count": null,
      "outputs": [
        {
          "output_type": "stream",
          "text": [
            "Root MSE:  0.04288388974204982\n"
          ],
          "name": "stdout"
        }
      ]
    },
    {
      "cell_type": "markdown",
      "metadata": {
        "id": "D8XqExRbvahE"
      },
      "source": [
        "Using the polynomial at 4 degrees gave the highest accuracy at 24.19%. After the 4th degree the accuracy starts to decrease which means that the 4th degree may be the most optimal in this case.\n",
        "\n",
        "However, fitting this high degree polynomial could lead to overfitting"
      ]
    },
    {
      "cell_type": "markdown",
      "metadata": {
        "id": "XSk-R_jptlSu"
      },
      "source": [
        "### Using K-Fold cross validation"
      ]
    },
    {
      "cell_type": "code",
      "metadata": {
        "colab": {
          "base_uri": "https://localhost:8080/"
        },
        "id": "93CTAWJAtj4A",
        "outputId": "de03beef-124d-4565-dfd8-b8cf4de5e813"
      },
      "source": [
        "# Getting the model accuracy after using 4 fold cross validation using the cross-val-score method\n",
        "\n",
        "all_accuracies = cross_val_score(estimator=pol_reg, X=X_poly, y=y, cv=4)\n",
        "\n",
        "all_accuracies"
      ],
      "execution_count": null,
      "outputs": [
        {
          "output_type": "execute_result",
          "data": {
            "text/plain": [
              "array([ 0.23523286,  0.2718855 ,  0.23011416, -0.18710159])"
            ]
          },
          "metadata": {
            "tags": []
          },
          "execution_count": 87
        }
      ]
    },
    {
      "cell_type": "code",
      "metadata": {
        "colab": {
          "base_uri": "https://localhost:8080/"
        },
        "id": "fqEi0zZ6v_sO",
        "outputId": "8457583b-81af-43a5-b811-fda8c12e3983"
      },
      "source": [
        "# Printing the mean accuracy returned for the 4 folds \n",
        "\n",
        "print(all_accuracies.mean())\n"
      ],
      "execution_count": null,
      "outputs": [
        {
          "output_type": "stream",
          "text": [
            "0.13753273427908086\n"
          ],
          "name": "stdout"
        }
      ]
    },
    {
      "cell_type": "markdown",
      "metadata": {
        "id": "fJEZO5YBy7h1"
      },
      "source": [
        "The accuracy level does not increase using the 3 fold cross validation"
      ]
    },
    {
      "cell_type": "markdown",
      "metadata": {
        "id": "W98ebGCj2k6v"
      },
      "source": [
        "### Checking for presence of heteroskedasticity using residual plots"
      ]
    },
    {
      "cell_type": "code",
      "metadata": {
        "id": "3mV2WEnd3J3C",
        "colab": {
          "base_uri": "https://localhost:8080/"
        },
        "outputId": "afc01454-faab-4cd6-afaf-70d59152c25a"
      },
      "source": [
        "# Obtaining the residuals for each observation\n",
        "\n",
        "residuals = np.subtract(y_pred, y_test)\n",
        "\n",
        "residuals"
      ],
      "execution_count": null,
      "outputs": [
        {
          "output_type": "execute_result",
          "data": {
            "text/plain": [
              "12450   -0.018749\n",
              "12839    0.003418\n",
              "7603     0.039069\n",
              "11919   -0.013924\n",
              "6381     0.013361\n",
              "           ...   \n",
              "3539     0.028543\n",
              "4501     0.033121\n",
              "14756    0.002332\n",
              "2696     0.036436\n",
              "15194   -0.029804\n",
              "Name: home_score, Length: 3369, dtype: float64"
            ]
          },
          "metadata": {
            "tags": []
          },
          "execution_count": 89
        }
      ]
    },
    {
      "cell_type": "code",
      "metadata": {
        "colab": {
          "base_uri": "https://localhost:8080/",
          "height": 523
        },
        "id": "Q298UPSg28B-",
        "outputId": "78dc5e0d-c6bd-4c46-920f-c770e1f1e483"
      },
      "source": [
        "# Plotting the residual plot\n",
        "\n",
        "plt.figure(figsize = (10,8))\n",
        "sns.scatterplot(x = y_pred, y = residuals)\n",
        "plt.axhline(y= residuals.mean(), color='red', linewidth=1)\n",
        "plt.title('Residual plot', fontsize = 16)\n",
        "plt.xticks(fontsize = 14)\n",
        "plt.yticks(fontsize = 14)\n",
        "plt.xlabel('Residual', fontsize = 14)\n",
        "plt.ylabel('Fitted Values', fontsize = 14)\n",
        "plt.show()"
      ],
      "execution_count": null,
      "outputs": [
        {
          "output_type": "display_data",
          "data": {
            "image/png": "[encoded data removed]",
            "text/plain": [
              "<Figure size 720x576 with 1 Axes>"
            ]
          },
          "metadata": {
            "tags": [],
            "needs_background": "light"
          }
        }
      ]
    },
    {
      "cell_type": "markdown",
      "metadata": {
        "id": "noY3kcf0htyb"
      },
      "source": [
        "From the plot we can see that the homoscedasticity assumption is not violated. The variances are uniform and not taking an increasing or decreasing trend.\n",
        "\n",
        "Bartlett's test can be used to confirm these results"
      ]
    },
    {
      "cell_type": "markdown",
      "metadata": {
        "id": "jH2Q7Im59Cva"
      },
      "source": [
        "### Checking for presence of heteroskedasticity using Bartlett's test\n",
        "\n",
        "> Ho: Variances are homogenous\n",
        "\n",
        "> Ha: Variances are heterogenous"
      ]
    },
    {
      "cell_type": "code",
      "metadata": {
        "colab": {
          "base_uri": "https://localhost:8080/"
        },
        "id": "BVxt2Q7G6L_Y",
        "outputId": "99e10787-2b0a-49dc-d037-47fd790f8e40"
      },
      "source": [
        "# Performing the test\n",
        "\n",
        "import scipy as sc\n",
        "\n",
        "stat, p_value = sc.stats.bartlett(y_pred, residuals)\n",
        "\n",
        "# Obtaining the critical value\n",
        "\n",
        "dof = len(y_pred) - 1\n",
        "prob = 1 - p_value\n",
        "\n",
        "critical_value = sc.stats.chi2.ppf(prob, dof)\n",
        "\n",
        "print('Statistic:', stat)\n",
        "print('Critical value', critical_value)\n",
        "\n",
        "if stat > critical_value:\n",
        "  print('Reject null hypothesis')\n",
        "else:\n",
        "  print('Do not reject null hypothesis')\n"
      ],
      "execution_count": null,
      "outputs": [
        {
          "output_type": "stream",
          "text": [
            "Statistic: 900.1573613743523\n",
            "Critical value inf\n",
            "Do not reject null hypothesis\n"
          ],
          "name": "stdout"
        }
      ]
    },
    {
      "cell_type": "markdown",
      "metadata": {
        "id": "L2Bco4qb9Z_E"
      },
      "source": [
        "Since the chi square statistic is less than the critical value, we will fail to reject null and conclude that the error variances are homogenous.\n",
        "\n",
        "Therefore there is no heteroskedasticity in our model"
      ]
    },
    {
      "cell_type": "markdown",
      "metadata": {
        "id": "DGNARc-42hqe"
      },
      "source": [
        "## Model 2"
      ]
    },
    {
      "cell_type": "code",
      "metadata": {
        "id": "UOMGaUCI2gY6"
      },
      "source": [
        "# Defining y \n",
        "\n",
        "y = poly['away_score']"
      ],
      "execution_count": null,
      "outputs": []
    },
    {
      "cell_type": "code",
      "metadata": {
        "colab": {
          "base_uri": "https://localhost:8080/"
        },
        "id": "k2TUuHoe-Hae",
        "outputId": "704fdf7f-b7bb-4a20-c010-96a677486077"
      },
      "source": [
        "# Fitting a linear Regression to the dataset to check its accuracy\n",
        "\n",
        "poly_reg_1 = PolynomialFeatures(degree = 1) \n",
        "X_poly = poly_reg_1.fit_transform(X)\n",
        "\n",
        "# Split the dataset into train and test sets\n",
        "\n",
        "X_train, X_test, y_train, y_test = train_test_split(X_poly,y, test_size = 0.2, random_state=0)\n",
        "\n",
        "# Fitting the model\n",
        "\n",
        "pol_reg = LinearRegression()\n",
        "pol_reg.fit(X_train, y_train)\n",
        "\n",
        "# Using the model to make a prediction\n",
        "\n",
        "y_pred = pol_reg.predict(X_test)\n",
        "\n",
        "# Checking accuracy of the model\n",
        "\n",
        "print(pol_reg.score(X_test, y_test))\n"
      ],
      "execution_count": null,
      "outputs": [
        {
          "output_type": "stream",
          "text": [
            "0.159016631554885\n"
          ],
          "name": "stdout"
        }
      ]
    },
    {
      "cell_type": "code",
      "metadata": {
        "colab": {
          "base_uri": "https://localhost:8080/",
          "height": 284
        },
        "id": "tR3OjKBK-XZd",
        "outputId": "0d703fee-31be-49e6-9f2a-ab4c27b7017a"
      },
      "source": [
        "# Comparing the test results to the train results\n",
        "\n",
        "comparison_frame = pd.DataFrame({'Actual': y_test.values.flatten(), \n",
        "                                 'Predicted': y_pred.flatten()})\n",
        "comparison_frame.describe()"
      ],
      "execution_count": null,
      "outputs": [
        {
          "output_type": "execute_result",
          "data": {
            "text/html": [
              "<div>\n",
              "<style scoped>\n",
              "    .dataframe tbody tr th:only-of-type {\n",
              "        vertical-align: middle;\n",
              "    }\n",
              "\n",
              "    .dataframe tbody tr th {\n",
              "        vertical-align: top;\n",
              "    }\n",
              "\n",
              "    .dataframe thead th {\n",
              "        text-align: right;\n",
              "    }\n",
              "</style>\n",
              "<table border=\"1\" class=\"dataframe\">\n",
              "  <thead>\n",
              "    <tr style=\"text-align: right;\">\n",
              "      <th></th>\n",
              "      <th>Actual</th>\n",
              "      <th>Predicted</th>\n",
              "    </tr>\n",
              "  </thead>\n",
              "  <tbody>\n",
              "    <tr>\n",
              "      <th>count</th>\n",
              "      <td>3369.000000</td>\n",
              "      <td>3369.000000</td>\n",
              "    </tr>\n",
              "    <tr>\n",
              "      <th>mean</th>\n",
              "      <td>0.072445</td>\n",
              "      <td>0.071435</td>\n",
              "    </tr>\n",
              "    <tr>\n",
              "      <th>std</th>\n",
              "      <td>0.083097</td>\n",
              "      <td>0.032319</td>\n",
              "    </tr>\n",
              "    <tr>\n",
              "      <th>min</th>\n",
              "      <td>0.000000</td>\n",
              "      <td>-0.051217</td>\n",
              "    </tr>\n",
              "    <tr>\n",
              "      <th>25%</th>\n",
              "      <td>0.000000</td>\n",
              "      <td>0.051590</td>\n",
              "    </tr>\n",
              "    <tr>\n",
              "      <th>50%</th>\n",
              "      <td>0.066667</td>\n",
              "      <td>0.070304</td>\n",
              "    </tr>\n",
              "    <tr>\n",
              "      <th>75%</th>\n",
              "      <td>0.133333</td>\n",
              "      <td>0.090782</td>\n",
              "    </tr>\n",
              "    <tr>\n",
              "      <th>max</th>\n",
              "      <td>0.666667</td>\n",
              "      <td>0.198317</td>\n",
              "    </tr>\n",
              "  </tbody>\n",
              "</table>\n",
              "</div>"
            ],
            "text/plain": [
              "            Actual    Predicted\n",
              "count  3369.000000  3369.000000\n",
              "mean      0.072445     0.071435\n",
              "std       0.083097     0.032319\n",
              "min       0.000000    -0.051217\n",
              "25%       0.000000     0.051590\n",
              "50%       0.066667     0.070304\n",
              "75%       0.133333     0.090782\n",
              "max       0.666667     0.198317"
            ]
          },
          "metadata": {
            "tags": []
          },
          "execution_count": 94
        }
      ]
    },
    {
      "cell_type": "code",
      "metadata": {
        "colab": {
          "base_uri": "https://localhost:8080/"
        },
        "id": "awl06Fh6-fja",
        "outputId": "84cf472b-ed69-4049-c7a9-ea54497f80cf"
      },
      "source": [
        "# Obtaining the root mean squared error\n",
        "\n",
        "print('Root MSE: ', np.sqrt(metrics.mean_squared_error(y_test, y_pred)))\n",
        "\n",
        "# The root MSE is greater than 10% of the actual mean value. \n",
        "# 10% of the actual mean value is 0.0077. Therefore this model cannot predict the data accurately"
      ],
      "execution_count": null,
      "outputs": [
        {
          "output_type": "stream",
          "text": [
            "Root MSE:  0.07619290088182483\n"
          ],
          "name": "stdout"
        }
      ]
    },
    {
      "cell_type": "markdown",
      "metadata": {
        "id": "f3ezOTTj-tXr"
      },
      "source": [
        "With a linear regression model the accuracy is extremely low at 15.9%. Checking if the accuracy will improve with a polynomial model"
      ]
    },
    {
      "cell_type": "code",
      "metadata": {
        "colab": {
          "base_uri": "https://localhost:8080/"
        },
        "id": "xwu_xUGf-s2M",
        "outputId": "2724381b-8cbf-4dc4-895c-8e7c37ddd4e4"
      },
      "source": [
        "# Fitting a polynomial regression of degree 2 to the dataset to check its accuracy\n",
        "\n",
        "poly_reg_2 = PolynomialFeatures(degree = 2) \n",
        "X_poly = poly_reg_2.fit_transform(X)\n",
        "\n",
        "# Split the dataset into train and test sets\n",
        "\n",
        "X_train, X_test, y_train, y_test = train_test_split(X_poly,y, test_size = 0.2, random_state=0)\n",
        "\n",
        "# Fitting the model\n",
        "\n",
        "pol_reg = LinearRegression()\n",
        "pol_reg.fit(X_train, y_train)\n",
        "\n",
        "# Using the model to make a prediction\n",
        "\n",
        "y_pred = pol_reg.predict(X_test)\n",
        "\n",
        "# Checking accuracy of the model\n",
        "\n",
        "print(pol_reg.score(X_test, y_test))"
      ],
      "execution_count": null,
      "outputs": [
        {
          "output_type": "stream",
          "text": [
            "0.17149000567433648\n"
          ],
          "name": "stdout"
        }
      ]
    },
    {
      "cell_type": "markdown",
      "metadata": {
        "id": "7tgZbi_k_HSK"
      },
      "source": [
        "The accuracy of the model changes to 17.14% after fitting the polynomial model to degree 2.\n",
        "\n",
        "\n",
        "Checking with the 5th degree polynomial model"
      ]
    },
    {
      "cell_type": "code",
      "metadata": {
        "colab": {
          "base_uri": "https://localhost:8080/"
        },
        "id": "MC1q8AaP_RJv",
        "outputId": "3ce56e0e-89e5-4a7b-e518-416ac15b3cd4"
      },
      "source": [
        "# Fitting a polynomial regression of degree 5 to the dataset to check its accuracy\n",
        "\n",
        "poly_reg_5 = PolynomialFeatures(degree = 5) \n",
        "X_poly = poly_reg_5.fit_transform(X)\n",
        "\n",
        "# Split the dataset into train and test sets\n",
        "\n",
        "X_train, X_test, y_train, y_test = train_test_split(X_poly,y, test_size = 0.2, random_state=0)\n",
        "\n",
        "# Fitting the model\n",
        "\n",
        "pol_reg = LinearRegression()\n",
        "pol_reg.fit(X_train, y_train)\n",
        "\n",
        "# Using the model to make a prediction\n",
        "\n",
        "y_pred = pol_reg.predict(X_test)\n",
        "\n",
        "# Checking accuracy of the model\n",
        "\n",
        "print(pol_reg.score(X_test, y_test))"
      ],
      "execution_count": null,
      "outputs": [
        {
          "output_type": "stream",
          "text": [
            "0.18320550634324761\n"
          ],
          "name": "stdout"
        }
      ]
    },
    {
      "cell_type": "markdown",
      "metadata": {
        "id": "BbZIkQIh_ye6"
      },
      "source": [
        "Using the polynomial at 5 degrees gave the highest accuracy at 18.32%. After the 5th degree the accuracy starts to decrease which means that the 5th degree may be the most optimal in this case.\n",
        "\n",
        "It is possible however that there is overfitting in this case."
      ]
    },
    {
      "cell_type": "markdown",
      "metadata": {
        "id": "39EorbqZAl3C"
      },
      "source": [
        "### Using K Fold cross validation"
      ]
    },
    {
      "cell_type": "code",
      "metadata": {
        "colab": {
          "base_uri": "https://localhost:8080/"
        },
        "id": "thQ4wQYv_-HF",
        "outputId": "10897cb3-2c80-4f4f-bd4b-fa1643b41e03"
      },
      "source": [
        "# Getting the model accuracy after using 3 fold cross validation using the cross-val-score method\n",
        "\n",
        "all_accuracies = cross_val_score(estimator=pol_reg, X=X_poly, y=y, cv=3)\n",
        "\n",
        "all_accuracies"
      ],
      "execution_count": null,
      "outputs": [
        {
          "output_type": "execute_result",
          "data": {
            "text/plain": [
              "array([  0.15786895,   0.19565581, -59.92695463])"
            ]
          },
          "metadata": {
            "tags": []
          },
          "execution_count": 106
        }
      ]
    },
    {
      "cell_type": "code",
      "metadata": {
        "colab": {
          "base_uri": "https://localhost:8080/"
        },
        "id": "krLN0Ol_AclX",
        "outputId": "7764d0c8-22a6-481a-a739-47cfdaedad67"
      },
      "source": [
        "# Printing the mean accuracy returned for the 3 folds \n",
        "\n",
        "print(all_accuracies.mean())\n"
      ],
      "execution_count": null,
      "outputs": [
        {
          "output_type": "stream",
          "text": [
            "-19.85780995869197\n"
          ],
          "name": "stdout"
        }
      ]
    },
    {
      "cell_type": "markdown",
      "metadata": {
        "id": "HP3tOahGA67W"
      },
      "source": [
        "Accuracy does not improve using 3 fold cross validation"
      ]
    },
    {
      "cell_type": "markdown",
      "metadata": {
        "id": "ECrqBCLSB3Z5"
      },
      "source": [
        "### Checking for presence of heteroskedasticity using residual plots"
      ]
    },
    {
      "cell_type": "code",
      "metadata": {
        "id": "ZJym6zLfBIyz"
      },
      "source": [
        "# Obtaining the residuals for each observation\n",
        "\n",
        "residuals = np.subtract(y_pred, y_test)"
      ],
      "execution_count": null,
      "outputs": []
    },
    {
      "cell_type": "code",
      "metadata": {
        "colab": {
          "base_uri": "https://localhost:8080/",
          "height": 523
        },
        "id": "lnK3TH9ABT5n",
        "outputId": "94768a72-b939-4397-8e7c-e12dd63e34c0"
      },
      "source": [
        "# Plotting the residual plot\n",
        "\n",
        "plt.figure(figsize = (10,8))\n",
        "sns.scatterplot(x = y_pred, y = residuals)\n",
        "plt.axhline(y= residuals.mean(), color='red', linewidth=1)\n",
        "plt.title('Residual plot', fontsize = 16)\n",
        "plt.xticks(fontsize = 14)\n",
        "plt.yticks(fontsize = 14)\n",
        "plt.xlabel('Residual', fontsize = 14)\n",
        "plt.ylabel('Fitted Values', fontsize = 14)\n",
        "plt.show()"
      ],
      "execution_count": null,
      "outputs": [
        {
          "output_type": "display_data",
          "data": {
            "image/png": "[encoded data removed]",
            "text/plain": [
              "<Figure size 720x576 with 1 Axes>"
            ]
          },
          "metadata": {
            "tags": [],
            "needs_background": "light"
          }
        }
      ]
    },
    {
      "cell_type": "markdown",
      "metadata": {
        "id": "RJjcJ8BphoRn"
      },
      "source": [
        "From the plot we can see that the homoscedasticity assumption is not violated. The variances are uniform and not taking an increasing or decreasing trend.\n",
        "\n",
        "Bartlett's test can be used to confirm these results"
      ]
    },
    {
      "cell_type": "markdown",
      "metadata": {
        "id": "jD3tK6s7Bryi"
      },
      "source": [
        "### Checking for presence of heteroskedasticity using Bartlett's test\n",
        "\n",
        "> Ho: Variances are homogenous\n",
        "\n",
        "> Ha: Variances are heterogenous"
      ]
    },
    {
      "cell_type": "code",
      "metadata": {
        "colab": {
          "base_uri": "https://localhost:8080/"
        },
        "id": "Rcwd-P7zBiyW",
        "outputId": "dcbcd172-bb4b-47ea-ebdd-91a3625dbe9a"
      },
      "source": [
        "# Performing the test\n",
        "\n",
        "import scipy as sc\n",
        "\n",
        "stat, p_value = sc.stats.bartlett(y_pred, residuals)\n",
        "\n",
        "# Obtaining the critical value\n",
        "\n",
        "dof = len(y_pred) - 1\n",
        "prob = 1 - p_value\n",
        "\n",
        "critical_value = sc.stats.chi2.ppf(prob, dof)\n",
        "\n",
        "print('Statistic:', stat)\n",
        "print('Critical value', critical_value)\n",
        "\n",
        "if stat > critical_value:\n",
        "  print('Reject null hypothesis')\n",
        "else:\n",
        "  print('Do not reject null hypothesis')\n"
      ],
      "execution_count": null,
      "outputs": [
        {
          "output_type": "stream",
          "text": [
            "Statistic: 1555.5978937660634\n",
            "Critical value inf\n",
            "Do not reject null hypothesis\n"
          ],
          "name": "stdout"
        }
      ]
    },
    {
      "cell_type": "markdown",
      "metadata": {
        "id": "f17hNMnECVN_"
      },
      "source": [
        "Since the chi square statistic is less than the critical value, we will fail to reject null and conclude that the error variances are homogenous.\n",
        "\n",
        "Therefore there is no heteroskedasticity in our model"
      ]
    },
    {
      "cell_type": "markdown",
      "metadata": {
        "id": "TD1ICEwtksKa"
      },
      "source": [
        "##b) Logistic Approach"
      ]
    },
    {
      "cell_type": "code",
      "metadata": {
        "colab": {
          "base_uri": "https://localhost:8080/",
          "height": 195
        },
        "id": "00H7T4NS-yIa",
        "outputId": "92a59722-d836-4bb2-c08a-0a3df4f73a5b"
      },
      "source": [
        "# Creating the logistic dataframe\n",
        "\n",
        "logistic = scaled_df[['result', 'tournament_type', 'home_score',\n",
        "       'away_score', 'year', 'month', 'home_rank', 'away_rank']]\n",
        "\n",
        "logistic.head()"
      ],
      "execution_count": null,
      "outputs": [
        {
          "output_type": "execute_result",
          "data": {
            "text/html": [
              "<div>\n",
              "<style scoped>\n",
              "    .dataframe tbody tr th:only-of-type {\n",
              "        vertical-align: middle;\n",
              "    }\n",
              "\n",
              "    .dataframe tbody tr th {\n",
              "        vertical-align: top;\n",
              "    }\n",
              "\n",
              "    .dataframe thead th {\n",
              "        text-align: right;\n",
              "    }\n",
              "</style>\n",
              "<table border=\"1\" class=\"dataframe\">\n",
              "  <thead>\n",
              "    <tr style=\"text-align: right;\">\n",
              "      <th></th>\n",
              "      <th>result</th>\n",
              "      <th>tournament_type</th>\n",
              "      <th>home_score</th>\n",
              "      <th>away_score</th>\n",
              "      <th>year</th>\n",
              "      <th>month</th>\n",
              "      <th>home_rank</th>\n",
              "      <th>away_rank</th>\n",
              "    </tr>\n",
              "  </thead>\n",
              "  <tbody>\n",
              "    <tr>\n",
              "      <th>0</th>\n",
              "      <td>draw</td>\n",
              "      <td>Other</td>\n",
              "      <td>0.000000</td>\n",
              "      <td>0.000000</td>\n",
              "      <td>0.0</td>\n",
              "      <td>0.636364</td>\n",
              "      <td>0.086538</td>\n",
              "      <td>0.317308</td>\n",
              "    </tr>\n",
              "    <tr>\n",
              "      <th>1</th>\n",
              "      <td>loss</td>\n",
              "      <td>Other</td>\n",
              "      <td>0.000000</td>\n",
              "      <td>0.066667</td>\n",
              "      <td>0.0</td>\n",
              "      <td>0.636364</td>\n",
              "      <td>0.331731</td>\n",
              "      <td>0.019231</td>\n",
              "    </tr>\n",
              "    <tr>\n",
              "      <th>2</th>\n",
              "      <td>draw</td>\n",
              "      <td>Other</td>\n",
              "      <td>0.000000</td>\n",
              "      <td>0.000000</td>\n",
              "      <td>0.0</td>\n",
              "      <td>0.636364</td>\n",
              "      <td>0.100962</td>\n",
              "      <td>0.163462</td>\n",
              "    </tr>\n",
              "    <tr>\n",
              "      <th>3</th>\n",
              "      <td>loss</td>\n",
              "      <td>Other</td>\n",
              "      <td>0.032258</td>\n",
              "      <td>0.333333</td>\n",
              "      <td>0.0</td>\n",
              "      <td>0.636364</td>\n",
              "      <td>0.447115</td>\n",
              "      <td>0.033654</td>\n",
              "    </tr>\n",
              "    <tr>\n",
              "      <th>4</th>\n",
              "      <td>draw</td>\n",
              "      <td>Other</td>\n",
              "      <td>0.000000</td>\n",
              "      <td>0.000000</td>\n",
              "      <td>0.0</td>\n",
              "      <td>0.636364</td>\n",
              "      <td>0.274038</td>\n",
              "      <td>0.115385</td>\n",
              "    </tr>\n",
              "  </tbody>\n",
              "</table>\n",
              "</div>"
            ],
            "text/plain": [
              "  result tournament_type  home_score  ...     month  home_rank  away_rank\n",
              "0   draw           Other    0.000000  ...  0.636364   0.086538   0.317308\n",
              "1   loss           Other    0.000000  ...  0.636364   0.331731   0.019231\n",
              "2   draw           Other    0.000000  ...  0.636364   0.100962   0.163462\n",
              "3   loss           Other    0.032258  ...  0.636364   0.447115   0.033654\n",
              "4   draw           Other    0.000000  ...  0.636364   0.274038   0.115385\n",
              "\n",
              "[5 rows x 8 columns]"
            ]
          },
          "metadata": {
            "tags": []
          },
          "execution_count": 111
        }
      ]
    },
    {
      "cell_type": "code",
      "metadata": {
        "colab": {
          "base_uri": "https://localhost:8080/"
        },
        "id": "RlKmE9UqFMzg",
        "outputId": "0ce6765b-3d3f-422e-d135-121c16081226"
      },
      "source": [
        "logistic.info()"
      ],
      "execution_count": null,
      "outputs": [
        {
          "output_type": "stream",
          "text": [
            "<class 'pandas.core.frame.DataFrame'>\n",
            "Int64Index: 16843 entries, 0 to 16899\n",
            "Data columns (total 8 columns):\n",
            " #   Column           Non-Null Count  Dtype  \n",
            "---  ------           --------------  -----  \n",
            " 0   result           16843 non-null  object \n",
            " 1   tournament_type  16843 non-null  object \n",
            " 2   home_score       16843 non-null  float64\n",
            " 3   away_score       16843 non-null  float64\n",
            " 4   year             16843 non-null  float64\n",
            " 5   month            16843 non-null  float64\n",
            " 6   home_rank        16843 non-null  float64\n",
            " 7   away_rank        16843 non-null  float64\n",
            "dtypes: float64(6), object(2)\n",
            "memory usage: 1.2+ MB\n"
          ],
          "name": "stdout"
        }
      ]
    },
    {
      "cell_type": "code",
      "metadata": {
        "colab": {
          "base_uri": "https://localhost:8080/",
          "height": 296
        },
        "id": "sl__jhCEEvuM",
        "outputId": "d1a90336-bc5f-4964-d914-2e51bce50778"
      },
      "source": [
        "# Encoding the target variable\n",
        "\n",
        "from sklearn.preprocessing import LabelEncoder\n",
        "\n",
        "labelencoder = LabelEncoder()\n",
        "# Assigning numerical values and storing in another column\n",
        "logistic['result_cat'] = labelencoder.fit_transform(logistic['result'])\n",
        "logistic.head()"
      ],
      "execution_count": null,
      "outputs": [
        {
          "output_type": "stream",
          "text": [
            "/usr/local/lib/python3.7/dist-packages/ipykernel_launcher.py:7: SettingWithCopyWarning: \n",
            "A value is trying to be set on a copy of a slice from a DataFrame.\n",
            "Try using .loc[row_indexer,col_indexer] = value instead\n",
            "\n",
            "See the caveats in the documentation: https://pandas.pydata.org/pandas-docs/stable/user_guide/indexing.html#returning-a-view-versus-a-copy\n",
            "  import sys\n"
          ],
          "name": "stderr"
        },
        {
          "output_type": "execute_result",
          "data": {
            "text/html": [
              "<div>\n",
              "<style scoped>\n",
              "    .dataframe tbody tr th:only-of-type {\n",
              "        vertical-align: middle;\n",
              "    }\n",
              "\n",
              "    .dataframe tbody tr th {\n",
              "        vertical-align: top;\n",
              "    }\n",
              "\n",
              "    .dataframe thead th {\n",
              "        text-align: right;\n",
              "    }\n",
              "</style>\n",
              "<table border=\"1\" class=\"dataframe\">\n",
              "  <thead>\n",
              "    <tr style=\"text-align: right;\">\n",
              "      <th></th>\n",
              "      <th>result</th>\n",
              "      <th>tournament_type</th>\n",
              "      <th>home_score</th>\n",
              "      <th>away_score</th>\n",
              "      <th>year</th>\n",
              "      <th>month</th>\n",
              "      <th>home_rank</th>\n",
              "      <th>away_rank</th>\n",
              "      <th>result_cat</th>\n",
              "    </tr>\n",
              "  </thead>\n",
              "  <tbody>\n",
              "    <tr>\n",
              "      <th>0</th>\n",
              "      <td>draw</td>\n",
              "      <td>Other</td>\n",
              "      <td>0.000000</td>\n",
              "      <td>0.000000</td>\n",
              "      <td>0.0</td>\n",
              "      <td>0.636364</td>\n",
              "      <td>0.086538</td>\n",
              "      <td>0.317308</td>\n",
              "      <td>0</td>\n",
              "    </tr>\n",
              "    <tr>\n",
              "      <th>1</th>\n",
              "      <td>loss</td>\n",
              "      <td>Other</td>\n",
              "      <td>0.000000</td>\n",
              "      <td>0.066667</td>\n",
              "      <td>0.0</td>\n",
              "      <td>0.636364</td>\n",
              "      <td>0.331731</td>\n",
              "      <td>0.019231</td>\n",
              "      <td>1</td>\n",
              "    </tr>\n",
              "    <tr>\n",
              "      <th>2</th>\n",
              "      <td>draw</td>\n",
              "      <td>Other</td>\n",
              "      <td>0.000000</td>\n",
              "      <td>0.000000</td>\n",
              "      <td>0.0</td>\n",
              "      <td>0.636364</td>\n",
              "      <td>0.100962</td>\n",
              "      <td>0.163462</td>\n",
              "      <td>0</td>\n",
              "    </tr>\n",
              "    <tr>\n",
              "      <th>3</th>\n",
              "      <td>loss</td>\n",
              "      <td>Other</td>\n",
              "      <td>0.032258</td>\n",
              "      <td>0.333333</td>\n",
              "      <td>0.0</td>\n",
              "      <td>0.636364</td>\n",
              "      <td>0.447115</td>\n",
              "      <td>0.033654</td>\n",
              "      <td>1</td>\n",
              "    </tr>\n",
              "    <tr>\n",
              "      <th>4</th>\n",
              "      <td>draw</td>\n",
              "      <td>Other</td>\n",
              "      <td>0.000000</td>\n",
              "      <td>0.000000</td>\n",
              "      <td>0.0</td>\n",
              "      <td>0.636364</td>\n",
              "      <td>0.274038</td>\n",
              "      <td>0.115385</td>\n",
              "      <td>0</td>\n",
              "    </tr>\n",
              "  </tbody>\n",
              "</table>\n",
              "</div>"
            ],
            "text/plain": [
              "  result tournament_type  home_score  ...  home_rank  away_rank  result_cat\n",
              "0   draw           Other    0.000000  ...   0.086538   0.317308           0\n",
              "1   loss           Other    0.000000  ...   0.331731   0.019231           1\n",
              "2   draw           Other    0.000000  ...   0.100962   0.163462           0\n",
              "3   loss           Other    0.032258  ...   0.447115   0.033654           1\n",
              "4   draw           Other    0.000000  ...   0.274038   0.115385           0\n",
              "\n",
              "[5 rows x 9 columns]"
            ]
          },
          "metadata": {
            "tags": []
          },
          "execution_count": 113
        }
      ]
    },
    {
      "cell_type": "code",
      "metadata": {
        "id": "xqGOgWQw_QQQ"
      },
      "source": [
        "# Defining X and y\n",
        "\n",
        "X = logistic.drop(['result', 'result_cat'], axis = 1)\n",
        "y = logistic['result_cat']"
      ],
      "execution_count": null,
      "outputs": []
    },
    {
      "cell_type": "code",
      "metadata": {
        "colab": {
          "base_uri": "https://localhost:8080/",
          "height": 195
        },
        "id": "A-p0EMTjCSed",
        "outputId": "801deec5-202d-447d-8b97-ca5ec4a7bdf6"
      },
      "source": [
        "# One hot encoding X \n",
        "\n",
        "X = pd.get_dummies(X, drop_first=True)\n",
        "X.head()"
      ],
      "execution_count": null,
      "outputs": [
        {
          "output_type": "execute_result",
          "data": {
            "text/html": [
              "<div>\n",
              "<style scoped>\n",
              "    .dataframe tbody tr th:only-of-type {\n",
              "        vertical-align: middle;\n",
              "    }\n",
              "\n",
              "    .dataframe tbody tr th {\n",
              "        vertical-align: top;\n",
              "    }\n",
              "\n",
              "    .dataframe thead th {\n",
              "        text-align: right;\n",
              "    }\n",
              "</style>\n",
              "<table border=\"1\" class=\"dataframe\">\n",
              "  <thead>\n",
              "    <tr style=\"text-align: right;\">\n",
              "      <th></th>\n",
              "      <th>home_score</th>\n",
              "      <th>away_score</th>\n",
              "      <th>year</th>\n",
              "      <th>month</th>\n",
              "      <th>home_rank</th>\n",
              "      <th>away_rank</th>\n",
              "      <th>tournament_type_Other</th>\n",
              "      <th>tournament_type_World cup</th>\n",
              "    </tr>\n",
              "  </thead>\n",
              "  <tbody>\n",
              "    <tr>\n",
              "      <th>0</th>\n",
              "      <td>0.000000</td>\n",
              "      <td>0.000000</td>\n",
              "      <td>0.0</td>\n",
              "      <td>0.636364</td>\n",
              "      <td>0.086538</td>\n",
              "      <td>0.317308</td>\n",
              "      <td>1</td>\n",
              "      <td>0</td>\n",
              "    </tr>\n",
              "    <tr>\n",
              "      <th>1</th>\n",
              "      <td>0.000000</td>\n",
              "      <td>0.066667</td>\n",
              "      <td>0.0</td>\n",
              "      <td>0.636364</td>\n",
              "      <td>0.331731</td>\n",
              "      <td>0.019231</td>\n",
              "      <td>1</td>\n",
              "      <td>0</td>\n",
              "    </tr>\n",
              "    <tr>\n",
              "      <th>2</th>\n",
              "      <td>0.000000</td>\n",
              "      <td>0.000000</td>\n",
              "      <td>0.0</td>\n",
              "      <td>0.636364</td>\n",
              "      <td>0.100962</td>\n",
              "      <td>0.163462</td>\n",
              "      <td>1</td>\n",
              "      <td>0</td>\n",
              "    </tr>\n",
              "    <tr>\n",
              "      <th>3</th>\n",
              "      <td>0.032258</td>\n",
              "      <td>0.333333</td>\n",
              "      <td>0.0</td>\n",
              "      <td>0.636364</td>\n",
              "      <td>0.447115</td>\n",
              "      <td>0.033654</td>\n",
              "      <td>1</td>\n",
              "      <td>0</td>\n",
              "    </tr>\n",
              "    <tr>\n",
              "      <th>4</th>\n",
              "      <td>0.000000</td>\n",
              "      <td>0.000000</td>\n",
              "      <td>0.0</td>\n",
              "      <td>0.636364</td>\n",
              "      <td>0.274038</td>\n",
              "      <td>0.115385</td>\n",
              "      <td>1</td>\n",
              "      <td>0</td>\n",
              "    </tr>\n",
              "  </tbody>\n",
              "</table>\n",
              "</div>"
            ],
            "text/plain": [
              "   home_score  away_score  ...  tournament_type_Other  tournament_type_World cup\n",
              "0    0.000000    0.000000  ...                      1                          0\n",
              "1    0.000000    0.066667  ...                      1                          0\n",
              "2    0.000000    0.000000  ...                      1                          0\n",
              "3    0.032258    0.333333  ...                      1                          0\n",
              "4    0.000000    0.000000  ...                      1                          0\n",
              "\n",
              "[5 rows x 8 columns]"
            ]
          },
          "metadata": {
            "tags": []
          },
          "execution_count": 115
        }
      ]
    },
    {
      "cell_type": "code",
      "metadata": {
        "colab": {
          "base_uri": "https://localhost:8080/",
          "height": 284
        },
        "id": "Gf864ja8Cq2b",
        "outputId": "b2d6fbc9-c44b-4f27-e07d-6fdec0da39ee"
      },
      "source": [
        "# Finding multicollinearity in independent variables in X\n",
        "\n",
        "correlations = X.corr()\n",
        "correlations"
      ],
      "execution_count": null,
      "outputs": [
        {
          "output_type": "execute_result",
          "data": {
            "text/html": [
              "<div>\n",
              "<style scoped>\n",
              "    .dataframe tbody tr th:only-of-type {\n",
              "        vertical-align: middle;\n",
              "    }\n",
              "\n",
              "    .dataframe tbody tr th {\n",
              "        vertical-align: top;\n",
              "    }\n",
              "\n",
              "    .dataframe thead th {\n",
              "        text-align: right;\n",
              "    }\n",
              "</style>\n",
              "<table border=\"1\" class=\"dataframe\">\n",
              "  <thead>\n",
              "    <tr style=\"text-align: right;\">\n",
              "      <th></th>\n",
              "      <th>home_score</th>\n",
              "      <th>away_score</th>\n",
              "      <th>year</th>\n",
              "      <th>month</th>\n",
              "      <th>home_rank</th>\n",
              "      <th>away_rank</th>\n",
              "      <th>tournament_type_Other</th>\n",
              "      <th>tournament_type_World cup</th>\n",
              "    </tr>\n",
              "  </thead>\n",
              "  <tbody>\n",
              "    <tr>\n",
              "      <th>home_score</th>\n",
              "      <td>1.000000</td>\n",
              "      <td>-0.163713</td>\n",
              "      <td>-0.038139</td>\n",
              "      <td>0.017371</td>\n",
              "      <td>-0.135751</td>\n",
              "      <td>0.318620</td>\n",
              "      <td>0.055678</td>\n",
              "      <td>-0.005289</td>\n",
              "    </tr>\n",
              "    <tr>\n",
              "      <th>away_score</th>\n",
              "      <td>-0.163713</td>\n",
              "      <td>1.000000</td>\n",
              "      <td>-0.007723</td>\n",
              "      <td>0.018547</td>\n",
              "      <td>0.221984</td>\n",
              "      <td>-0.180107</td>\n",
              "      <td>0.028291</td>\n",
              "      <td>-0.010329</td>\n",
              "    </tr>\n",
              "    <tr>\n",
              "      <th>year</th>\n",
              "      <td>-0.038139</td>\n",
              "      <td>-0.007723</td>\n",
              "      <td>1.000000</td>\n",
              "      <td>-0.000081</td>\n",
              "      <td>0.105117</td>\n",
              "      <td>0.106599</td>\n",
              "      <td>-0.023116</td>\n",
              "      <td>-0.023337</td>\n",
              "    </tr>\n",
              "    <tr>\n",
              "      <th>month</th>\n",
              "      <td>0.017371</td>\n",
              "      <td>0.018547</td>\n",
              "      <td>-0.000081</td>\n",
              "      <td>1.000000</td>\n",
              "      <td>0.028664</td>\n",
              "      <td>0.028638</td>\n",
              "      <td>0.126775</td>\n",
              "      <td>0.006876</td>\n",
              "    </tr>\n",
              "    <tr>\n",
              "      <th>home_rank</th>\n",
              "      <td>-0.135751</td>\n",
              "      <td>0.221984</td>\n",
              "      <td>0.105117</td>\n",
              "      <td>0.028664</td>\n",
              "      <td>1.000000</td>\n",
              "      <td>0.469029</td>\n",
              "      <td>0.068057</td>\n",
              "      <td>-0.045465</td>\n",
              "    </tr>\n",
              "    <tr>\n",
              "      <th>away_rank</th>\n",
              "      <td>0.318620</td>\n",
              "      <td>-0.180107</td>\n",
              "      <td>0.106599</td>\n",
              "      <td>0.028638</td>\n",
              "      <td>0.469029</td>\n",
              "      <td>1.000000</td>\n",
              "      <td>0.076712</td>\n",
              "      <td>-0.032270</td>\n",
              "    </tr>\n",
              "    <tr>\n",
              "      <th>tournament_type_Other</th>\n",
              "      <td>0.055678</td>\n",
              "      <td>0.028291</td>\n",
              "      <td>-0.023116</td>\n",
              "      <td>0.126775</td>\n",
              "      <td>0.068057</td>\n",
              "      <td>0.076712</td>\n",
              "      <td>1.000000</td>\n",
              "      <td>-0.105889</td>\n",
              "    </tr>\n",
              "    <tr>\n",
              "      <th>tournament_type_World cup</th>\n",
              "      <td>-0.005289</td>\n",
              "      <td>-0.010329</td>\n",
              "      <td>-0.023337</td>\n",
              "      <td>0.006876</td>\n",
              "      <td>-0.045465</td>\n",
              "      <td>-0.032270</td>\n",
              "      <td>-0.105889</td>\n",
              "      <td>1.000000</td>\n",
              "    </tr>\n",
              "  </tbody>\n",
              "</table>\n",
              "</div>"
            ],
            "text/plain": [
              "                           home_score  ...  tournament_type_World cup\n",
              "home_score                   1.000000  ...                  -0.005289\n",
              "away_score                  -0.163713  ...                  -0.010329\n",
              "year                        -0.038139  ...                  -0.023337\n",
              "month                        0.017371  ...                   0.006876\n",
              "home_rank                   -0.135751  ...                  -0.045465\n",
              "away_rank                    0.318620  ...                  -0.032270\n",
              "tournament_type_Other        0.055678  ...                  -0.105889\n",
              "tournament_type_World cup   -0.005289  ...                   1.000000\n",
              "\n",
              "[8 rows x 8 columns]"
            ]
          },
          "metadata": {
            "tags": []
          },
          "execution_count": 116
        }
      ]
    },
    {
      "cell_type": "code",
      "metadata": {
        "colab": {
          "base_uri": "https://localhost:8080/",
          "height": 284
        },
        "id": "a25LdLW4C3aj",
        "outputId": "96516a2f-0b14-481b-d8d2-04ba21cedb2e"
      },
      "source": [
        "# Getting the Variance Inflation Factor\n",
        "\n",
        "pd.DataFrame(np.linalg.inv(correlations.values), index = correlations.index, columns = correlations.columns)\n",
        "\n",
        "# The VIF score for each variable is found on the diagonal. All VIF scores are less than 4 which shows\n",
        "# there is no multicollinearity"
      ],
      "execution_count": null,
      "outputs": [
        {
          "output_type": "execute_result",
          "data": {
            "text/html": [
              "<div>\n",
              "<style scoped>\n",
              "    .dataframe tbody tr th:only-of-type {\n",
              "        vertical-align: middle;\n",
              "    }\n",
              "\n",
              "    .dataframe tbody tr th {\n",
              "        vertical-align: top;\n",
              "    }\n",
              "\n",
              "    .dataframe thead th {\n",
              "        text-align: right;\n",
              "    }\n",
              "</style>\n",
              "<table border=\"1\" class=\"dataframe\">\n",
              "  <thead>\n",
              "    <tr style=\"text-align: right;\">\n",
              "      <th></th>\n",
              "      <th>home_score</th>\n",
              "      <th>away_score</th>\n",
              "      <th>year</th>\n",
              "      <th>month</th>\n",
              "      <th>home_rank</th>\n",
              "      <th>away_rank</th>\n",
              "      <th>tournament_type_Other</th>\n",
              "      <th>tournament_type_World cup</th>\n",
              "    </tr>\n",
              "  </thead>\n",
              "  <tbody>\n",
              "    <tr>\n",
              "      <th>home_score</th>\n",
              "      <td>1.266373</td>\n",
              "      <td>-0.005761</td>\n",
              "      <td>0.065042</td>\n",
              "      <td>-0.010881</td>\n",
              "      <td>0.463130</td>\n",
              "      <td>-0.624362</td>\n",
              "      <td>-0.050686</td>\n",
              "      <td>0.003773</td>\n",
              "    </tr>\n",
              "    <tr>\n",
              "      <th>away_score</th>\n",
              "      <td>-0.005761</td>\n",
              "      <td>1.182073</td>\n",
              "      <td>0.010783</td>\n",
              "      <td>-0.016866</td>\n",
              "      <td>-0.465562</td>\n",
              "      <td>0.434966</td>\n",
              "      <td>-0.032204</td>\n",
              "      <td>0.002007</td>\n",
              "    </tr>\n",
              "    <tr>\n",
              "      <th>year</th>\n",
              "      <td>0.065042</td>\n",
              "      <td>0.010783</td>\n",
              "      <td>1.020582</td>\n",
              "      <td>-0.001167</td>\n",
              "      <td>-0.053083</td>\n",
              "      <td>-0.104523</td>\n",
              "      <td>0.033781</td>\n",
              "      <td>0.022071</td>\n",
              "    </tr>\n",
              "    <tr>\n",
              "      <th>month</th>\n",
              "      <td>-0.010881</td>\n",
              "      <td>-0.016866</td>\n",
              "      <td>-0.001167</td>\n",
              "      <td>1.017677</td>\n",
              "      <td>-0.012713</td>\n",
              "      <td>-0.013486</td>\n",
              "      <td>-0.128375</td>\n",
              "      <td>-0.021863</td>\n",
              "    </tr>\n",
              "    <tr>\n",
              "      <th>home_rank</th>\n",
              "      <td>0.463130</td>\n",
              "      <td>-0.465562</td>\n",
              "      <td>-0.053083</td>\n",
              "      <td>-0.012713</td>\n",
              "      <td>1.641439</td>\n",
              "      <td>-0.990764</td>\n",
              "      <td>-0.044289</td>\n",
              "      <td>0.034456</td>\n",
              "    </tr>\n",
              "    <tr>\n",
              "      <th>away_rank</th>\n",
              "      <td>-0.624362</td>\n",
              "      <td>0.434966</td>\n",
              "      <td>-0.104523</td>\n",
              "      <td>-0.013486</td>\n",
              "      <td>-0.990764</td>\n",
              "      <td>1.757138</td>\n",
              "      <td>-0.045008</td>\n",
              "      <td>0.005736</td>\n",
              "    </tr>\n",
              "    <tr>\n",
              "      <th>tournament_type_Other</th>\n",
              "      <td>-0.050686</td>\n",
              "      <td>-0.032204</td>\n",
              "      <td>0.033781</td>\n",
              "      <td>-0.128375</td>\n",
              "      <td>-0.044289</td>\n",
              "      <td>-0.045008</td>\n",
              "      <td>1.038648</td>\n",
              "      <td>0.107586</td>\n",
              "    </tr>\n",
              "    <tr>\n",
              "      <th>tournament_type_World cup</th>\n",
              "      <td>0.003773</td>\n",
              "      <td>0.002007</td>\n",
              "      <td>0.022071</td>\n",
              "      <td>-0.021863</td>\n",
              "      <td>0.034456</td>\n",
              "      <td>0.005736</td>\n",
              "      <td>0.107586</td>\n",
              "      <td>1.013850</td>\n",
              "    </tr>\n",
              "  </tbody>\n",
              "</table>\n",
              "</div>"
            ],
            "text/plain": [
              "                           home_score  ...  tournament_type_World cup\n",
              "home_score                   1.266373  ...                   0.003773\n",
              "away_score                  -0.005761  ...                   0.002007\n",
              "year                         0.065042  ...                   0.022071\n",
              "month                       -0.010881  ...                  -0.021863\n",
              "home_rank                    0.463130  ...                   0.034456\n",
              "away_rank                   -0.624362  ...                   0.005736\n",
              "tournament_type_Other       -0.050686  ...                   0.107586\n",
              "tournament_type_World cup    0.003773  ...                   1.013850\n",
              "\n",
              "[8 rows x 8 columns]"
            ]
          },
          "metadata": {
            "tags": []
          },
          "execution_count": 117
        }
      ]
    },
    {
      "cell_type": "code",
      "metadata": {
        "colab": {
          "base_uri": "https://localhost:8080/",
          "height": 632
        },
        "id": "t3s-CUfKERWU",
        "outputId": "76f29e97-c127-4af3-f962-90977a48024f"
      },
      "source": [
        "# Using the heatmap to check for independence between features\n",
        "\n",
        "plt.figure(figsize = (10,8))\n",
        "sns.heatmap(X.corr())\n",
        "plt.title('Correlation heatmap', fontsize = 16)\n",
        "plt.show()"
      ],
      "execution_count": null,
      "outputs": [
        {
          "output_type": "display_data",
          "data": {
            "image/png": "[encoded data removed]",
            "text/plain": [
              "<Figure size 720x576 with 2 Axes>"
            ]
          },
          "metadata": {
            "tags": [],
            "needs_background": "light"
          }
        }
      ]
    },
    {
      "cell_type": "code",
      "metadata": {
        "colab": {
          "base_uri": "https://localhost:8080/"
        },
        "id": "Sp0wXQVBeZEv",
        "outputId": "085afb29-c10b-4f94-87fb-3e39fc52ac49"
      },
      "source": [
        "#  Checking that my dataset size is sufficient\n",
        "\n",
        "records = X.shape[0]\n",
        "features = X.shape[1]\n",
        "\n",
        "records/features\n",
        "\n",
        "# The ratio of features to records is 1:2105 which is a sufficient dataset size to build the model"
      ],
      "execution_count": null,
      "outputs": [
        {
          "output_type": "execute_result",
          "data": {
            "text/plain": [
              "2105.375"
            ]
          },
          "metadata": {
            "tags": []
          },
          "execution_count": 120
        }
      ]
    },
    {
      "cell_type": "code",
      "metadata": {
        "id": "-fsA86ibJWie"
      },
      "source": [
        "# Splitting into train and test set\n",
        "\n",
        "X_train, X_test, y_train, y_test = train_test_split(X, y, test_size = 0.2, random_state = 99)"
      ],
      "execution_count": null,
      "outputs": []
    },
    {
      "cell_type": "code",
      "metadata": {
        "colab": {
          "base_uri": "https://localhost:8080/"
        },
        "id": "yBubdr_OJs9L",
        "outputId": "8cf2a630-d4bb-48ba-8ea3-0c34215f9b1e"
      },
      "source": [
        "# Fitting our model\n",
        "\n",
        "LogReg = LogisticRegression()\n",
        "\n",
        "LogReg.fit(X_train, y_train)"
      ],
      "execution_count": null,
      "outputs": [
        {
          "output_type": "execute_result",
          "data": {
            "text/plain": [
              "LogisticRegression(C=1.0, class_weight=None, dual=False, fit_intercept=True,\n",
              "                   intercept_scaling=1, l1_ratio=None, max_iter=100,\n",
              "                   multi_class='auto', n_jobs=None, penalty='l2',\n",
              "                   random_state=None, solver='lbfgs', tol=0.0001, verbose=0,\n",
              "                   warm_start=False)"
            ]
          },
          "metadata": {
            "tags": []
          },
          "execution_count": 122
        }
      ]
    },
    {
      "cell_type": "code",
      "metadata": {
        "colab": {
          "base_uri": "https://localhost:8080/"
        },
        "id": "7nDCXYbiKCUS",
        "outputId": "44e0545e-ea6b-474d-9c61-526666cb32c1"
      },
      "source": [
        "# Obtaining the coefficients and intercept\n",
        "\n",
        "print('Intercept:', LogReg.intercept_)\n",
        "print('Coefficients:', LogReg.coef_)"
      ],
      "execution_count": null,
      "outputs": [
        {
          "output_type": "stream",
          "text": [
            "Intercept: [ 0.2519956  -0.47708105  0.22508545]\n",
            "Coefficients: [[-3.86243064e+00 -1.70380794e+00 -7.72813953e-05  3.29431251e-02\n",
            "   5.17511294e-02 -1.70287563e-01 -1.66580975e-01 -2.62554257e-01]\n",
            " [-7.73156251e+00  6.56274819e+00  7.47191092e-02 -4.92667214e-03\n",
            "   2.82531601e-01 -1.82091607e-01  1.33982252e-01  3.54176155e-01]\n",
            " [ 1.15939931e+01 -4.85894025e+00 -7.46418278e-02 -2.80164530e-02\n",
            "  -3.34282731e-01  3.52379170e-01  3.25987230e-02 -9.16218982e-02]]\n"
          ],
          "name": "stdout"
        }
      ]
    },
    {
      "cell_type": "code",
      "metadata": {
        "id": "uVwRKPCOKhoT"
      },
      "source": [
        "# Using the model to make a prediction\n",
        "\n",
        "y_pred = LogReg.predict(X_test)"
      ],
      "execution_count": null,
      "outputs": []
    },
    {
      "cell_type": "code",
      "metadata": {
        "colab": {
          "base_uri": "https://localhost:8080/"
        },
        "id": "yMU8e-hlK31N",
        "outputId": "0d0ea27b-c37f-4705-f1ac-0a6bb3c4b556"
      },
      "source": [
        "# Getting the accuracy of our model\n",
        "\n",
        "from sklearn.metrics import accuracy_score\n",
        "\n",
        "accuracy_score(y_pred, y_test)"
      ],
      "execution_count": null,
      "outputs": [
        {
          "output_type": "execute_result",
          "data": {
            "text/plain": [
              "0.6310477886613238"
            ]
          },
          "metadata": {
            "tags": []
          },
          "execution_count": 125
        }
      ]
    },
    {
      "cell_type": "markdown",
      "metadata": {
        "id": "yGmj0rVrLfS9"
      },
      "source": [
        "The model can correctly predict if home team won, lost or drew in a match with an accuracy of 63.1% given the features used in the dataset"
      ]
    },
    {
      "cell_type": "markdown",
      "metadata": {
        "id": "9sN7l025LyyQ"
      },
      "source": [
        "### Using K fold cross validation"
      ]
    },
    {
      "cell_type": "code",
      "metadata": {
        "colab": {
          "base_uri": "https://localhost:8080/"
        },
        "id": "0rvf9PuHLyTF",
        "outputId": "30c7007b-a30a-487a-c9df-1097ffbcd22e"
      },
      "source": [
        "# Getting the model accuracy after using 10 fold cross validation using the cross-val-score method\n",
        "\n",
        "all_accuracies = cross_val_score(estimator=LogReg, X=X, y=y, cv=10)\n"
      ],
      "execution_count": null,
      "outputs": [
        {
          "output_type": "stream",
          "text": [
            "/usr/local/lib/python3.7/dist-packages/sklearn/linear_model/_logistic.py:940: ConvergenceWarning: lbfgs failed to converge (status=1):\n",
            "STOP: TOTAL NO. of ITERATIONS REACHED LIMIT.\n",
            "\n",
            "Increase the number of iterations (max_iter) or scale the data as shown in:\n",
            "    https://scikit-learn.org/stable/modules/preprocessing.html\n",
            "Please also refer to the documentation for alternative solver options:\n",
            "    https://scikit-learn.org/stable/modules/linear_model.html#logistic-regression\n",
            "  extra_warning_msg=_LOGISTIC_SOLVER_CONVERGENCE_MSG)\n",
            "/usr/local/lib/python3.7/dist-packages/sklearn/linear_model/_logistic.py:940: ConvergenceWarning: lbfgs failed to converge (status=1):\n",
            "STOP: TOTAL NO. of ITERATIONS REACHED LIMIT.\n",
            "\n",
            "Increase the number of iterations (max_iter) or scale the data as shown in:\n",
            "    https://scikit-learn.org/stable/modules/preprocessing.html\n",
            "Please also refer to the documentation for alternative solver options:\n",
            "    https://scikit-learn.org/stable/modules/linear_model.html#logistic-regression\n",
            "  extra_warning_msg=_LOGISTIC_SOLVER_CONVERGENCE_MSG)\n",
            "/usr/local/lib/python3.7/dist-packages/sklearn/linear_model/_logistic.py:940: ConvergenceWarning: lbfgs failed to converge (status=1):\n",
            "STOP: TOTAL NO. of ITERATIONS REACHED LIMIT.\n",
            "\n",
            "Increase the number of iterations (max_iter) or scale the data as shown in:\n",
            "    https://scikit-learn.org/stable/modules/preprocessing.html\n",
            "Please also refer to the documentation for alternative solver options:\n",
            "    https://scikit-learn.org/stable/modules/linear_model.html#logistic-regression\n",
            "  extra_warning_msg=_LOGISTIC_SOLVER_CONVERGENCE_MSG)\n",
            "/usr/local/lib/python3.7/dist-packages/sklearn/linear_model/_logistic.py:940: ConvergenceWarning: lbfgs failed to converge (status=1):\n",
            "STOP: TOTAL NO. of ITERATIONS REACHED LIMIT.\n",
            "\n",
            "Increase the number of iterations (max_iter) or scale the data as shown in:\n",
            "    https://scikit-learn.org/stable/modules/preprocessing.html\n",
            "Please also refer to the documentation for alternative solver options:\n",
            "    https://scikit-learn.org/stable/modules/linear_model.html#logistic-regression\n",
            "  extra_warning_msg=_LOGISTIC_SOLVER_CONVERGENCE_MSG)\n"
          ],
          "name": "stderr"
        }
      ]
    },
    {
      "cell_type": "code",
      "metadata": {
        "colab": {
          "base_uri": "https://localhost:8080/"
        },
        "id": "cEnS1tkANP9v",
        "outputId": "da163384-8c95-494d-825f-4452f1a36954"
      },
      "source": [
        "# Printing the mean accuracy returned for the ten folds \n",
        "\n",
        "print(all_accuracies.mean())\n",
        "\n",
        "# Using the 10 Fold Cross validation method, the accuracy did not increase"
      ],
      "execution_count": null,
      "outputs": [
        {
          "output_type": "stream",
          "text": [
            "0.62623060820288\n"
          ],
          "name": "stdout"
        }
      ]
    },
    {
      "cell_type": "markdown",
      "metadata": {
        "id": "JIswfZFoNugm"
      },
      "source": [
        "### Hyper-parameter tuning using grid search"
      ]
    },
    {
      "cell_type": "code",
      "metadata": {
        "id": "cPPND_SbNtvZ"
      },
      "source": [
        "# Creating regularization penalty space\n",
        "\n",
        "grid_param = {\n",
        "    'penalty': ['l1', 'l2'],\n",
        "    'C': np.logspace(0, 4, 10),\n",
        "    'dual' : [True, False]}"
      ],
      "execution_count": null,
      "outputs": []
    },
    {
      "cell_type": "code",
      "metadata": {
        "id": "Mzg6biUoQjzk"
      },
      "source": [
        "# Instantiating GridSearchCV object\n",
        "\n",
        "gd_sr = GridSearchCV(estimator=LogReg,\n",
        "                     param_grid=grid_param,\n",
        "                     scoring='accuracy',\n",
        "                     cv=10,\n",
        "                     n_jobs=-1)"
      ],
      "execution_count": null,
      "outputs": []
    },
    {
      "cell_type": "code",
      "metadata": {
        "colab": {
          "base_uri": "https://localhost:8080/"
        },
        "id": "HUHFGEXSQ7lx",
        "outputId": "d5c9e775-6563-430d-9bbd-6b5247c2e86a"
      },
      "source": [
        "# Calling the fit method\n",
        "\n",
        "gd_sr.fit(X_train, y_train)"
      ],
      "execution_count": null,
      "outputs": [
        {
          "output_type": "stream",
          "text": [
            "/usr/local/lib/python3.7/dist-packages/sklearn/linear_model/_logistic.py:940: ConvergenceWarning: lbfgs failed to converge (status=1):\n",
            "STOP: TOTAL NO. of ITERATIONS REACHED LIMIT.\n",
            "\n",
            "Increase the number of iterations (max_iter) or scale the data as shown in:\n",
            "    https://scikit-learn.org/stable/modules/preprocessing.html\n",
            "Please also refer to the documentation for alternative solver options:\n",
            "    https://scikit-learn.org/stable/modules/linear_model.html#logistic-regression\n",
            "  extra_warning_msg=_LOGISTIC_SOLVER_CONVERGENCE_MSG)\n"
          ],
          "name": "stderr"
        },
        {
          "output_type": "execute_result",
          "data": {
            "text/plain": [
              "GridSearchCV(cv=10, error_score=nan,\n",
              "             estimator=LogisticRegression(C=1.0, class_weight=None, dual=False,\n",
              "                                          fit_intercept=True,\n",
              "                                          intercept_scaling=1, l1_ratio=None,\n",
              "                                          max_iter=100, multi_class='auto',\n",
              "                                          n_jobs=None, penalty='l2',\n",
              "                                          random_state=None, solver='lbfgs',\n",
              "                                          tol=0.0001, verbose=0,\n",
              "                                          warm_start=False),\n",
              "             iid='deprecated', n_jobs=-1,\n",
              "             param_grid={'C': array([1.00000000e+00, 2.78255940e+00, 7.74263683e+00, 2.15443469e+01,\n",
              "       5.99484250e+01, 1.66810054e+02, 4.64158883e+02, 1.29154967e+03,\n",
              "       3.59381366e+03, 1.00000000e+04]),\n",
              "                         'dual': [True, False], 'penalty': ['l1', 'l2']},\n",
              "             pre_dispatch='2*n_jobs', refit=True, return_train_score=False,\n",
              "             scoring='accuracy', verbose=0)"
            ]
          },
          "metadata": {
            "tags": []
          },
          "execution_count": 134
        }
      ]
    },
    {
      "cell_type": "code",
      "metadata": {
        "colab": {
          "base_uri": "https://localhost:8080/"
        },
        "id": "KjAvk06qRE2s",
        "outputId": "e9fa69be-b205-4d4e-b354-c4253cbb91f4"
      },
      "source": [
        "# Checking the parameters that return the highest accuracy\n",
        "\n",
        "best_parameters = gd_sr.best_params_\n",
        "print(best_parameters)"
      ],
      "execution_count": null,
      "outputs": [
        {
          "output_type": "stream",
          "text": [
            "{'C': 1291.5496650148827, 'dual': False, 'penalty': 'l2'}\n"
          ],
          "name": "stdout"
        }
      ]
    },
    {
      "cell_type": "code",
      "metadata": {
        "colab": {
          "base_uri": "https://localhost:8080/"
        },
        "id": "DMCRpUowRdBP",
        "outputId": "6400c7b6-7760-45ba-9f4c-60175bc85505"
      },
      "source": [
        "# Step 5: Finding the obtained accuracy\n",
        "\n",
        "best_result = gd_sr.best_score_\n",
        "print(best_result)\n"
      ],
      "execution_count": null,
      "outputs": [
        {
          "output_type": "stream",
          "text": [
            "0.6459096927120164\n"
          ],
          "name": "stdout"
        }
      ]
    },
    {
      "cell_type": "markdown",
      "metadata": {
        "id": "14Y1lxb-SEO6"
      },
      "source": [
        "After hyperparameter tuning, the accuracy score of the model want up from 63.1% to 64.5% "
      ]
    },
    {
      "cell_type": "markdown",
      "metadata": {
        "id": "uCSB_Di-Z7f2"
      },
      "source": [
        "### Checking for presence of heteroskedasticity using Residual plot"
      ]
    },
    {
      "cell_type": "code",
      "metadata": {
        "id": "wcWYqkrXT36G"
      },
      "source": [
        "# Obtaining the residuals for each observation\n",
        "\n",
        "residuals = np.subtract(y_pred, y_test)"
      ],
      "execution_count": null,
      "outputs": []
    },
    {
      "cell_type": "code",
      "metadata": {
        "colab": {
          "base_uri": "https://localhost:8080/",
          "height": 523
        },
        "id": "l45Ex-CnZ6-V",
        "outputId": "b3fadb06-328b-4f51-da90-910ed4c22a47"
      },
      "source": [
        "# Plotting the residual plot\n",
        "\n",
        "plt.figure(figsize = (10,8))\n",
        "sns.scatterplot(x = y_pred, y = residuals)\n",
        "plt.axhline(y= residuals.mean(), color='red', linewidth=1)\n",
        "plt.title('Residual plot', fontsize = 16)\n",
        "plt.xticks(fontsize = 14)\n",
        "plt.yticks(fontsize = 14)\n",
        "plt.xlabel('Residual', fontsize = 14)\n",
        "plt.ylabel('Fitted Values', fontsize = 14)\n",
        "plt.show()"
      ],
      "execution_count": null,
      "outputs": [
        {
          "output_type": "display_data",
          "data": {
            "image/png": "[encoded data removed]",
            "text/plain": [
              "<Figure size 720x576 with 1 Axes>"
            ]
          },
          "metadata": {
            "tags": [],
            "needs_background": "light"
          }
        }
      ]
    },
    {
      "cell_type": "markdown",
      "metadata": {
        "id": "CZw8Pn9rbTZo"
      },
      "source": [
        "From the plot we can see that the homoscedasticity assumption is not violated. The variances are uniform and not taking an increasing or decreasing trend.\n",
        "\n",
        "Bartlett's test can be used to confirm these results"
      ]
    },
    {
      "cell_type": "markdown",
      "metadata": {
        "id": "sgvTyyO8ScFe"
      },
      "source": [
        "### Testing for Heteroskedasticity using Bartlett's Test\n",
        "\n",
        "> Ho: Variances are homogenous\n",
        "\n",
        "> Ha: Variances are heterogenous"
      ]
    },
    {
      "cell_type": "code",
      "metadata": {
        "colab": {
          "base_uri": "https://localhost:8080/"
        },
        "id": "DqJVOzReUJQl",
        "outputId": "56f0dcdf-b11b-4e96-9f76-fb9b6b73c4df"
      },
      "source": [
        "# Performing the test\n",
        "\n",
        "import scipy as sc\n",
        "\n",
        "stat, p_value = sc.stats.bartlett(y_pred, residuals)\n",
        "\n",
        "# Obtaining the critical value\n",
        "\n",
        "dof = len(y_pred) - 1\n",
        "prob = 1 - p_value\n",
        "\n",
        "critical_value = sc.stats.chi2.ppf(prob, dof)\n",
        "\n",
        "print('Statistic:', stat)\n",
        "print('Critical value', critical_value)\n",
        "\n",
        "if stat > critical_value:\n",
        "  print('Reject null hypothesis')\n",
        "else:\n",
        "  print('Do not reject null hypothesis')\n",
        "\n"
      ],
      "execution_count": null,
      "outputs": [
        {
          "output_type": "stream",
          "text": [
            "Statistic: 605.3112370487237\n",
            "Critical value inf\n",
            "Do not reject null hypothesis\n"
          ],
          "name": "stdout"
        }
      ]
    },
    {
      "cell_type": "markdown",
      "metadata": {
        "id": "vS-Gz2KcVM40"
      },
      "source": [
        "Since the chi square statistic is less than the critical value, we will fail to reject null and conclude that the error variances are homogenous.\n",
        "\n",
        "Therefore there is no heteroskedasticity in our model"
      ]
    },
    {
      "cell_type": "markdown",
      "metadata": {
        "id": "XKgkMRNSla2x"
      },
      "source": [
        "## 9. Challenging the solution\n",
        "\n",
        "The solutions can be challenged in the following ways:\n",
        "\n",
        "- In order to perform an accurate prediction on the home and away scores, the polynomial regression algorithm is not a good algorithm to use. It gave very low accuracy scores. Furthermore, the label is not continuous but discrete which gives even a greater reason to not use polynomial regression algorithm. This was a classification problem so maybe Logistic Regression or Random Forest would have yielded better results\n",
        "\n",
        "- Instead of using a logistic model to predict whether the home team will lose, win or draw, algorithms such as Random Forest or SVM could be used to see if the accuracy of the model would improve.\n",
        "\n"
      ]
    },
    {
      "cell_type": "markdown",
      "metadata": {
        "id": "34IZI0JZVzE4"
      },
      "source": [
        "### Building a Model using Random Forest"
      ]
    },
    {
      "cell_type": "code",
      "metadata": {
        "colab": {
          "base_uri": "https://localhost:8080/"
        },
        "id": "_FJe4jAzV7LO",
        "outputId": "32867c73-6bc0-4cb0-9cde-d7feac45efd1"
      },
      "source": [
        "# Fitting our model\n",
        "\n",
        "from sklearn.ensemble import RandomForestClassifier\n",
        "\n",
        "rfm = RandomForestClassifier()\n",
        "\n",
        "rfm.fit(X_train, y_train)\n",
        "\n",
        "# Using our model to make a prediction\n",
        "\n",
        "y_pred = rfm.predict(X_test)\n",
        "\n",
        "# Accuracy of the model\n",
        "\n",
        "accuracy_score(y_test, y_pred)\n"
      ],
      "execution_count": null,
      "outputs": [
        {
          "output_type": "execute_result",
          "data": {
            "text/plain": [
              "0.7848026120510537"
            ]
          },
          "metadata": {
            "tags": []
          },
          "execution_count": 144
        }
      ]
    },
    {
      "cell_type": "markdown",
      "metadata": {
        "id": "8MFtbsSybuO2"
      },
      "source": [
        "Using the random Forest Method 78% model accuracy was attained. The results of a match would be predicted correctly at 78% accuracy using this model."
      ]
    },
    {
      "cell_type": "markdown",
      "metadata": {
        "id": "fDQU-w81cOnX"
      },
      "source": [
        "### Building a model using Support Vector Machine"
      ]
    },
    {
      "cell_type": "code",
      "metadata": {
        "colab": {
          "base_uri": "https://localhost:8080/"
        },
        "id": "LqDE1P4McNxh",
        "outputId": "306ebc6a-86e7-462d-a945-c5049544410d"
      },
      "source": [
        "# Fitting our model\n",
        "\n",
        "from sklearn.svm import SVC\n",
        "\n",
        "svm = SVC()\n",
        "\n",
        "svm.fit(X_train, y_train)\n",
        "\n",
        "# Making predictions using our model\n",
        "\n",
        "y_pred = svm.predict(X_test)\n",
        "\n",
        "# Getting the accuracy score\n",
        "\n",
        "accuracy_score(y_test, y_pred)"
      ],
      "execution_count": null,
      "outputs": [
        {
          "output_type": "execute_result",
          "data": {
            "text/plain": [
              "0.7022855446720095"
            ]
          },
          "metadata": {
            "tags": []
          },
          "execution_count": 145
        }
      ]
    },
    {
      "cell_type": "markdown",
      "metadata": {
        "id": "8R6JqMK2eNHj"
      },
      "source": [
        "Using the SVM algorithm, the accuracy was at 70.22%. The results of a match would be predicted correctly at 70.22% accuracy using this model."
      ]
    },
    {
      "cell_type": "markdown",
      "metadata": {
        "id": "2Lu6dhjFtbXf"
      },
      "source": [
        "The Random Forest model performed the best, followed by the SVM model and lastly the Logistic Regression model"
      ]
    }
  ]
}